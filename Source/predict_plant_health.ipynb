{
 "cells": [
  {
   "cell_type": "markdown",
   "metadata": {},
   "source": [
    "## **Predicting Plant Health Using Machine Learning Models**\n"
   ]
  },
  {
   "cell_type": "markdown",
   "metadata": {},
   "source": [
    "- In this notebook, I aim to develop a predictive model to monitor and analyze plant health based on various environmental parameters. This initiative is a part of the smart planter project which is designed to assist both home gardeners and farmers in optimizing their yield and minimizing waste. The predictive model will utilize machine learning algorithms to analyze data from various sensors and predict the health of the plant."
   ]
  },
  {
   "cell_type": "markdown",
   "metadata": {},
   "source": [
    "### **Dataset Description**\n",
    "\n",
    "- The dataset contains the following attributes:\n",
    "\n",
    "   - **Humidity (%):** The percentage of water vapor present in the air surrounding the plants.\n",
    "   - **Nitrogen Levels (mg/kg):** The concentration of nitrogen in the soil, measured in milligrams per kilogram.\n",
    "   - **Ambient Temperature (°C):** The surrounding temperature measured in degrees Celsius.\n",
    "   - **Presence of Sunlight:** A binary attribute indicating whether the plant is exposed to sunlight.\n",
    "   - **Plant Health:** The target variable indicating the health status of the plant."
   ]
  },
  {
   "cell_type": "code",
   "execution_count": 1,
   "metadata": {},
   "outputs": [],
   "source": [
    "# Importing Necessary Libraries\n",
    "import pandas as pd\n",
    "import numpy as np\n",
    "import random\n",
    "import seaborn as sns\n",
    "import matplotlib.pyplot as plt\n",
    "from sklearn.model_selection import train_test_split\n",
    "from sklearn.preprocessing import StandardScaler, LabelEncoder\n",
    "from sklearn.metrics import accuracy_score, confusion_matrix, recall_score,classification_report, roc_auc_score,ConfusionMatrixDisplay\n",
    "from sklearn.metrics import roc_curve"
   ]
  },
  {
   "cell_type": "markdown",
   "metadata": {},
   "source": [
    "### **Data Simulation Function: generate_data**\n",
    "\n",
    "- This function simulates the generation of a dataset with 10000 data points, which are equally distributed across three categories: 'Healthy', 'Moderate', and 'Unhealthy'. These categories represent different states of plant health. The attributes for each data point include 'Humidity (%)', 'Nitrogen Levels (mg/kg)', 'Ambient Temperature (°C)', 'Presence of Sunlight', and 'Plant Health'. The values of these attributes are generated based on certain conditions defined for each category to simulate real-world scenarios.\n",
    "\n",
    "- **Parameters**\n",
    "   - n: The total number of data points to be generated. It is set to 10000 by default.\n",
    "- **Returns**\n",
    "   - df: A shuffled pandas DataFrame containing the generated data points with their respective attributes."
   ]
  },
  {
   "cell_type": "code",
   "execution_count": 2,
   "metadata": {},
   "outputs": [],
   "source": [
    "# Number of data points\n",
    "n = 10000\n",
    "\n",
    "# Simulate data collection\n",
    "def generate_data(n):\n",
    "    data = {\n",
    "        'Humidity (%)': [],\n",
    "        'Nitrogen Levels (mg/kg)': [],\n",
    "        'Ambient Temperature (°C)': [],\n",
    "        'Presence of Sunlight': [],\n",
    "        'Plant Health': []\n",
    "    }\n",
    "    \n",
    "    # Generate a third of the data for each category\n",
    "    for category in ['Healthy', 'Moderate', 'Unhealthy']:\n",
    "        for _ in range(n // 3):\n",
    "            if category == 'Healthy':\n",
    "                data['Humidity (%)'].append(random.uniform(50, 70))\n",
    "                data['Nitrogen Levels (mg/kg)'].append(random.uniform(100, 150))\n",
    "                data['Ambient Temperature (°C)'].append(random.uniform(15, 25))\n",
    "                data['Presence of Sunlight'].append(1)\n",
    "                data['Plant Health'].append('Healthy')\n",
    "            elif category == 'Moderate':\n",
    "                data['Humidity (%)'].append(random.uniform(40, 80))\n",
    "                data['Nitrogen Levels (mg/kg)'].append(random.uniform(80, 170))\n",
    "                data['Ambient Temperature (°C)'].append(random.uniform(10, 30))\n",
    "                data['Presence of Sunlight'].append(random.choice([0, 1]))\n",
    "                data['Plant Health'].append('Moderate')\n",
    "            else:\n",
    "                data['Humidity (%)'].append(random.uniform(0, 100))\n",
    "                data['Nitrogen Levels (mg/kg)'].append(random.uniform(0, 200))\n",
    "                data['Ambient Temperature (°C)'].append(random.uniform(-10, 40))\n",
    "                data['Presence of Sunlight'].append(random.choice([0, 1]))\n",
    "                data['Plant Health'].append('Unhealthy')\n",
    "    \n",
    "    # Create a DataFrame and shuffle it\n",
    "    df = pd.DataFrame(data)\n",
    "    df = df.sample(frac=1).reset_index(drop=True)\n",
    "    \n",
    "    return df\n",
    "\n",
    "df = generate_data(n)"
   ]
  },
  {
   "cell_type": "code",
   "execution_count": 3,
   "metadata": {},
   "outputs": [
    {
     "data": {
      "text/html": [
       "<div>\n",
       "<style scoped>\n",
       "    .dataframe tbody tr th:only-of-type {\n",
       "        vertical-align: middle;\n",
       "    }\n",
       "\n",
       "    .dataframe tbody tr th {\n",
       "        vertical-align: top;\n",
       "    }\n",
       "\n",
       "    .dataframe thead th {\n",
       "        text-align: right;\n",
       "    }\n",
       "</style>\n",
       "<table border=\"1\" class=\"dataframe\">\n",
       "  <thead>\n",
       "    <tr style=\"text-align: right;\">\n",
       "      <th></th>\n",
       "      <th>Humidity (%)</th>\n",
       "      <th>Nitrogen Levels (mg/kg)</th>\n",
       "      <th>Ambient Temperature (°C)</th>\n",
       "      <th>Presence of Sunlight</th>\n",
       "      <th>Plant Health</th>\n",
       "    </tr>\n",
       "  </thead>\n",
       "  <tbody>\n",
       "    <tr>\n",
       "      <th>0</th>\n",
       "      <td>30.106282</td>\n",
       "      <td>155.898765</td>\n",
       "      <td>31.072510</td>\n",
       "      <td>1</td>\n",
       "      <td>Unhealthy</td>\n",
       "    </tr>\n",
       "    <tr>\n",
       "      <th>1</th>\n",
       "      <td>50.553760</td>\n",
       "      <td>167.773776</td>\n",
       "      <td>19.728064</td>\n",
       "      <td>0</td>\n",
       "      <td>Unhealthy</td>\n",
       "    </tr>\n",
       "    <tr>\n",
       "      <th>2</th>\n",
       "      <td>88.266709</td>\n",
       "      <td>170.010138</td>\n",
       "      <td>0.148891</td>\n",
       "      <td>1</td>\n",
       "      <td>Unhealthy</td>\n",
       "    </tr>\n",
       "    <tr>\n",
       "      <th>3</th>\n",
       "      <td>57.463005</td>\n",
       "      <td>107.981662</td>\n",
       "      <td>19.433536</td>\n",
       "      <td>1</td>\n",
       "      <td>Healthy</td>\n",
       "    </tr>\n",
       "    <tr>\n",
       "      <th>4</th>\n",
       "      <td>56.469256</td>\n",
       "      <td>169.818744</td>\n",
       "      <td>25.361687</td>\n",
       "      <td>1</td>\n",
       "      <td>Moderate</td>\n",
       "    </tr>\n",
       "    <tr>\n",
       "      <th>5</th>\n",
       "      <td>58.999164</td>\n",
       "      <td>106.740579</td>\n",
       "      <td>21.320496</td>\n",
       "      <td>1</td>\n",
       "      <td>Healthy</td>\n",
       "    </tr>\n",
       "    <tr>\n",
       "      <th>6</th>\n",
       "      <td>17.101490</td>\n",
       "      <td>157.255390</td>\n",
       "      <td>21.392791</td>\n",
       "      <td>0</td>\n",
       "      <td>Unhealthy</td>\n",
       "    </tr>\n",
       "    <tr>\n",
       "      <th>7</th>\n",
       "      <td>55.536050</td>\n",
       "      <td>9.875471</td>\n",
       "      <td>36.518416</td>\n",
       "      <td>0</td>\n",
       "      <td>Unhealthy</td>\n",
       "    </tr>\n",
       "    <tr>\n",
       "      <th>8</th>\n",
       "      <td>41.025321</td>\n",
       "      <td>147.207273</td>\n",
       "      <td>26.866109</td>\n",
       "      <td>0</td>\n",
       "      <td>Moderate</td>\n",
       "    </tr>\n",
       "    <tr>\n",
       "      <th>9</th>\n",
       "      <td>36.720337</td>\n",
       "      <td>66.655274</td>\n",
       "      <td>34.696145</td>\n",
       "      <td>0</td>\n",
       "      <td>Unhealthy</td>\n",
       "    </tr>\n",
       "  </tbody>\n",
       "</table>\n",
       "</div>"
      ],
      "text/plain": [
       "   Humidity (%)  Nitrogen Levels (mg/kg)  Ambient Temperature (°C)  \\\n",
       "0     30.106282               155.898765                 31.072510   \n",
       "1     50.553760               167.773776                 19.728064   \n",
       "2     88.266709               170.010138                  0.148891   \n",
       "3     57.463005               107.981662                 19.433536   \n",
       "4     56.469256               169.818744                 25.361687   \n",
       "5     58.999164               106.740579                 21.320496   \n",
       "6     17.101490               157.255390                 21.392791   \n",
       "7     55.536050                 9.875471                 36.518416   \n",
       "8     41.025321               147.207273                 26.866109   \n",
       "9     36.720337                66.655274                 34.696145   \n",
       "\n",
       "   Presence of Sunlight Plant Health  \n",
       "0                     1    Unhealthy  \n",
       "1                     0    Unhealthy  \n",
       "2                     1    Unhealthy  \n",
       "3                     1      Healthy  \n",
       "4                     1     Moderate  \n",
       "5                     1      Healthy  \n",
       "6                     0    Unhealthy  \n",
       "7                     0    Unhealthy  \n",
       "8                     0     Moderate  \n",
       "9                     0    Unhealthy  "
      ]
     },
     "execution_count": 3,
     "metadata": {},
     "output_type": "execute_result"
    }
   ],
   "source": [
    "df.head(10)"
   ]
  },
  {
   "cell_type": "code",
   "execution_count": 4,
   "metadata": {},
   "outputs": [],
   "source": [
    "# Save to CSV\n",
    "#df.to_csv('plant_health_dataset.csv', index=False)"
   ]
  },
  {
   "cell_type": "markdown",
   "metadata": {},
   "source": [
    "### **Loading the Dataset**"
   ]
  },
  {
   "cell_type": "code",
   "execution_count": 5,
   "metadata": {},
   "outputs": [],
   "source": [
    "# Read CSV\n",
    "df = pd.read_csv('plant_health_dataset.csv')"
   ]
  },
  {
   "cell_type": "markdown",
   "metadata": {},
   "source": [
    "### **Data Preprocessing**\n",
    "- Perform necessary data preprocessing steps here\n",
    "- For instance, handling missing values, encoding categorical variables, etc."
   ]
  },
  {
   "cell_type": "code",
   "execution_count": 6,
   "metadata": {},
   "outputs": [],
   "source": [
    "# Handle the missing data if exists\n",
    "df = df.dropna()"
   ]
  },
  {
   "cell_type": "code",
   "execution_count": 7,
   "metadata": {},
   "outputs": [],
   "source": [
    "# Encode the categorical data\n",
    "le = LabelEncoder()\n",
    "df['Plant Health'] = le.fit_transform(df['Plant Health'])"
   ]
  },
  {
   "cell_type": "markdown",
   "metadata": {},
   "source": [
    "### **Exploratory Data Analysis**\n",
    "- Perform exploratory data analysis here\n",
    "- For instance, using seaborn or matplotlib to visualize the data"
   ]
  },
  {
   "cell_type": "code",
   "execution_count": 8,
   "metadata": {},
   "outputs": [
    {
     "data": {
      "text/plain": [
       "<Axes: >"
      ]
     },
     "execution_count": 8,
     "metadata": {},
     "output_type": "execute_result"
    },
    {
     "data": {
      "image/png": "[encoded data removed]",
      "text/plain": [
       "<Figure size 640x480 with 2 Axes>"
      ]
     },
     "metadata": {},
     "output_type": "display_data"
    }
   ],
   "source": [
    "# Visualize the correlation\n",
    "sns.heatmap(df.corr(), cmap=\"YlGnBu\", annot=True)"
   ]
  },
  {
   "cell_type": "code",
   "execution_count": 9,
   "metadata": {},
   "outputs": [
    {
     "data": {
      "image/png": "[encoded data removed]",
      "text/plain": [
       "<Figure size 640x480 with 1 Axes>"
      ]
     },
     "metadata": {},
     "output_type": "display_data"
    }
   ],
   "source": [
    "# Create a temporary series with replaced values\n",
    "temp_series = df['Plant Health'].replace({0: 'Healthy', 1: 'Moderate', 2: 'Unhealthy'})\n",
    "\n",
    "# Plot the distribution of plant health statuses\n",
    "sns.countplot(x=temp_series)\n",
    "plt.title('Distribution of Plant Health Statuses')\n",
    "plt.show()"
   ]
  },
  {
   "cell_type": "markdown",
   "metadata": {},
   "source": [
    "### **Model Development**\n",
    "- In this section, I will develop multiple machine learning models and will compare the results of predict plant health based on the features provided."
   ]
  },
  {
   "cell_type": "markdown",
   "metadata": {},
   "source": [
    "#### **Splitting & Scaling the Data**\n",
    "- Split the dataset into the 80 percent training and 20 percent testing"
   ]
  },
  {
   "cell_type": "code",
   "execution_count": 10,
   "metadata": {},
   "outputs": [],
   "source": [
    "# Split the data into training and testing sets\n",
    "X = df.drop('Plant Health', axis=1)\n",
    "y = df['Plant Health']\n",
    "X_train, X_test, y_train, y_test = train_test_split(X, y, test_size=0.2, random_state=42)"
   ]
  },
  {
   "cell_type": "markdown",
   "metadata": {},
   "source": [
    "- Feature Scaling\n"
   ]
  },
  {
   "cell_type": "code",
   "execution_count": 11,
   "metadata": {},
   "outputs": [],
   "source": [
    "# Normalize the feature values\n",
    "scaler = StandardScaler()\n",
    "X_train = scaler.fit_transform(X_train)\n",
    "X_test = scaler.transform(X_test)"
   ]
  },
  {
   "cell_type": "markdown",
   "metadata": {},
   "source": [
    "#### **Model 1: Building Neural Networks**\n",
    "\n",
    "- In this section, I will be developing a Neural Network model to predict plant health based on various environmental factors. Neural Networks are a category of algorithms modeled loosely after the human brain. They are designed to recognize patterns in complex data, and with multiple layers, they can capture intricate relationships in the dataset.\n",
    "\n",
    "- I will start by setting up a neural network structure with several layers, including input layers, hidden layers, and an output layer. The activation functions, dropout rates, and other parameters will be fine-tuned to optimize the model's performance. I will also be implementing techniques such as batch normalization to stabilize and possibly accelerate the learning process.\n",
    "\n",
    "- After building the model, I will compile it using an appropriate optimizer and loss function, followed by training the model with our training dataset. I will also validate the model using a separate validation dataset to avoid overfitting and to ensure that our model generalizes well to new, unseen data.\n",
    "\n",
    "- Finally, I will evaluate the model's performance using various metrics such as accuracy and loss over the epochs, and visualize these metrics to analyze the model's learning curve and to make necessary adjustments for improvement."
   ]
  },
  {
   "cell_type": "code",
   "execution_count": 12,
   "metadata": {},
   "outputs": [],
   "source": [
    "# Import required libraries for neural networks\n",
    "from keras.models import Sequential\n",
    "from keras.layers import Dropout, BatchNormalization, Dense\n",
    "from keras.callbacks import EarlyStopping,ReduceLROnPlateau\n",
    "from keras.optimizers import Nadam"
   ]
  },
  {
   "cell_type": "code",
   "execution_count": 13,
   "metadata": {},
   "outputs": [],
   "source": [
    "# Build a more powerful neural network using a library like TensorFlow\n",
    "model = Sequential([\n",
    "    Dense(256, activation='relu', input_shape=(X_train.shape[1],), kernel_regularizer='l2'),\n",
    "    Dropout(0.3),\n",
    "    BatchNormalization(),\n",
    "    \n",
    "    Dense(128, activation='relu', kernel_regularizer='l2'),\n",
    "    Dropout(0.3),\n",
    "    BatchNormalization(),\n",
    "    \n",
    "    Dense(64, activation='relu', kernel_regularizer='l2'),\n",
    "    Dropout(0.3),\n",
    "    BatchNormalization(),\n",
    "    \n",
    "    Dense(3, activation='softmax')\n",
    "])\n",
    "\n",
    "# Compile the model with an advanced optimizer\n",
    "optimizer = Nadam(learning_rate=0.001)\n",
    "model.compile(optimizer=optimizer, loss='sparse_categorical_crossentropy', metrics=['accuracy'])\n",
    "\n",
    "# Implement early stopping and learning rate reduction callbacks\n",
    "early_stopping = EarlyStopping(monitor='val_loss', patience=15, restore_best_weights=True)\n",
    "reduce_lr = ReduceLROnPlateau(monitor='val_loss', factor=0.2, patience=5, min_lr=0.0001)"
   ]
  },
  {
   "cell_type": "code",
   "execution_count": 14,
   "metadata": {},
   "outputs": [
    {
     "name": "stdout",
     "output_type": "stream",
     "text": [
      "Epoch 1/300\n",
      "100/100 [==============================] - 7s 10ms/step - loss: 2.9538 - accuracy: 0.7153 - val_loss: 2.6747 - val_accuracy: 0.4656 - lr: 0.0010\n",
      "Epoch 2/300\n",
      "100/100 [==============================] - 1s 8ms/step - loss: 1.8994 - accuracy: 0.8278 - val_loss: 1.9760 - val_accuracy: 0.4375 - lr: 0.0010\n",
      "Epoch 3/300\n",
      "100/100 [==============================] - 1s 9ms/step - loss: 1.2925 - accuracy: 0.8494 - val_loss: 1.3462 - val_accuracy: 0.6513 - lr: 0.0010\n",
      "Epoch 4/300\n",
      "100/100 [==============================] - 1s 10ms/step - loss: 0.9210 - accuracy: 0.8545 - val_loss: 0.9669 - val_accuracy: 0.7625 - lr: 0.0010\n",
      "Epoch 5/300\n",
      "100/100 [==============================] - 1s 8ms/step - loss: 0.7062 - accuracy: 0.8675 - val_loss: 0.7353 - val_accuracy: 0.8106 - lr: 0.0010\n",
      "Epoch 6/300\n",
      "100/100 [==============================] - 1s 9ms/step - loss: 0.5879 - accuracy: 0.8704 - val_loss: 0.5527 - val_accuracy: 0.8750 - lr: 0.0010\n",
      "Epoch 7/300\n",
      "100/100 [==============================] - 1s 7ms/step - loss: 0.5095 - accuracy: 0.8759 - val_loss: 0.4808 - val_accuracy: 0.8750 - lr: 0.0010\n",
      "Epoch 8/300\n",
      "100/100 [==============================] - 1s 7ms/step - loss: 0.4745 - accuracy: 0.8737 - val_loss: 0.4515 - val_accuracy: 0.8687 - lr: 0.0010\n",
      "Epoch 9/300\n",
      "100/100 [==============================] - 1s 7ms/step - loss: 0.4350 - accuracy: 0.8848 - val_loss: 0.4065 - val_accuracy: 0.8869 - lr: 0.0010\n",
      "Epoch 10/300\n",
      "100/100 [==============================] - 1s 7ms/step - loss: 0.4023 - accuracy: 0.8862 - val_loss: 0.3995 - val_accuracy: 0.8806 - lr: 0.0010\n",
      "Epoch 11/300\n",
      "100/100 [==============================] - 1s 7ms/step - loss: 0.3879 - accuracy: 0.8934 - val_loss: 0.4027 - val_accuracy: 0.8769 - lr: 0.0010\n",
      "Epoch 12/300\n",
      "100/100 [==============================] - 1s 8ms/step - loss: 0.3803 - accuracy: 0.8892 - val_loss: 0.3319 - val_accuracy: 0.9175 - lr: 0.0010\n",
      "Epoch 13/300\n",
      "100/100 [==============================] - 1s 8ms/step - loss: 0.3900 - accuracy: 0.8845 - val_loss: 0.3195 - val_accuracy: 0.9181 - lr: 0.0010\n",
      "Epoch 14/300\n",
      "100/100 [==============================] - 1s 10ms/step - loss: 0.3720 - accuracy: 0.8984 - val_loss: 0.3251 - val_accuracy: 0.9119 - lr: 0.0010\n",
      "Epoch 15/300\n",
      "100/100 [==============================] - 1s 10ms/step - loss: 0.3678 - accuracy: 0.8981 - val_loss: 0.3606 - val_accuracy: 0.9000 - lr: 0.0010\n",
      "Epoch 16/300\n",
      "100/100 [==============================] - 1s 10ms/step - loss: 0.3608 - accuracy: 0.9001 - val_loss: 0.2938 - val_accuracy: 0.9331 - lr: 0.0010\n",
      "Epoch 17/300\n",
      "100/100 [==============================] - 1s 9ms/step - loss: 0.3640 - accuracy: 0.9005 - val_loss: 0.2987 - val_accuracy: 0.9250 - lr: 0.0010\n",
      "Epoch 18/300\n",
      "100/100 [==============================] - 1s 8ms/step - loss: 0.3583 - accuracy: 0.9026 - val_loss: 0.3255 - val_accuracy: 0.9125 - lr: 0.0010\n",
      "Epoch 19/300\n",
      "100/100 [==============================] - 1s 9ms/step - loss: 0.3552 - accuracy: 0.9009 - val_loss: 0.2950 - val_accuracy: 0.9406 - lr: 0.0010\n",
      "Epoch 20/300\n",
      "100/100 [==============================] - 1s 9ms/step - loss: 0.3504 - accuracy: 0.9037 - val_loss: 0.3168 - val_accuracy: 0.9187 - lr: 0.0010\n",
      "Epoch 21/300\n",
      "100/100 [==============================] - 1s 9ms/step - loss: 0.3483 - accuracy: 0.9055 - val_loss: 0.2988 - val_accuracy: 0.9356 - lr: 0.0010\n",
      "Epoch 22/300\n",
      "100/100 [==============================] - 1s 9ms/step - loss: 0.3277 - accuracy: 0.9167 - val_loss: 0.2691 - val_accuracy: 0.9369 - lr: 2.0000e-04\n",
      "Epoch 23/300\n",
      "100/100 [==============================] - 1s 9ms/step - loss: 0.3034 - accuracy: 0.9219 - val_loss: 0.2627 - val_accuracy: 0.9381 - lr: 2.0000e-04\n",
      "Epoch 24/300\n",
      "100/100 [==============================] - 1s 9ms/step - loss: 0.3018 - accuracy: 0.9233 - val_loss: 0.2618 - val_accuracy: 0.9394 - lr: 2.0000e-04\n",
      "Epoch 25/300\n",
      "100/100 [==============================] - 1s 8ms/step - loss: 0.2974 - accuracy: 0.9261 - val_loss: 0.2558 - val_accuracy: 0.9375 - lr: 2.0000e-04\n",
      "Epoch 26/300\n",
      "100/100 [==============================] - 1s 8ms/step - loss: 0.2883 - accuracy: 0.9267 - val_loss: 0.2494 - val_accuracy: 0.9400 - lr: 2.0000e-04\n",
      "Epoch 27/300\n",
      "100/100 [==============================] - 1s 7ms/step - loss: 0.2824 - accuracy: 0.9295 - val_loss: 0.2473 - val_accuracy: 0.9406 - lr: 2.0000e-04\n",
      "Epoch 28/300\n",
      "100/100 [==============================] - 1s 6ms/step - loss: 0.2850 - accuracy: 0.9270 - val_loss: 0.2540 - val_accuracy: 0.9356 - lr: 2.0000e-04\n",
      "Epoch 29/300\n",
      "100/100 [==============================] - 1s 5ms/step - loss: 0.2731 - accuracy: 0.9336 - val_loss: 0.2437 - val_accuracy: 0.9413 - lr: 2.0000e-04\n",
      "Epoch 30/300\n",
      "100/100 [==============================] - 1s 7ms/step - loss: 0.2782 - accuracy: 0.9298 - val_loss: 0.2404 - val_accuracy: 0.9413 - lr: 2.0000e-04\n",
      "Epoch 31/300\n",
      "100/100 [==============================] - 0s 5ms/step - loss: 0.2734 - accuracy: 0.9305 - val_loss: 0.2428 - val_accuracy: 0.9425 - lr: 2.0000e-04\n",
      "Epoch 32/300\n",
      "100/100 [==============================] - 0s 5ms/step - loss: 0.2657 - accuracy: 0.9336 - val_loss: 0.2424 - val_accuracy: 0.9413 - lr: 2.0000e-04\n",
      "Epoch 33/300\n",
      "100/100 [==============================] - 1s 7ms/step - loss: 0.2683 - accuracy: 0.9348 - val_loss: 0.2367 - val_accuracy: 0.9425 - lr: 2.0000e-04\n",
      "Epoch 34/300\n",
      "100/100 [==============================] - 1s 6ms/step - loss: 0.2689 - accuracy: 0.9303 - val_loss: 0.2367 - val_accuracy: 0.9413 - lr: 2.0000e-04\n",
      "Epoch 35/300\n",
      "100/100 [==============================] - 1s 7ms/step - loss: 0.2700 - accuracy: 0.9275 - val_loss: 0.2419 - val_accuracy: 0.9406 - lr: 2.0000e-04\n",
      "Epoch 36/300\n",
      "100/100 [==============================] - 1s 5ms/step - loss: 0.2611 - accuracy: 0.9344 - val_loss: 0.2356 - val_accuracy: 0.9431 - lr: 2.0000e-04\n",
      "Epoch 37/300\n",
      "100/100 [==============================] - 1s 8ms/step - loss: 0.2634 - accuracy: 0.9317 - val_loss: 0.2347 - val_accuracy: 0.9431 - lr: 2.0000e-04\n",
      "Epoch 38/300\n",
      "100/100 [==============================] - 1s 7ms/step - loss: 0.2696 - accuracy: 0.9305 - val_loss: 0.2400 - val_accuracy: 0.9400 - lr: 2.0000e-04\n",
      "Epoch 39/300\n",
      "100/100 [==============================] - 1s 6ms/step - loss: 0.2700 - accuracy: 0.9314 - val_loss: 0.2338 - val_accuracy: 0.9438 - lr: 2.0000e-04\n",
      "Epoch 40/300\n",
      "100/100 [==============================] - 1s 7ms/step - loss: 0.2646 - accuracy: 0.9328 - val_loss: 0.2335 - val_accuracy: 0.9438 - lr: 2.0000e-04\n",
      "Epoch 41/300\n",
      "100/100 [==============================] - 1s 7ms/step - loss: 0.2562 - accuracy: 0.9344 - val_loss: 0.2279 - val_accuracy: 0.9444 - lr: 2.0000e-04\n",
      "Epoch 42/300\n",
      "100/100 [==============================] - 1s 6ms/step - loss: 0.2686 - accuracy: 0.9306 - val_loss: 0.2349 - val_accuracy: 0.9419 - lr: 2.0000e-04\n",
      "Epoch 43/300\n",
      "100/100 [==============================] - 1s 9ms/step - loss: 0.2621 - accuracy: 0.9342 - val_loss: 0.2283 - val_accuracy: 0.9444 - lr: 2.0000e-04\n",
      "Epoch 44/300\n",
      "100/100 [==============================] - 1s 8ms/step - loss: 0.2680 - accuracy: 0.9311 - val_loss: 0.2390 - val_accuracy: 0.9413 - lr: 2.0000e-04\n",
      "Epoch 45/300\n",
      "100/100 [==============================] - 1s 9ms/step - loss: 0.2564 - accuracy: 0.9344 - val_loss: 0.2394 - val_accuracy: 0.9381 - lr: 2.0000e-04\n",
      "Epoch 46/300\n",
      "100/100 [==============================] - 1s 7ms/step - loss: 0.2595 - accuracy: 0.9339 - val_loss: 0.2312 - val_accuracy: 0.9419 - lr: 2.0000e-04\n",
      "Epoch 47/300\n",
      "100/100 [==============================] - 1s 9ms/step - loss: 0.2531 - accuracy: 0.9372 - val_loss: 0.2267 - val_accuracy: 0.9456 - lr: 1.0000e-04\n",
      "Epoch 48/300\n",
      "100/100 [==============================] - 1s 7ms/step - loss: 0.2464 - accuracy: 0.9389 - val_loss: 0.2253 - val_accuracy: 0.9444 - lr: 1.0000e-04\n",
      "Epoch 49/300\n",
      "100/100 [==============================] - 1s 9ms/step - loss: 0.2480 - accuracy: 0.9380 - val_loss: 0.2227 - val_accuracy: 0.9431 - lr: 1.0000e-04\n",
      "Epoch 50/300\n",
      "100/100 [==============================] - 1s 8ms/step - loss: 0.2532 - accuracy: 0.9348 - val_loss: 0.2263 - val_accuracy: 0.9438 - lr: 1.0000e-04\n",
      "Epoch 51/300\n",
      "100/100 [==============================] - 1s 9ms/step - loss: 0.2529 - accuracy: 0.9367 - val_loss: 0.2167 - val_accuracy: 0.9481 - lr: 1.0000e-04\n",
      "Epoch 52/300\n",
      "100/100 [==============================] - 1s 9ms/step - loss: 0.2531 - accuracy: 0.9359 - val_loss: 0.2258 - val_accuracy: 0.9438 - lr: 1.0000e-04\n",
      "Epoch 53/300\n",
      "100/100 [==============================] - 1s 9ms/step - loss: 0.2468 - accuracy: 0.9364 - val_loss: 0.2221 - val_accuracy: 0.9456 - lr: 1.0000e-04\n",
      "Epoch 54/300\n",
      "100/100 [==============================] - 1s 8ms/step - loss: 0.2496 - accuracy: 0.9380 - val_loss: 0.2258 - val_accuracy: 0.9431 - lr: 1.0000e-04\n",
      "Epoch 55/300\n",
      "100/100 [==============================] - 1s 8ms/step - loss: 0.2504 - accuracy: 0.9348 - val_loss: 0.2229 - val_accuracy: 0.9456 - lr: 1.0000e-04\n",
      "Epoch 56/300\n",
      "100/100 [==============================] - 1s 9ms/step - loss: 0.2491 - accuracy: 0.9375 - val_loss: 0.2233 - val_accuracy: 0.9450 - lr: 1.0000e-04\n",
      "Epoch 57/300\n",
      "100/100 [==============================] - 1s 9ms/step - loss: 0.2488 - accuracy: 0.9380 - val_loss: 0.2217 - val_accuracy: 0.9450 - lr: 1.0000e-04\n",
      "Epoch 58/300\n",
      "100/100 [==============================] - 1s 9ms/step - loss: 0.2465 - accuracy: 0.9381 - val_loss: 0.2181 - val_accuracy: 0.9488 - lr: 1.0000e-04\n",
      "Epoch 59/300\n",
      "100/100 [==============================] - 1s 9ms/step - loss: 0.2501 - accuracy: 0.9361 - val_loss: 0.2230 - val_accuracy: 0.9438 - lr: 1.0000e-04\n",
      "Epoch 60/300\n",
      "100/100 [==============================] - 1s 10ms/step - loss: 0.2489 - accuracy: 0.9358 - val_loss: 0.2228 - val_accuracy: 0.9444 - lr: 1.0000e-04\n",
      "Epoch 61/300\n",
      "100/100 [==============================] - 1s 9ms/step - loss: 0.2430 - accuracy: 0.9389 - val_loss: 0.2230 - val_accuracy: 0.9456 - lr: 1.0000e-04\n",
      "Epoch 62/300\n",
      "100/100 [==============================] - 1s 9ms/step - loss: 0.2478 - accuracy: 0.9353 - val_loss: 0.2197 - val_accuracy: 0.9469 - lr: 1.0000e-04\n",
      "Epoch 63/300\n",
      "100/100 [==============================] - 1s 8ms/step - loss: 0.2474 - accuracy: 0.9356 - val_loss: 0.2181 - val_accuracy: 0.9469 - lr: 1.0000e-04\n",
      "Epoch 64/300\n",
      "100/100 [==============================] - 1s 8ms/step - loss: 0.2466 - accuracy: 0.9359 - val_loss: 0.2169 - val_accuracy: 0.9481 - lr: 1.0000e-04\n",
      "Epoch 65/300\n",
      "100/100 [==============================] - 1s 9ms/step - loss: 0.2456 - accuracy: 0.9372 - val_loss: 0.2213 - val_accuracy: 0.9431 - lr: 1.0000e-04\n",
      "Epoch 66/300\n",
      "100/100 [==============================] - 1s 8ms/step - loss: 0.2450 - accuracy: 0.9370 - val_loss: 0.2178 - val_accuracy: 0.9456 - lr: 1.0000e-04\n"
     ]
    }
   ],
   "source": [
    "# Train the model\n",
    "history = model.fit(X_train, y_train, epochs=300, batch_size=64, validation_split=0.2, callbacks=[early_stopping, reduce_lr])"
   ]
  },
  {
   "cell_type": "code",
   "execution_count": 15,
   "metadata": {},
   "outputs": [
    {
     "data": {
      "image/png": "[encoded data removed]",
      "text/plain": [
       "<Figure size 1500x500 with 1 Axes>"
      ]
     },
     "metadata": {},
     "output_type": "display_data"
    }
   ],
   "source": [
    "# Plot training & validation accuracy values\n",
    "plt.figure(figsize=(15, 5))\n",
    "plt.subplot(1, 2, 1)\n",
    "plt.plot(history.history['accuracy'])\n",
    "plt.plot(history.history['val_accuracy'])\n",
    "plt.title('Model accuracy')\n",
    "plt.ylabel('Accuracy')\n",
    "plt.xlabel('Epoch')\n",
    "plt.legend(['Train', 'Validation'], loc='upper left')\n",
    "plt.tight_layout()\n",
    "plt.show()"
   ]
  },
  {
   "cell_type": "code",
   "execution_count": 16,
   "metadata": {},
   "outputs": [
    {
     "name": "stdout",
     "output_type": "stream",
     "text": [
      "63/63 [==============================] - 0s 2ms/step - loss: 0.2396 - accuracy: 0.9415\n",
      "Test Accuracy: 0.9415000081062317\n"
     ]
    }
   ],
   "source": [
    "# Evaluate the model on the test set\n",
    "test_loss, test_acc = model.evaluate(X_test, y_test)\n",
    "print(f'Test Accuracy: {test_acc}')\n"
   ]
  },
  {
   "cell_type": "code",
   "execution_count": 17,
   "metadata": {},
   "outputs": [
    {
     "name": "stderr",
     "output_type": "stream",
     "text": [
      "C:\\Users\\jawad2019.namal\\AppData\\Roaming\\Python\\Python311\\site-packages\\sklearn\\base.py:464: UserWarning: X does not have valid feature names, but StandardScaler was fitted with feature names\n",
      "  warnings.warn(\n"
     ]
    },
    {
     "name": "stdout",
     "output_type": "stream",
     "text": [
      "1/1 [==============================] - 0s 237ms/step\n",
      "Predicted Label: Healthy\n"
     ]
    }
   ],
   "source": [
    "# Making predictions on new data\n",
    "new_data = [[61.007023, 106.570495, 21.414754, 1]]  # Example data\n",
    "new_data = scaler.transform(new_data)  # Normalize the data\n",
    "predictions = model.predict(new_data)\n",
    "predicted_label = le.inverse_transform([np.argmax(predictions)])  # Convert back to original label\n",
    "print(f'Predicted Label: {predicted_label[0]}')\n"
   ]
  },
  {
   "cell_type": "code",
   "execution_count": 42,
   "metadata": {},
   "outputs": [
    {
     "name": "stdout",
     "output_type": "stream",
     "text": [
      "Neural Networks trained Model Saved\n"
     ]
    }
   ],
   "source": [
    "# Save the neural networks model weights\n",
    "import pickle\n",
    "pickle.dump(model, open('neural_networks.pickle', 'wb'))\n",
    "print('Neural Networks trained Model Saved')"
   ]
  },
  {
   "cell_type": "markdown",
   "metadata": {},
   "source": [
    "### **Model 2: K-Nearest Neighbors (KNN) Classifier Model**\n",
    "- In this section, I will construct a K-Nearest Neighbors (KNN) Classifier model to predict plant health based on various environmental parameters such as humidity percentage, nitrogen levels, ambient temperature, and the presence of sunlight. The KNN algorithm is a type of instance-based learning that classifies a data point based on the majority class of its 'K' nearest neighbors in the feature space.\n",
    "\n",
    "- Initially, I will prepare the data by segregating the features and the target variable, followed by splitting the data into training and testing sets. Scaling the features is a crucial step since KNN is a distance-based algorithm, and having features on a similar scale helps in improving the model's performance.\n",
    "\n",
    "- Next, I will initialize the KNN classifier, specifying a suitable number of neighbors (K) to consider. I plan to experiment with different values of 'K' to find the optimal number that yields the best performance without overfitting. The model will then be trained using the training dataset.\n",
    "\n",
    "- Subsequently, I will use the trained model to make predictions on the testing data. The model's performance will be evaluated using various metrics such as accuracy, precision, and recall, which will be presented in a detailed classification report."
   ]
  },
  {
   "cell_type": "code",
   "execution_count": 18,
   "metadata": {},
   "outputs": [],
   "source": [
    "# Import Library for knn\n",
    "from sklearn.neighbors import KNeighborsClassifier"
   ]
  },
  {
   "cell_type": "code",
   "execution_count": 19,
   "metadata": {},
   "outputs": [],
   "source": [
    "# Step 1: Feature Scaling\n",
    "scaler = StandardScaler()\n",
    "X_train = scaler.fit_transform(X_train)\n",
    "X_test = scaler.transform(X_test)"
   ]
  },
  {
   "cell_type": "code",
   "execution_count": 20,
   "metadata": {},
   "outputs": [],
   "source": [
    "# Step 2: Initialize the KNN Classifier with k neighbors (you can experiment with different values of k)\n",
    "k = 3\n",
    "knn_classifier = KNeighborsClassifier(n_neighbors=k)"
   ]
  },
  {
   "cell_type": "code",
   "execution_count": 21,
   "metadata": {},
   "outputs": [
    {
     "data": {
      "text/html": [
       "<style>#sk-container-id-1 {color: black;}#sk-container-id-1 pre{padding: 0;}#sk-container-id-1 div.sk-toggleable {background-color: white;}#sk-container-id-1 label.sk-toggleable__label {cursor: pointer;display: block;width: 100%;margin-bottom: 0;padding: 0.3em;box-sizing: border-box;text-align: center;}#sk-container-id-1 label.sk-toggleable__label-arrow:before {content: \"▸\";float: left;margin-right: 0.25em;color: #696969;}#sk-container-id-1 label.sk-toggleable__label-arrow:hover:before {color: black;}#sk-container-id-1 div.sk-estimator:hover label.sk-toggleable__label-arrow:before {color: black;}#sk-container-id-1 div.sk-toggleable__content {max-height: 0;max-width: 0;overflow: hidden;text-align: left;background-color: #f0f8ff;}#sk-container-id-1 div.sk-toggleable__content pre {margin: 0.2em;color: black;border-radius: 0.25em;background-color: #f0f8ff;}#sk-container-id-1 input.sk-toggleable__control:checked~div.sk-toggleable__content {max-height: 200px;max-width: 100%;overflow: auto;}#sk-container-id-1 input.sk-toggleable__control:checked~label.sk-toggleable__label-arrow:before {content: \"▾\";}#sk-container-id-1 div.sk-estimator input.sk-toggleable__control:checked~label.sk-toggleable__label {background-color: #d4ebff;}#sk-container-id-1 div.sk-label input.sk-toggleable__control:checked~label.sk-toggleable__label {background-color: #d4ebff;}#sk-container-id-1 input.sk-hidden--visually {border: 0;clip: rect(1px 1px 1px 1px);clip: rect(1px, 1px, 1px, 1px);height: 1px;margin: -1px;overflow: hidden;padding: 0;position: absolute;width: 1px;}#sk-container-id-1 div.sk-estimator {font-family: monospace;background-color: #f0f8ff;border: 1px dotted black;border-radius: 0.25em;box-sizing: border-box;margin-bottom: 0.5em;}#sk-container-id-1 div.sk-estimator:hover {background-color: #d4ebff;}#sk-container-id-1 div.sk-parallel-item::after {content: \"\";width: 100%;border-bottom: 1px solid gray;flex-grow: 1;}#sk-container-id-1 div.sk-label:hover label.sk-toggleable__label {background-color: #d4ebff;}#sk-container-id-1 div.sk-serial::before {content: \"\";position: absolute;border-left: 1px solid gray;box-sizing: border-box;top: 0;bottom: 0;left: 50%;z-index: 0;}#sk-container-id-1 div.sk-serial {display: flex;flex-direction: column;align-items: center;background-color: white;padding-right: 0.2em;padding-left: 0.2em;position: relative;}#sk-container-id-1 div.sk-item {position: relative;z-index: 1;}#sk-container-id-1 div.sk-parallel {display: flex;align-items: stretch;justify-content: center;background-color: white;position: relative;}#sk-container-id-1 div.sk-item::before, #sk-container-id-1 div.sk-parallel-item::before {content: \"\";position: absolute;border-left: 1px solid gray;box-sizing: border-box;top: 0;bottom: 0;left: 50%;z-index: -1;}#sk-container-id-1 div.sk-parallel-item {display: flex;flex-direction: column;z-index: 1;position: relative;background-color: white;}#sk-container-id-1 div.sk-parallel-item:first-child::after {align-self: flex-end;width: 50%;}#sk-container-id-1 div.sk-parallel-item:last-child::after {align-self: flex-start;width: 50%;}#sk-container-id-1 div.sk-parallel-item:only-child::after {width: 0;}#sk-container-id-1 div.sk-dashed-wrapped {border: 1px dashed gray;margin: 0 0.4em 0.5em 0.4em;box-sizing: border-box;padding-bottom: 0.4em;background-color: white;}#sk-container-id-1 div.sk-label label {font-family: monospace;font-weight: bold;display: inline-block;line-height: 1.2em;}#sk-container-id-1 div.sk-label-container {text-align: center;}#sk-container-id-1 div.sk-container {/* jupyter's `normalize.less` sets `[hidden] { display: none; }` but bootstrap.min.css set `[hidden] { display: none !important; }` so we also need the `!important` here to be able to override the default hidden behavior on the sphinx rendered scikit-learn.org. See: https://github.com/scikit-learn/scikit-learn/issues/21755 */display: inline-block !important;position: relative;}#sk-container-id-1 div.sk-text-repr-fallback {display: none;}</style><div id=\"sk-container-id-1\" class=\"sk-top-container\"><div class=\"sk-text-repr-fallback\"><pre>KNeighborsClassifier(n_neighbors=3)</pre><b>In a Jupyter environment, please rerun this cell to show the HTML representation or trust the notebook. <br />On GitHub, the HTML representation is unable to render, please try loading this page with nbviewer.org.</b></div><div class=\"sk-container\" hidden><div class=\"sk-item\"><div class=\"sk-estimator sk-toggleable\"><input class=\"sk-toggleable__control sk-hidden--visually\" id=\"sk-estimator-id-1\" type=\"checkbox\" checked><label for=\"sk-estimator-id-1\" class=\"sk-toggleable__label sk-toggleable__label-arrow\">KNeighborsClassifier</label><div class=\"sk-toggleable__content\"><pre>KNeighborsClassifier(n_neighbors=3)</pre></div></div></div></div></div>"
      ],
      "text/plain": [
       "KNeighborsClassifier(n_neighbors=3)"
      ]
     },
     "execution_count": 21,
     "metadata": {},
     "output_type": "execute_result"
    }
   ],
   "source": [
    "# Step 3: Train the model on the training data\n",
    "knn_classifier.fit(X_train, y_train)"
   ]
  },
  {
   "cell_type": "code",
   "execution_count": 22,
   "metadata": {},
   "outputs": [],
   "source": [
    "# Step 4: Make predictions on the testing data\n",
    "y_pred = knn_classifier.predict(X_test)"
   ]
  },
  {
   "cell_type": "code",
   "execution_count": 23,
   "metadata": {},
   "outputs": [
    {
     "name": "stdout",
     "output_type": "stream",
     "text": [
      "Model Accuracy: 0.9125\n",
      "Classification Report:\n",
      "              precision    recall  f1-score   support\n",
      "\n",
      "           0       0.89      0.99      0.94       652\n",
      "           1       0.87      0.88      0.88       695\n",
      "           2       0.99      0.86      0.92       653\n",
      "\n",
      "    accuracy                           0.91      2000\n",
      "   macro avg       0.92      0.91      0.91      2000\n",
      "weighted avg       0.92      0.91      0.91      2000\n",
      "\n"
     ]
    }
   ],
   "source": [
    "# Step 5: Evaluate the model's performance\n",
    "print('Model Accuracy:', accuracy_score(y_test, y_pred))\n",
    "print('Classification Report:')\n",
    "print(classification_report(y_test, y_pred))"
   ]
  },
  {
   "cell_type": "markdown",
   "metadata": {},
   "source": [
    "### **Model 3: Training a Tuned Logistic Regression Model with Class Weights**\n",
    "\n",
    "- In this section, I will develop a Logistic Regression model, fine-tuned with the integration of class weights, to predict the health of plants based on the given environmental attributes: humidity percentage, nitrogen levels, ambient temperature, and the presence of sunlight. Logistic Regression, a statistical method for analyzing datasets where the outcome variable is categorical, is particularly suitable for binary or multiclass classification tasks.\n",
    "\n",
    "- To begin, I will segregate the dataset into features and the target variable, followed by partitioning the data into training and testing subsets. This step ensures that the model can be evaluated on unseen data to gauge its predictive accuracy and generalization capabilities.\n",
    "\n",
    "- Next, I will initialize the Logistic Regression classifier, incorporating class weights into the model. The inclusion of class weights helps in handling any imbalance in the dataset by assigning different weights to each class, thus preventing the model from being biased towards the majority class. I will also fine-tune other hyperparameters to optimize the model's performance further.\n",
    "\n",
    "- After setting up the model, I will proceed to train it using the training dataset. This step involves learning the underlying patterns in the data to make accurate predictions.\n",
    "\n",
    "- Following the training phase, I will use the model to make predictions on the testing data and evaluate its performance using various metrics such as accuracy, precision, and recall. These metrics will be detailed in a comprehensive classification report, providing insights into the model's performance across different classes.\n"
   ]
  },
  {
   "cell_type": "code",
   "execution_count": 24,
   "metadata": {},
   "outputs": [],
   "source": [
    "# Import Library for Logistic Regression\n",
    "from sklearn.linear_model import LogisticRegression"
   ]
  },
  {
   "cell_type": "code",
   "execution_count": 25,
   "metadata": {},
   "outputs": [
    {
     "data": {
      "text/html": [
       "<style>#sk-container-id-2 {color: black;}#sk-container-id-2 pre{padding: 0;}#sk-container-id-2 div.sk-toggleable {background-color: white;}#sk-container-id-2 label.sk-toggleable__label {cursor: pointer;display: block;width: 100%;margin-bottom: 0;padding: 0.3em;box-sizing: border-box;text-align: center;}#sk-container-id-2 label.sk-toggleable__label-arrow:before {content: \"▸\";float: left;margin-right: 0.25em;color: #696969;}#sk-container-id-2 label.sk-toggleable__label-arrow:hover:before {color: black;}#sk-container-id-2 div.sk-estimator:hover label.sk-toggleable__label-arrow:before {color: black;}#sk-container-id-2 div.sk-toggleable__content {max-height: 0;max-width: 0;overflow: hidden;text-align: left;background-color: #f0f8ff;}#sk-container-id-2 div.sk-toggleable__content pre {margin: 0.2em;color: black;border-radius: 0.25em;background-color: #f0f8ff;}#sk-container-id-2 input.sk-toggleable__control:checked~div.sk-toggleable__content {max-height: 200px;max-width: 100%;overflow: auto;}#sk-container-id-2 input.sk-toggleable__control:checked~label.sk-toggleable__label-arrow:before {content: \"▾\";}#sk-container-id-2 div.sk-estimator input.sk-toggleable__control:checked~label.sk-toggleable__label {background-color: #d4ebff;}#sk-container-id-2 div.sk-label input.sk-toggleable__control:checked~label.sk-toggleable__label {background-color: #d4ebff;}#sk-container-id-2 input.sk-hidden--visually {border: 0;clip: rect(1px 1px 1px 1px);clip: rect(1px, 1px, 1px, 1px);height: 1px;margin: -1px;overflow: hidden;padding: 0;position: absolute;width: 1px;}#sk-container-id-2 div.sk-estimator {font-family: monospace;background-color: #f0f8ff;border: 1px dotted black;border-radius: 0.25em;box-sizing: border-box;margin-bottom: 0.5em;}#sk-container-id-2 div.sk-estimator:hover {background-color: #d4ebff;}#sk-container-id-2 div.sk-parallel-item::after {content: \"\";width: 100%;border-bottom: 1px solid gray;flex-grow: 1;}#sk-container-id-2 div.sk-label:hover label.sk-toggleable__label {background-color: #d4ebff;}#sk-container-id-2 div.sk-serial::before {content: \"\";position: absolute;border-left: 1px solid gray;box-sizing: border-box;top: 0;bottom: 0;left: 50%;z-index: 0;}#sk-container-id-2 div.sk-serial {display: flex;flex-direction: column;align-items: center;background-color: white;padding-right: 0.2em;padding-left: 0.2em;position: relative;}#sk-container-id-2 div.sk-item {position: relative;z-index: 1;}#sk-container-id-2 div.sk-parallel {display: flex;align-items: stretch;justify-content: center;background-color: white;position: relative;}#sk-container-id-2 div.sk-item::before, #sk-container-id-2 div.sk-parallel-item::before {content: \"\";position: absolute;border-left: 1px solid gray;box-sizing: border-box;top: 0;bottom: 0;left: 50%;z-index: -1;}#sk-container-id-2 div.sk-parallel-item {display: flex;flex-direction: column;z-index: 1;position: relative;background-color: white;}#sk-container-id-2 div.sk-parallel-item:first-child::after {align-self: flex-end;width: 50%;}#sk-container-id-2 div.sk-parallel-item:last-child::after {align-self: flex-start;width: 50%;}#sk-container-id-2 div.sk-parallel-item:only-child::after {width: 0;}#sk-container-id-2 div.sk-dashed-wrapped {border: 1px dashed gray;margin: 0 0.4em 0.5em 0.4em;box-sizing: border-box;padding-bottom: 0.4em;background-color: white;}#sk-container-id-2 div.sk-label label {font-family: monospace;font-weight: bold;display: inline-block;line-height: 1.2em;}#sk-container-id-2 div.sk-label-container {text-align: center;}#sk-container-id-2 div.sk-container {/* jupyter's `normalize.less` sets `[hidden] { display: none; }` but bootstrap.min.css set `[hidden] { display: none !important; }` so we also need the `!important` here to be able to override the default hidden behavior on the sphinx rendered scikit-learn.org. See: https://github.com/scikit-learn/scikit-learn/issues/21755 */display: inline-block !important;position: relative;}#sk-container-id-2 div.sk-text-repr-fallback {display: none;}</style><div id=\"sk-container-id-2\" class=\"sk-top-container\"><div class=\"sk-text-repr-fallback\"><pre>LogisticRegression(C=100, class_weight={0: 1, 1: 1, 2: 1}, max_iter=5000,\n",
       "                   solver=&#x27;newton-cg&#x27;)</pre><b>In a Jupyter environment, please rerun this cell to show the HTML representation or trust the notebook. <br />On GitHub, the HTML representation is unable to render, please try loading this page with nbviewer.org.</b></div><div class=\"sk-container\" hidden><div class=\"sk-item\"><div class=\"sk-estimator sk-toggleable\"><input class=\"sk-toggleable__control sk-hidden--visually\" id=\"sk-estimator-id-2\" type=\"checkbox\" checked><label for=\"sk-estimator-id-2\" class=\"sk-toggleable__label sk-toggleable__label-arrow\">LogisticRegression</label><div class=\"sk-toggleable__content\"><pre>LogisticRegression(C=100, class_weight={0: 1, 1: 1, 2: 1}, max_iter=5000,\n",
       "                   solver=&#x27;newton-cg&#x27;)</pre></div></div></div></div></div>"
      ],
      "text/plain": [
       "LogisticRegression(C=100, class_weight={0: 1, 1: 1, 2: 1}, max_iter=5000,\n",
       "                   solver='newton-cg')"
      ]
     },
     "execution_count": 25,
     "metadata": {},
     "output_type": "execute_result"
    }
   ],
   "source": [
    "# Compile and Train the model \n",
    "ltuw = LogisticRegression(max_iter=5000,class_weight={0:1,1:1,2:1},C=100,fit_intercept=True,\n",
    "                               penalty='l2',solver='newton-cg')\n",
    "ltuw.fit(X_train, y_train)"
   ]
  },
  {
   "cell_type": "code",
   "execution_count": 26,
   "metadata": {},
   "outputs": [
    {
     "name": "stdout",
     "output_type": "stream",
     "text": [
      "Accuracy Score is: 0.638\n",
      "              precision    recall  f1-score   support\n",
      "\n",
      "           0       0.57      1.00      0.73       652\n",
      "           1       0.68      0.37      0.48       695\n",
      "           2       0.76      0.56      0.64       653\n",
      "\n",
      "    accuracy                           0.64      2000\n",
      "   macro avg       0.67      0.64      0.62      2000\n",
      "weighted avg       0.67      0.64      0.61      2000\n",
      "\n"
     ]
    }
   ],
   "source": [
    "# Predict The Model\n",
    "y_pred = ltuw.predict(X_test)\n",
    "acc = accuracy_score(y_test, y_pred)\n",
    "creport = classification_report(y_test, y_pred)\n",
    "print(f'Accuracy Score is: {acc}')\n",
    "print(creport)"
   ]
  },
  {
   "cell_type": "markdown",
   "metadata": {},
   "source": [
    "### **Model 4: Training a Tuned Random Forest Model with Class Weights**\n",
    "\n",
    "- In this section, I will focus on developing a Random Forest model, a powerful ensemble learning method, fine-tuned with class weights, to predict plant health based on the analyzed environmental factors: humidity percentage, nitrogen levels, ambient temperature, and the presence of sunlight. The Random Forest algorithm, which operates by constructing multiple decision trees during training time and outputting the class that is the mode of the classes from individual trees, is known for its high accuracy, ability to handle large data sets with higher dimensionality, and its ability to handle missing values.\n",
    "\n",
    "- First, I will segregate the data into features and the target variable, and then partition it into training and testing sets to validate the model's performance on unseen data later.\n",
    "\n",
    "- Next, I will initialize the Random Forest classifier, incorporating class weights to address any potential class imbalance in the dataset. This strategy ensures that the model does not exhibit a bias towards the majority class, providing a balanced approach to classification. Additionally, I will fine-tune various hyperparameters such as the number of trees and the maximum depth of the trees to optimize the model's predictive performance.\n",
    "\n",
    "- Following the initialization, I will train the model using the training dataset, allowing it to learn the complex patterns and relationships in the data.\n",
    "\n",
    "- After the training phase, I will employ the model to make predictions on the testing data, subsequently evaluating its performance using several metrics including accuracy, precision, and recall. A detailed classification report will be generated to provide a comprehensive view of the model's performance across different classes."
   ]
  },
  {
   "cell_type": "code",
   "execution_count": 27,
   "metadata": {},
   "outputs": [],
   "source": [
    "# Import Library for Random Classifier\n",
    "from sklearn.ensemble import RandomForestClassifier"
   ]
  },
  {
   "cell_type": "code",
   "execution_count": 28,
   "metadata": {},
   "outputs": [
    {
     "data": {
      "text/html": [
       "<style>#sk-container-id-3 {color: black;}#sk-container-id-3 pre{padding: 0;}#sk-container-id-3 div.sk-toggleable {background-color: white;}#sk-container-id-3 label.sk-toggleable__label {cursor: pointer;display: block;width: 100%;margin-bottom: 0;padding: 0.3em;box-sizing: border-box;text-align: center;}#sk-container-id-3 label.sk-toggleable__label-arrow:before {content: \"▸\";float: left;margin-right: 0.25em;color: #696969;}#sk-container-id-3 label.sk-toggleable__label-arrow:hover:before {color: black;}#sk-container-id-3 div.sk-estimator:hover label.sk-toggleable__label-arrow:before {color: black;}#sk-container-id-3 div.sk-toggleable__content {max-height: 0;max-width: 0;overflow: hidden;text-align: left;background-color: #f0f8ff;}#sk-container-id-3 div.sk-toggleable__content pre {margin: 0.2em;color: black;border-radius: 0.25em;background-color: #f0f8ff;}#sk-container-id-3 input.sk-toggleable__control:checked~div.sk-toggleable__content {max-height: 200px;max-width: 100%;overflow: auto;}#sk-container-id-3 input.sk-toggleable__control:checked~label.sk-toggleable__label-arrow:before {content: \"▾\";}#sk-container-id-3 div.sk-estimator input.sk-toggleable__control:checked~label.sk-toggleable__label {background-color: #d4ebff;}#sk-container-id-3 div.sk-label input.sk-toggleable__control:checked~label.sk-toggleable__label {background-color: #d4ebff;}#sk-container-id-3 input.sk-hidden--visually {border: 0;clip: rect(1px 1px 1px 1px);clip: rect(1px, 1px, 1px, 1px);height: 1px;margin: -1px;overflow: hidden;padding: 0;position: absolute;width: 1px;}#sk-container-id-3 div.sk-estimator {font-family: monospace;background-color: #f0f8ff;border: 1px dotted black;border-radius: 0.25em;box-sizing: border-box;margin-bottom: 0.5em;}#sk-container-id-3 div.sk-estimator:hover {background-color: #d4ebff;}#sk-container-id-3 div.sk-parallel-item::after {content: \"\";width: 100%;border-bottom: 1px solid gray;flex-grow: 1;}#sk-container-id-3 div.sk-label:hover label.sk-toggleable__label {background-color: #d4ebff;}#sk-container-id-3 div.sk-serial::before {content: \"\";position: absolute;border-left: 1px solid gray;box-sizing: border-box;top: 0;bottom: 0;left: 50%;z-index: 0;}#sk-container-id-3 div.sk-serial {display: flex;flex-direction: column;align-items: center;background-color: white;padding-right: 0.2em;padding-left: 0.2em;position: relative;}#sk-container-id-3 div.sk-item {position: relative;z-index: 1;}#sk-container-id-3 div.sk-parallel {display: flex;align-items: stretch;justify-content: center;background-color: white;position: relative;}#sk-container-id-3 div.sk-item::before, #sk-container-id-3 div.sk-parallel-item::before {content: \"\";position: absolute;border-left: 1px solid gray;box-sizing: border-box;top: 0;bottom: 0;left: 50%;z-index: -1;}#sk-container-id-3 div.sk-parallel-item {display: flex;flex-direction: column;z-index: 1;position: relative;background-color: white;}#sk-container-id-3 div.sk-parallel-item:first-child::after {align-self: flex-end;width: 50%;}#sk-container-id-3 div.sk-parallel-item:last-child::after {align-self: flex-start;width: 50%;}#sk-container-id-3 div.sk-parallel-item:only-child::after {width: 0;}#sk-container-id-3 div.sk-dashed-wrapped {border: 1px dashed gray;margin: 0 0.4em 0.5em 0.4em;box-sizing: border-box;padding-bottom: 0.4em;background-color: white;}#sk-container-id-3 div.sk-label label {font-family: monospace;font-weight: bold;display: inline-block;line-height: 1.2em;}#sk-container-id-3 div.sk-label-container {text-align: center;}#sk-container-id-3 div.sk-container {/* jupyter's `normalize.less` sets `[hidden] { display: none; }` but bootstrap.min.css set `[hidden] { display: none !important; }` so we also need the `!important` here to be able to override the default hidden behavior on the sphinx rendered scikit-learn.org. See: https://github.com/scikit-learn/scikit-learn/issues/21755 */display: inline-block !important;position: relative;}#sk-container-id-3 div.sk-text-repr-fallback {display: none;}</style><div id=\"sk-container-id-3\" class=\"sk-top-container\"><div class=\"sk-text-repr-fallback\"><pre>RandomForestClassifier(class_weight={0: 1, 1: 1, 2: 1}, max_depth=6,\n",
       "                       min_samples_split=12, n_estimators=400, n_jobs=-1,\n",
       "                       random_state=1, warm_start=True)</pre><b>In a Jupyter environment, please rerun this cell to show the HTML representation or trust the notebook. <br />On GitHub, the HTML representation is unable to render, please try loading this page with nbviewer.org.</b></div><div class=\"sk-container\" hidden><div class=\"sk-item\"><div class=\"sk-estimator sk-toggleable\"><input class=\"sk-toggleable__control sk-hidden--visually\" id=\"sk-estimator-id-3\" type=\"checkbox\" checked><label for=\"sk-estimator-id-3\" class=\"sk-toggleable__label sk-toggleable__label-arrow\">RandomForestClassifier</label><div class=\"sk-toggleable__content\"><pre>RandomForestClassifier(class_weight={0: 1, 1: 1, 2: 1}, max_depth=6,\n",
       "                       min_samples_split=12, n_estimators=400, n_jobs=-1,\n",
       "                       random_state=1, warm_start=True)</pre></div></div></div></div></div>"
      ],
      "text/plain": [
       "RandomForestClassifier(class_weight={0: 1, 1: 1, 2: 1}, max_depth=6,\n",
       "                       min_samples_split=12, n_estimators=400, n_jobs=-1,\n",
       "                       random_state=1, warm_start=True)"
      ]
     },
     "execution_count": 28,
     "metadata": {},
     "output_type": "execute_result"
    }
   ],
   "source": [
    "# Compile and Train the model\n",
    "rfc_tuned = RandomForestClassifier(random_state=1, n_jobs=-1, class_weight={0:1, 1:1, 2:1}, criterion='gini', max_depth= 6, min_samples_split= 12, n_estimators= 400, warm_start=True)\n",
    "rfc_tuned.fit(X_train, y_train)"
   ]
  },
  {
   "cell_type": "code",
   "execution_count": 29,
   "metadata": {},
   "outputs": [
    {
     "name": "stdout",
     "output_type": "stream",
     "text": [
      "Accuracy Score is: 0.9295\n",
      "              precision    recall  f1-score   support\n",
      "\n",
      "           0       0.89      1.00      0.94       652\n",
      "           1       0.91      0.89      0.90       695\n",
      "           2       1.00      0.90      0.95       653\n",
      "\n",
      "    accuracy                           0.93      2000\n",
      "   macro avg       0.93      0.93      0.93      2000\n",
      "weighted avg       0.93      0.93      0.93      2000\n",
      "\n"
     ]
    }
   ],
   "source": [
    "# Predict The Model\n",
    "y_pred = rfc_tuned.predict(X_test)\n",
    "acc = accuracy_score(y_test, y_pred)\n",
    "creport = classification_report(y_test, y_pred)\n",
    "print(f'Accuracy Score is: {acc}')\n",
    "print(creport)"
   ]
  },
  {
   "cell_type": "markdown",
   "metadata": {},
   "source": [
    "### **Model 5: Training a Tuned XGBoost Classifier Model with Class Weights**\n",
    "- In this section, I will be crafting an XGBoost Classifier model, fine-tuned with class weights, to predict plant health based on the designated environmental factors: humidity percentage, nitrogen levels, ambient temperature, and the presence of sunlight. XGBoost, which stands for eXtreme Gradient Boosting, is an implementation of gradient boosted decision trees designed for speed and performance.\n",
    "\n",
    "- Initially, I will delineate the dataset into features and the target variable, followed by a division into training and testing sets. This division is vital to assess the model's efficacy on unseen data, ensuring a reliable evaluation of its predictive capabilities.\n",
    "\n",
    "- Subsequently, I will initialize the XGBoost classifier, integrating class weights to address any imbalances in the class distribution within the dataset. This integration ensures a balanced approach to the classification task, preventing the model from favoring the majority class and potentially overlooking the minority class. Moreover, I will fine-tune various hyperparameters such as learning rate and max depth to enhance the model's performance further.\n",
    "\n",
    "- Once the model is set up, I will train it using the training dataset, allowing it to learn and adapt to the underlying patterns in the data, which will be instrumental in making accurate predictions.\n",
    "\n",
    "- After the training process, I will utilize the model to make predictions on the testing data. The performance of the model will be evaluated using a range of metrics including accuracy, precision, and recall, offering a detailed insight into its classification prowess across different classes. A comprehensive classification report will be generated to encapsulate these insights."
   ]
  },
  {
   "cell_type": "code",
   "execution_count": 30,
   "metadata": {},
   "outputs": [],
   "source": [
    "# Import XGBoost Classifier\n",
    "from xgboost import XGBClassifier"
   ]
  },
  {
   "cell_type": "code",
   "execution_count": 31,
   "metadata": {},
   "outputs": [
    {
     "data": {
      "text/html": [
       "<style>#sk-container-id-4 {color: black;}#sk-container-id-4 pre{padding: 0;}#sk-container-id-4 div.sk-toggleable {background-color: white;}#sk-container-id-4 label.sk-toggleable__label {cursor: pointer;display: block;width: 100%;margin-bottom: 0;padding: 0.3em;box-sizing: border-box;text-align: center;}#sk-container-id-4 label.sk-toggleable__label-arrow:before {content: \"▸\";float: left;margin-right: 0.25em;color: #696969;}#sk-container-id-4 label.sk-toggleable__label-arrow:hover:before {color: black;}#sk-container-id-4 div.sk-estimator:hover label.sk-toggleable__label-arrow:before {color: black;}#sk-container-id-4 div.sk-toggleable__content {max-height: 0;max-width: 0;overflow: hidden;text-align: left;background-color: #f0f8ff;}#sk-container-id-4 div.sk-toggleable__content pre {margin: 0.2em;color: black;border-radius: 0.25em;background-color: #f0f8ff;}#sk-container-id-4 input.sk-toggleable__control:checked~div.sk-toggleable__content {max-height: 200px;max-width: 100%;overflow: auto;}#sk-container-id-4 input.sk-toggleable__control:checked~label.sk-toggleable__label-arrow:before {content: \"▾\";}#sk-container-id-4 div.sk-estimator input.sk-toggleable__control:checked~label.sk-toggleable__label {background-color: #d4ebff;}#sk-container-id-4 div.sk-label input.sk-toggleable__control:checked~label.sk-toggleable__label {background-color: #d4ebff;}#sk-container-id-4 input.sk-hidden--visually {border: 0;clip: rect(1px 1px 1px 1px);clip: rect(1px, 1px, 1px, 1px);height: 1px;margin: -1px;overflow: hidden;padding: 0;position: absolute;width: 1px;}#sk-container-id-4 div.sk-estimator {font-family: monospace;background-color: #f0f8ff;border: 1px dotted black;border-radius: 0.25em;box-sizing: border-box;margin-bottom: 0.5em;}#sk-container-id-4 div.sk-estimator:hover {background-color: #d4ebff;}#sk-container-id-4 div.sk-parallel-item::after {content: \"\";width: 100%;border-bottom: 1px solid gray;flex-grow: 1;}#sk-container-id-4 div.sk-label:hover label.sk-toggleable__label {background-color: #d4ebff;}#sk-container-id-4 div.sk-serial::before {content: \"\";position: absolute;border-left: 1px solid gray;box-sizing: border-box;top: 0;bottom: 0;left: 50%;z-index: 0;}#sk-container-id-4 div.sk-serial {display: flex;flex-direction: column;align-items: center;background-color: white;padding-right: 0.2em;padding-left: 0.2em;position: relative;}#sk-container-id-4 div.sk-item {position: relative;z-index: 1;}#sk-container-id-4 div.sk-parallel {display: flex;align-items: stretch;justify-content: center;background-color: white;position: relative;}#sk-container-id-4 div.sk-item::before, #sk-container-id-4 div.sk-parallel-item::before {content: \"\";position: absolute;border-left: 1px solid gray;box-sizing: border-box;top: 0;bottom: 0;left: 50%;z-index: -1;}#sk-container-id-4 div.sk-parallel-item {display: flex;flex-direction: column;z-index: 1;position: relative;background-color: white;}#sk-container-id-4 div.sk-parallel-item:first-child::after {align-self: flex-end;width: 50%;}#sk-container-id-4 div.sk-parallel-item:last-child::after {align-self: flex-start;width: 50%;}#sk-container-id-4 div.sk-parallel-item:only-child::after {width: 0;}#sk-container-id-4 div.sk-dashed-wrapped {border: 1px dashed gray;margin: 0 0.4em 0.5em 0.4em;box-sizing: border-box;padding-bottom: 0.4em;background-color: white;}#sk-container-id-4 div.sk-label label {font-family: monospace;font-weight: bold;display: inline-block;line-height: 1.2em;}#sk-container-id-4 div.sk-label-container {text-align: center;}#sk-container-id-4 div.sk-container {/* jupyter's `normalize.less` sets `[hidden] { display: none; }` but bootstrap.min.css set `[hidden] { display: none !important; }` so we also need the `!important` here to be able to override the default hidden behavior on the sphinx rendered scikit-learn.org. See: https://github.com/scikit-learn/scikit-learn/issues/21755 */display: inline-block !important;position: relative;}#sk-container-id-4 div.sk-text-repr-fallback {display: none;}</style><div id=\"sk-container-id-4\" class=\"sk-top-container\"><div class=\"sk-text-repr-fallback\"><pre>XGBClassifier(base_score=None, booster=&#x27;dart&#x27;, callbacks=None,\n",
       "              colsample_bylevel=None, colsample_bynode=None,\n",
       "              colsample_bytree=None, device=None, early_stopping_rounds=None,\n",
       "              enable_categorical=False, eta=0.01, eval_metric=&#x27;logloss&#x27;,\n",
       "              feature_types=None, gamma=None, grow_policy=None,\n",
       "              importance_type=None, interaction_constraints=None,\n",
       "              learning_rate=None, max_bin=None, max_cat_threshold=None,\n",
       "              max_cat_to_onehot=None, max_delta_step=None, max_depth=3,\n",
       "              max_leaves=None, min_child_weight=None, missing=nan,\n",
       "              monotone_constraints=None, multi_strategy=None, n_estimators=150,\n",
       "              n_jobs=None, num_parallel_tree=None, ...)</pre><b>In a Jupyter environment, please rerun this cell to show the HTML representation or trust the notebook. <br />On GitHub, the HTML representation is unable to render, please try loading this page with nbviewer.org.</b></div><div class=\"sk-container\" hidden><div class=\"sk-item\"><div class=\"sk-estimator sk-toggleable\"><input class=\"sk-toggleable__control sk-hidden--visually\" id=\"sk-estimator-id-4\" type=\"checkbox\" checked><label for=\"sk-estimator-id-4\" class=\"sk-toggleable__label sk-toggleable__label-arrow\">XGBClassifier</label><div class=\"sk-toggleable__content\"><pre>XGBClassifier(base_score=None, booster=&#x27;dart&#x27;, callbacks=None,\n",
       "              colsample_bylevel=None, colsample_bynode=None,\n",
       "              colsample_bytree=None, device=None, early_stopping_rounds=None,\n",
       "              enable_categorical=False, eta=0.01, eval_metric=&#x27;logloss&#x27;,\n",
       "              feature_types=None, gamma=None, grow_policy=None,\n",
       "              importance_type=None, interaction_constraints=None,\n",
       "              learning_rate=None, max_bin=None, max_cat_threshold=None,\n",
       "              max_cat_to_onehot=None, max_delta_step=None, max_depth=3,\n",
       "              max_leaves=None, min_child_weight=None, missing=nan,\n",
       "              monotone_constraints=None, multi_strategy=None, n_estimators=150,\n",
       "              n_jobs=None, num_parallel_tree=None, ...)</pre></div></div></div></div></div>"
      ],
      "text/plain": [
       "XGBClassifier(base_score=None, booster='dart', callbacks=None,\n",
       "              colsample_bylevel=None, colsample_bynode=None,\n",
       "              colsample_bytree=None, device=None, early_stopping_rounds=None,\n",
       "              enable_categorical=False, eta=0.01, eval_metric='logloss',\n",
       "              feature_types=None, gamma=None, grow_policy=None,\n",
       "              importance_type=None, interaction_constraints=None,\n",
       "              learning_rate=None, max_bin=None, max_cat_threshold=None,\n",
       "              max_cat_to_onehot=None, max_delta_step=None, max_depth=3,\n",
       "              max_leaves=None, min_child_weight=None, missing=nan,\n",
       "              monotone_constraints=None, multi_strategy=None, n_estimators=150,\n",
       "              n_jobs=None, num_parallel_tree=None, ...)"
      ]
     },
     "execution_count": 31,
     "metadata": {},
     "output_type": "execute_result"
    }
   ],
   "source": [
    "# Compile and Train the model\n",
    "xgb_tuned = XGBClassifier(eval_metric = 'logloss', seed =0, \n",
    "               objective='binary:logistic',  booster='dart',\n",
    "              eta=0.01, max_depth=3, n_estimators=150)\n",
    "xgb_tuned.fit(X_train, y_train)"
   ]
  },
  {
   "cell_type": "code",
   "execution_count": 32,
   "metadata": {},
   "outputs": [
    {
     "name": "stdout",
     "output_type": "stream",
     "text": [
      "Accuracy Score is: 0.859\n",
      "              precision    recall  f1-score   support\n",
      "\n",
      "           0       0.76      1.00      0.86       652\n",
      "           1       0.87      0.74      0.80       695\n",
      "           2       1.00      0.85      0.92       653\n",
      "\n",
      "    accuracy                           0.86      2000\n",
      "   macro avg       0.88      0.86      0.86      2000\n",
      "weighted avg       0.88      0.86      0.86      2000\n",
      "\n"
     ]
    }
   ],
   "source": [
    "# Predict The Model\n",
    "y_pred = xgb_tuned.predict(X_test)\n",
    "acc = accuracy_score(y_test, y_pred)\n",
    "creport = classification_report(y_test, y_pred)\n",
    "print(f'Accuracy Score is: {acc}')\n",
    "print(creport)"
   ]
  },
  {
   "cell_type": "markdown",
   "metadata": {},
   "source": [
    "### **Plot the ROC-AUC Curves of all the models**\n",
    "- In this section, I will illustrate the performance of all the developed models by plotting their multi-class Receiver Operating Characteristic (ROC) curves alongside their respective Area Under the Curve (AUC) scores. In a multi-class classification scenario, the ROC curves represent the true positive rate (TPR) versus the false positive rate (FPR) for each class, considering it as the positive class while grouping the rest as the negative class.\n",
    "\n",
    "- The AUC scores, which are computed for each class separately, provide a quantitative measure of a model's ability to distinguish between the classes across different thresholds. These scores are particularly vital in understanding how well the models can differentiate between the three distinct plant health categories based on the given environmental parameters.\n",
    "\n",
    "- Each curve on the plot represents a different model, with the colors of the curves being allocated according to the AUC scores. This color-coding scheme facilitates a quick and clear comparison of the models, helping in identifying the ones with superior performance, indicated by higher AUC scores.\n",
    "\n",
    "- Through this visualization, I aim to discern the model that demonstrates the best performance in terms of sensitivity and specificity for each class in the multi-class classification problem. This analysis will be instrumental in selecting the most optimal model for predicting plant health, ensuring a reliable and accurate classification"
   ]
  },
  {
   "cell_type": "code",
   "execution_count": 33,
   "metadata": {},
   "outputs": [
    {
     "name": "stdout",
     "output_type": "stream",
     "text": [
      "63/63 [==============================] - 0s 3ms/step\n"
     ]
    }
   ],
   "source": [
    "pred_prob1 = knn_classifier.predict_proba(X_test)\n",
    "pred_prob2 = ltuw.predict_proba(X_test)\n",
    "pred_prob3 = rfc_tuned.predict_proba(X_test)\n",
    "pred_prob4 = xgb_tuned.predict_proba(X_test)\n",
    "pred_prob5 = model.predict(X_test)\n",
    "\n",
    "# roc curve for models\n",
    "fpr1, tpr1, thresh1 = roc_curve(y_test, pred_prob1[:,1], pos_label=1)\n",
    "fpr2, tpr2, thresh2 = roc_curve(y_test, pred_prob2[:,1], pos_label=1)\n",
    "fpr3, tpr3, thresh3 = roc_curve(y_test, pred_prob3[:,1], pos_label=1)\n",
    "fpr4, tpr4, thresh4 = roc_curve(y_test, pred_prob4[:,1], pos_label=1)\n",
    "fpr5, tpr5, thresh5 = roc_curve(y_test, pred_prob5[:,1], pos_label=1)\n",
    "# roc curve for tpr = fpr \n",
    "random_probs = [0 for i in range(len(y_test))]\n",
    "p_fpr, p_tpr, _ = roc_curve(y_test, random_probs, pos_label=1)"
   ]
  },
  {
   "cell_type": "code",
   "execution_count": 34,
   "metadata": {},
   "outputs": [
    {
     "name": "stdout",
     "output_type": "stream",
     "text": [
      " Auc Score Of KNN Classifier:  0.9492029520156363 \n",
      " Auc Score Of Logistic Regression:  0.7632733787040022 \n",
      " Auc Score Of Random Forest Classifier:  0.9711789104591335 \n",
      " Auc Score Of XGBoost Classifier:  0.9690546969596507 \n",
      " Auc Score Of Keras Neural Networks:  0.9717205476310804\n"
     ]
    }
   ],
   "source": [
    "# auc scores\n",
    "auc_score1 = roc_auc_score(y_test, pred_prob1, multi_class='ovo')\n",
    "auc_score2 = roc_auc_score(y_test, pred_prob2, multi_class='ovo')\n",
    "auc_score3 = roc_auc_score(y_test, pred_prob3, multi_class='ovo')\n",
    "auc_score4 = roc_auc_score(y_test, pred_prob4, multi_class='ovo')\n",
    "auc_score5 = roc_auc_score(y_test, pred_prob5, multi_class='ovo')\n",
    "\n",
    "print(' Auc Score Of KNN Classifier: ', auc_score1,'\\n', 'Auc Score Of Logistic Regression: ',auc_score2,'\\n', 'Auc Score Of Random Forest Classifier: ', auc_score3, '\\n', 'Auc Score Of XGBoost Classifier: ',auc_score4,'\\n','Auc Score Of Keras Neural Networks: ', auc_score5)"
   ]
  },
  {
   "cell_type": "code",
   "execution_count": 35,
   "metadata": {},
   "outputs": [
    {
     "name": "stderr",
     "output_type": "stream",
     "text": [
      "C:\\Users\\jawad2019.namal\\AppData\\Local\\Temp\\ipykernel_28304\\2376473096.py:3: MatplotlibDeprecationWarning: The seaborn styles shipped by Matplotlib are deprecated since 3.6, as they no longer correspond to the styles shipped by seaborn. However, they will remain available as 'seaborn-v0_8-<style>'. Alternatively, directly use the seaborn API instead.\n",
      "  plt.style.use('seaborn')\n"
     ]
    },
    {
     "data": {
      "image/png": "[encoded data removed]",
      "text/plain": [
       "<Figure size 800x550 with 1 Axes>"
      ]
     },
     "metadata": {},
     "output_type": "display_data"
    }
   ],
   "source": [
    "# plot roc curves\n",
    "\n",
    "plt.style.use('seaborn')\n",
    "\n",
    "plt.plot(fpr1, tpr1,color='black', label='KNN Classifier')\n",
    "plt.plot(fpr2, tpr2,color='red', label='Logistic Regression with weights ')\n",
    "plt.plot(fpr3, tpr3,color='green', label='RFC with weights')\n",
    "plt.plot(fpr4, tpr4,color='orange', label='XGB with weights')\n",
    "plt.plot(fpr5, tpr5,color='blue', label='Keras Neural Network')\n",
    "plt.plot(p_fpr, p_tpr, linestyle='--', color='purple')\n",
    "# title\n",
    "plt.title('ROC curve')\n",
    "# x label\n",
    "plt.xlabel('False Positive Rate')\n",
    "# y label\n",
    "plt.ylabel('True Positive rate')\n",
    "\n",
    "plt.legend(loc='best')\n",
    "plt.savefig('ROC',dpi=300)\n",
    "plt.show();"
   ]
  },
  {
   "cell_type": "markdown",
   "metadata": {},
   "source": [
    "### **Main Function To Test Samples With the above Models**"
   ]
  },
  {
   "cell_type": "code",
   "execution_count": 36,
   "metadata": {},
   "outputs": [],
   "source": [
    "import numpy as np\n",
    "\n",
    "def predict_plant_health(model, humidity, nitrogen_level, ambient_temperature, presence_of_sunlight):\n",
    "    \"\"\"\n",
    "    This function takes a trained model and environmental variables as inputs and returns the predicted plant health category.\n",
    "    \n",
    "    Parameters:\n",
    "    model (trained model object): The trained model to use for prediction.\n",
    "    humidity (float): The humidity percentage.\n",
    "    nitrogen_level (float): The nitrogen level in mg/kg.\n",
    "    ambient_temperature (float): The ambient temperature in °C.\n",
    "    presence_of_sunlight (float): The presence of sunlight (you might want to specify the scale, e.g., 0-1 or 0-100).\n",
    "    \n",
    "    Returns:\n",
    "    str: The predicted plant health category ('Healthy', 'Moderate', or 'Unhealthy').\n",
    "    \"\"\"\n",
    "    \n",
    "    # Creating a numpy array from the inputs\n",
    "    input_data = np.array([[humidity, nitrogen_level, ambient_temperature, presence_of_sunlight]])\n",
    "    \n",
    "    # Making the prediction based on the type of the model\n",
    "    if 'keras' in str(type(model)):\n",
    "        # For neural network models (assuming TensorFlow/Keras is used)\n",
    "        prediction = model.predict(input_data)\n",
    "        predicted_class = np.argmax(prediction, axis=1)\n",
    "    else:\n",
    "        # For scikit-learn models like Random Forest\n",
    "        predicted_class = model.predict(input_data)\n",
    "    \n",
    "    # Mapping the predicted class to the respective plant health category\n",
    "    class_mapping = {0: 'Healthy', 1: 'Moderate', 2: 'Unhealthy'}\n",
    "    \n",
    "    return class_mapping[predicted_class[0]]"
   ]
  },
  {
   "cell_type": "code",
   "execution_count": 44,
   "metadata": {},
   "outputs": [],
   "source": [
    "# Load saved neural networks model\n",
    "filename = 'neural_networks.pickle'\n",
    "neural_networkd_classifier = pickle.load(open(filename, 'rb'))"
   ]
  },
  {
   "cell_type": "code",
   "execution_count": 46,
   "metadata": {},
   "outputs": [
    {
     "name": "stdout",
     "output_type": "stream",
     "text": [
      "1/1 [==============================] - 0s 30ms/step\n",
      "Unhealthy\n"
     ]
    }
   ],
   "source": [
    "# Use keras neural network model to predict plant health\n",
    "result = predict_plant_health(neural_networkd_classifier, 50.0, 30.0, 25.0, 0)\n",
    "print(result)"
   ]
  },
  {
   "cell_type": "code",
   "execution_count": 38,
   "metadata": {},
   "outputs": [
    {
     "name": "stdout",
     "output_type": "stream",
     "text": [
      "Unhealthy\n"
     ]
    }
   ],
   "source": [
    "# Use random forest model to predict plant health\n",
    "result = predict_plant_health(rfc_tuned, 50.0, 30.0, 25.0, 0.8)\n",
    "print(result)"
   ]
  },
  {
   "cell_type": "code",
   "execution_count": 39,
   "metadata": {},
   "outputs": [
    {
     "name": "stdout",
     "output_type": "stream",
     "text": [
      "Unhealthy\n"
     ]
    }
   ],
   "source": [
    "# Use XGBoost model to predict plant health\n",
    "result = predict_plant_health(xgb_tuned, 50.0, 30.0, 25.0, 0.8)\n",
    "print(result)"
   ]
  },
  {
   "cell_type": "code",
   "execution_count": 40,
   "metadata": {},
   "outputs": [
    {
     "name": "stdout",
     "output_type": "stream",
     "text": [
      "Unhealthy\n"
     ]
    }
   ],
   "source": [
    "# Use KNN classifier model to predict plant health\n",
    "result = predict_plant_health(knn_classifier, 50.0, 30.0, 25.0, 0.8)\n",
    "print(result)"
   ]
  },
  {
   "cell_type": "code",
   "execution_count": 41,
   "metadata": {},
   "outputs": [
    {
     "name": "stdout",
     "output_type": "stream",
     "text": [
      "Healthy\n"
     ]
    }
   ],
   "source": [
    "# Use Logistic Regression model to predict plant health\n",
    "result = predict_plant_health(ltuw, 50.0, 30.0, 25.0, 0.8)\n",
    "print(result)"
   ]
  },
  {
   "cell_type": "markdown",
   "metadata": {},
   "source": [
    "Conclusion:\n",
    "From the above results of model on the random data most of the models give accurate result except the logistic regression."
   ]
  }
 ],
 "metadata": {
  "kernelspec": {
   "display_name": "Python 3",
   "language": "python",
   "name": "python3"
  },
  "language_info": {
   "codemirror_mode": {
    "name": "ipython",
    "version": 3
   },
   "file_extension": ".py",
   "mimetype": "text/x-python",
   "name": "python",
   "nbconvert_exporter": "python",
   "pygments_lexer": "ipython3",
   "version": "3.11.4"
  },
  "orig_nbformat": 4
 },
 "nbformat": 4,
 "nbformat_minor": 2
}
