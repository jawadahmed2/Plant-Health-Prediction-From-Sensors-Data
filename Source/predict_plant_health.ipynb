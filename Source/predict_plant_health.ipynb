{
 "cells": [
  {
   "cell_type": "markdown",
   "metadata": {},
   "source": [
    "## **Predicting Plant Health Using Machine Learning Models**\n"
   ]
  },
  {
   "cell_type": "markdown",
   "metadata": {},
   "source": [
    "- In this notebook, I aim to develop a predictive model to monitor and analyze plant health based on various environmental parameters. This initiative is a part of the smart planter project which is designed to assist both home gardeners and farmers in optimizing their yield and minimizing waste. The predictive model will utilize machine learning algorithms to analyze data from various sensors and predict the health of the plant."
   ]
  },
  {
   "cell_type": "markdown",
   "metadata": {},
   "source": [
    "### **Dataset Description**\n",
    "\n",
    "- The dataset contains the following attributes:\n",
    "\n",
    "   - **Humidity (%):** The percentage of water vapor present in the air surrounding the plants.\n",
    "   - **Nitrogen Levels (mg/kg):** The concentration of nitrogen in the soil, measured in milligrams per kilogram.\n",
    "   - **Ambient Temperature (°C):** The surrounding temperature measured in degrees Celsius.\n",
    "   - **Presence of Sunlight:** A binary attribute indicating whether the plant is exposed to sunlight.\n",
    "   - **Plant Health:** The target variable indicating the health status of the plant."
   ]
  },
  {
   "cell_type": "code",
   "execution_count": 20,
   "metadata": {},
   "outputs": [],
   "source": [
    "# Importing Necessary Libraries\n",
    "import pandas as pd\n",
    "import numpy as np\n",
    "import random\n",
    "import seaborn as sns\n",
    "import matplotlib.pyplot as plt\n",
    "from sklearn.model_selection import train_test_split\n",
    "from sklearn.metrics import accuracy_score, confusion_matrix\n",
    "from sklearn.preprocessing import StandardScaler, LabelEncoder"
   ]
  },
  {
   "cell_type": "markdown",
   "metadata": {},
   "source": [
    "### **Data Simulation Function: generate_data**\n",
    "\n",
    "- This function simulates the generation of a dataset with 10000 data points, which are equally distributed across three categories: 'Healthy', 'Moderate', and 'Unhealthy'. These categories represent different states of plant health. The attributes for each data point include 'Humidity (%)', 'Nitrogen Levels (mg/kg)', 'Ambient Temperature (°C)', 'Presence of Sunlight', and 'Plant Health'. The values of these attributes are generated based on certain conditions defined for each category to simulate real-world scenarios.\n",
    "\n",
    "- **Parameters**\n",
    "   - n: The total number of data points to be generated. It is set to 10000 by default.\n",
    "- **Returns**\n",
    "   - df: A shuffled pandas DataFrame containing the generated data points with their respective attributes."
   ]
  },
  {
   "cell_type": "code",
   "execution_count": 3,
   "metadata": {},
   "outputs": [],
   "source": [
    "# Number of data points\n",
    "n = 10000\n",
    "\n",
    "# Simulate data collection\n",
    "def generate_data(n):\n",
    "    data = {\n",
    "        'Humidity (%)': [],\n",
    "        'Nitrogen Levels (mg/kg)': [],\n",
    "        'Ambient Temperature (°C)': [],\n",
    "        'Presence of Sunlight': [],\n",
    "        'Plant Health': []\n",
    "    }\n",
    "    \n",
    "    # Generate a third of the data for each category\n",
    "    for category in ['Healthy', 'Moderate', 'Unhealthy']:\n",
    "        for _ in range(n // 3):\n",
    "            if category == 'Healthy':\n",
    "                data['Humidity (%)'].append(random.uniform(50, 70))\n",
    "                data['Nitrogen Levels (mg/kg)'].append(random.uniform(100, 150))\n",
    "                data['Ambient Temperature (°C)'].append(random.uniform(15, 25))\n",
    "                data['Presence of Sunlight'].append(1)\n",
    "                data['Plant Health'].append('Healthy')\n",
    "            elif category == 'Moderate':\n",
    "                data['Humidity (%)'].append(random.uniform(40, 80))\n",
    "                data['Nitrogen Levels (mg/kg)'].append(random.uniform(80, 170))\n",
    "                data['Ambient Temperature (°C)'].append(random.uniform(10, 30))\n",
    "                data['Presence of Sunlight'].append(random.choice([0, 1]))\n",
    "                data['Plant Health'].append('Moderate')\n",
    "            else:\n",
    "                data['Humidity (%)'].append(random.uniform(0, 100))\n",
    "                data['Nitrogen Levels (mg/kg)'].append(random.uniform(0, 200))\n",
    "                data['Ambient Temperature (°C)'].append(random.uniform(-10, 40))\n",
    "                data['Presence of Sunlight'].append(random.choice([0, 1]))\n",
    "                data['Plant Health'].append('Unhealthy')\n",
    "    \n",
    "    # Create a DataFrame and shuffle it\n",
    "    df = pd.DataFrame(data)\n",
    "    df = df.sample(frac=1).reset_index(drop=True)\n",
    "    \n",
    "    return df\n",
    "\n",
    "df = generate_data(n)"
   ]
  },
  {
   "cell_type": "code",
   "execution_count": 4,
   "metadata": {},
   "outputs": [
    {
     "data": {
      "text/html": [
       "<div>\n",
       "<style scoped>\n",
       "    .dataframe tbody tr th:only-of-type {\n",
       "        vertical-align: middle;\n",
       "    }\n",
       "\n",
       "    .dataframe tbody tr th {\n",
       "        vertical-align: top;\n",
       "    }\n",
       "\n",
       "    .dataframe thead th {\n",
       "        text-align: right;\n",
       "    }\n",
       "</style>\n",
       "<table border=\"1\" class=\"dataframe\">\n",
       "  <thead>\n",
       "    <tr style=\"text-align: right;\">\n",
       "      <th></th>\n",
       "      <th>Humidity (%)</th>\n",
       "      <th>Nitrogen Levels (mg/kg)</th>\n",
       "      <th>Ambient Temperature (°C)</th>\n",
       "      <th>Presence of Sunlight</th>\n",
       "      <th>Plant Health</th>\n",
       "    </tr>\n",
       "  </thead>\n",
       "  <tbody>\n",
       "    <tr>\n",
       "      <th>0</th>\n",
       "      <td>68.031413</td>\n",
       "      <td>133.828659</td>\n",
       "      <td>19.398839</td>\n",
       "      <td>1</td>\n",
       "      <td>Healthy</td>\n",
       "    </tr>\n",
       "    <tr>\n",
       "      <th>1</th>\n",
       "      <td>56.730508</td>\n",
       "      <td>111.590247</td>\n",
       "      <td>33.227743</td>\n",
       "      <td>1</td>\n",
       "      <td>Unhealthy</td>\n",
       "    </tr>\n",
       "    <tr>\n",
       "      <th>2</th>\n",
       "      <td>61.742981</td>\n",
       "      <td>136.741891</td>\n",
       "      <td>17.204645</td>\n",
       "      <td>1</td>\n",
       "      <td>Healthy</td>\n",
       "    </tr>\n",
       "    <tr>\n",
       "      <th>3</th>\n",
       "      <td>16.556540</td>\n",
       "      <td>163.975525</td>\n",
       "      <td>0.706655</td>\n",
       "      <td>0</td>\n",
       "      <td>Unhealthy</td>\n",
       "    </tr>\n",
       "    <tr>\n",
       "      <th>4</th>\n",
       "      <td>77.764123</td>\n",
       "      <td>197.997788</td>\n",
       "      <td>22.787443</td>\n",
       "      <td>0</td>\n",
       "      <td>Unhealthy</td>\n",
       "    </tr>\n",
       "    <tr>\n",
       "      <th>5</th>\n",
       "      <td>78.863612</td>\n",
       "      <td>137.627394</td>\n",
       "      <td>27.704854</td>\n",
       "      <td>0</td>\n",
       "      <td>Moderate</td>\n",
       "    </tr>\n",
       "    <tr>\n",
       "      <th>6</th>\n",
       "      <td>57.245981</td>\n",
       "      <td>103.282572</td>\n",
       "      <td>21.622807</td>\n",
       "      <td>1</td>\n",
       "      <td>Healthy</td>\n",
       "    </tr>\n",
       "    <tr>\n",
       "      <th>7</th>\n",
       "      <td>75.481046</td>\n",
       "      <td>114.149872</td>\n",
       "      <td>29.841136</td>\n",
       "      <td>0</td>\n",
       "      <td>Moderate</td>\n",
       "    </tr>\n",
       "    <tr>\n",
       "      <th>8</th>\n",
       "      <td>34.131883</td>\n",
       "      <td>64.904187</td>\n",
       "      <td>5.032788</td>\n",
       "      <td>1</td>\n",
       "      <td>Unhealthy</td>\n",
       "    </tr>\n",
       "    <tr>\n",
       "      <th>9</th>\n",
       "      <td>57.982781</td>\n",
       "      <td>137.600939</td>\n",
       "      <td>15.917014</td>\n",
       "      <td>1</td>\n",
       "      <td>Healthy</td>\n",
       "    </tr>\n",
       "  </tbody>\n",
       "</table>\n",
       "</div>"
      ],
      "text/plain": [
       "   Humidity (%)  Nitrogen Levels (mg/kg)  Ambient Temperature (°C)  \\\n",
       "0     68.031413               133.828659                 19.398839   \n",
       "1     56.730508               111.590247                 33.227743   \n",
       "2     61.742981               136.741891                 17.204645   \n",
       "3     16.556540               163.975525                  0.706655   \n",
       "4     77.764123               197.997788                 22.787443   \n",
       "5     78.863612               137.627394                 27.704854   \n",
       "6     57.245981               103.282572                 21.622807   \n",
       "7     75.481046               114.149872                 29.841136   \n",
       "8     34.131883                64.904187                  5.032788   \n",
       "9     57.982781               137.600939                 15.917014   \n",
       "\n",
       "   Presence of Sunlight Plant Health  \n",
       "0                     1      Healthy  \n",
       "1                     1    Unhealthy  \n",
       "2                     1      Healthy  \n",
       "3                     0    Unhealthy  \n",
       "4                     0    Unhealthy  \n",
       "5                     0     Moderate  \n",
       "6                     1      Healthy  \n",
       "7                     0     Moderate  \n",
       "8                     1    Unhealthy  \n",
       "9                     1      Healthy  "
      ]
     },
     "execution_count": 4,
     "metadata": {},
     "output_type": "execute_result"
    }
   ],
   "source": [
    "df.head(10)"
   ]
  },
  {
   "cell_type": "code",
   "execution_count": 13,
   "metadata": {},
   "outputs": [],
   "source": [
    "# Save to CSV\n",
    "#df.to_csv('plant_health_dataset.csv', index=False)"
   ]
  },
  {
   "cell_type": "markdown",
   "metadata": {},
   "source": [
    "### **Loading the Dataset**"
   ]
  },
  {
   "cell_type": "code",
   "execution_count": 17,
   "metadata": {},
   "outputs": [],
   "source": [
    "# Read CSV\n",
    "df = pd.read_csv('plant_health_dataset.csv')"
   ]
  },
  {
   "cell_type": "markdown",
   "metadata": {},
   "source": [
    "### **Data Preprocessing**\n",
    "- Perform necessary data preprocessing steps here\n",
    "- For instance, handling missing values, encoding categorical variables, etc."
   ]
  },
  {
   "cell_type": "code",
   "execution_count": 4,
   "metadata": {},
   "outputs": [],
   "source": [
    "# Handle the missing data if exists\n",
    "df = df.dropna()"
   ]
  },
  {
   "cell_type": "code",
   "execution_count": 19,
   "metadata": {},
   "outputs": [],
   "source": [
    "# Encode the categorical data\n",
    "le = LabelEncoder()\n",
    "df['Plant Health'] = le.fit_transform(df['Plant Health'])"
   ]
  },
  {
   "cell_type": "markdown",
   "metadata": {},
   "source": [
    "### **Exploratory Data Analysis**\n",
    "- Perform exploratory data analysis here\n",
    "- For instance, using seaborn or matplotlib to visualize the data"
   ]
  },
  {
   "cell_type": "code",
   "execution_count": 24,
   "metadata": {},
   "outputs": [
    {
     "data": {
      "text/html": [
       "<div>\n",
       "<style scoped>\n",
       "    .dataframe tbody tr th:only-of-type {\n",
       "        vertical-align: middle;\n",
       "    }\n",
       "\n",
       "    .dataframe tbody tr th {\n",
       "        vertical-align: top;\n",
       "    }\n",
       "\n",
       "    .dataframe thead th {\n",
       "        text-align: right;\n",
       "    }\n",
       "</style>\n",
       "<table border=\"1\" class=\"dataframe\">\n",
       "  <thead>\n",
       "    <tr style=\"text-align: right;\">\n",
       "      <th></th>\n",
       "      <th>Humidity (%)</th>\n",
       "      <th>Nitrogen Levels (mg/kg)</th>\n",
       "      <th>Ambient Temperature (°C)</th>\n",
       "      <th>Presence of Sunlight</th>\n",
       "      <th>Plant Health</th>\n",
       "    </tr>\n",
       "  </thead>\n",
       "  <tbody>\n",
       "    <tr>\n",
       "      <th>Humidity (%)</th>\n",
       "      <td>1.000000</td>\n",
       "      <td>0.075512</td>\n",
       "      <td>0.064991</td>\n",
       "      <td>0.040988</td>\n",
       "      <td>-0.221958</td>\n",
       "    </tr>\n",
       "    <tr>\n",
       "      <th>Nitrogen Levels (mg/kg)</th>\n",
       "      <td>0.075512</td>\n",
       "      <td>1.000000</td>\n",
       "      <td>0.062494</td>\n",
       "      <td>0.081018</td>\n",
       "      <td>-0.270148</td>\n",
       "    </tr>\n",
       "    <tr>\n",
       "      <th>Ambient Temperature (°C)</th>\n",
       "      <td>0.064991</td>\n",
       "      <td>0.062494</td>\n",
       "      <td>1.000000</td>\n",
       "      <td>0.066711</td>\n",
       "      <td>-0.219552</td>\n",
       "    </tr>\n",
       "    <tr>\n",
       "      <th>Presence of Sunlight</th>\n",
       "      <td>0.040988</td>\n",
       "      <td>0.081018</td>\n",
       "      <td>0.066711</td>\n",
       "      <td>1.000000</td>\n",
       "      <td>-0.427915</td>\n",
       "    </tr>\n",
       "    <tr>\n",
       "      <th>Plant Health</th>\n",
       "      <td>-0.221958</td>\n",
       "      <td>-0.270148</td>\n",
       "      <td>-0.219552</td>\n",
       "      <td>-0.427915</td>\n",
       "      <td>1.000000</td>\n",
       "    </tr>\n",
       "  </tbody>\n",
       "</table>\n",
       "</div>"
      ],
      "text/plain": [
       "                          Humidity (%)  Nitrogen Levels (mg/kg)  \\\n",
       "Humidity (%)                  1.000000                 0.075512   \n",
       "Nitrogen Levels (mg/kg)       0.075512                 1.000000   \n",
       "Ambient Temperature (°C)      0.064991                 0.062494   \n",
       "Presence of Sunlight          0.040988                 0.081018   \n",
       "Plant Health                 -0.221958                -0.270148   \n",
       "\n",
       "                          Ambient Temperature (°C)  Presence of Sunlight  \\\n",
       "Humidity (%)                              0.064991              0.040988   \n",
       "Nitrogen Levels (mg/kg)                   0.062494              0.081018   \n",
       "Ambient Temperature (°C)                  1.000000              0.066711   \n",
       "Presence of Sunlight                      0.066711              1.000000   \n",
       "Plant Health                             -0.219552             -0.427915   \n",
       "\n",
       "                          Plant Health  \n",
       "Humidity (%)                 -0.221958  \n",
       "Nitrogen Levels (mg/kg)      -0.270148  \n",
       "Ambient Temperature (°C)     -0.219552  \n",
       "Presence of Sunlight         -0.427915  \n",
       "Plant Health                  1.000000  "
      ]
     },
     "execution_count": 24,
     "metadata": {},
     "output_type": "execute_result"
    }
   ],
   "source": [
    "# Find the correlation between the features \n",
    "df.corr()"
   ]
  },
  {
   "cell_type": "code",
   "execution_count": 25,
   "metadata": {},
   "outputs": [
    {
     "data": {
      "text/plain": [
       "<Axes: >"
      ]
     },
     "execution_count": 25,
     "metadata": {},
     "output_type": "execute_result"
    },
    {
     "data": {
      "image/png": "[encoded data removed]",
      "text/plain": [
       "<Figure size 640x480 with 2 Axes>"
      ]
     },
     "metadata": {},
     "output_type": "display_data"
    }
   ],
   "source": [
    "# Visualize the correlation\n",
    "sns.heatmap(df.corr(), cmap=\"YlGnBu\", annot=True)"
   ]
  },
  {
   "cell_type": "code",
   "execution_count": 21,
   "metadata": {},
   "outputs": [
    {
     "data": {
      "image/png": "[encoded data removed]",
      "text/plain": [
       "<Figure size 640x480 with 1 Axes>"
      ]
     },
     "metadata": {},
     "output_type": "display_data"
    }
   ],
   "source": [
    "# Create a temporary series with replaced values\n",
    "temp_series = df['Plant Health'].replace({0: 'Healthy', 1: 'Moderate', 2: 'Unhealthy'})\n",
    "\n",
    "# Plot the distribution of plant health statuses\n",
    "sns.countplot(x=temp_series)\n",
    "plt.title('Distribution of Plant Health Statuses')\n",
    "plt.show()"
   ]
  },
  {
   "cell_type": "markdown",
   "metadata": {},
   "source": [
    "### **Building Neural Networks**"
   ]
  },
  {
   "cell_type": "code",
   "execution_count": 4,
   "metadata": {},
   "outputs": [],
   "source": [
    "# Split the data into training and testing sets\n",
    "X = df.drop('Plant Health', axis=1)\n",
    "y = df['Plant Health']\n",
    "X_train, X_test, y_train, y_test = train_test_split(X, y, test_size=0.2, random_state=42)"
   ]
  },
  {
   "cell_type": "code",
   "execution_count": 5,
   "metadata": {},
   "outputs": [],
   "source": [
    "# Normalize the feature values\n",
    "scaler = StandardScaler()\n",
    "X_train = scaler.fit_transform(X_train)\n",
    "X_test = scaler.transform(X_test)"
   ]
  },
  {
   "cell_type": "code",
   "execution_count": 12,
   "metadata": {},
   "outputs": [],
   "source": [
    "# Import required libraries\n",
    "import matplotlib.pyplot as plt\n",
    "import tensorflow as tf\n",
    "from tensorflow.keras.models import Sequential\n",
    "from tensorflow.keras.layers import Dense, Dropout"
   ]
  },
  {
   "cell_type": "code",
   "execution_count": 10,
   "metadata": {},
   "outputs": [],
   "source": [
    "# Build a neural network using a library like TensorFlow\n",
    "model = Sequential([\n",
    "    Dense(64, activation='relu', input_shape=(X_train.shape[1],)),\n",
    "    Dropout(0.5),\n",
    "    Dense(64, activation='relu'),\n",
    "    Dropout(0.5),\n",
    "    Dense(3, activation='softmax')\n",
    "])\n",
    "\n",
    "# Compile the model\n",
    "model.compile(optimizer='adam', loss='sparse_categorical_crossentropy', metrics=['accuracy'])"
   ]
  },
  {
   "cell_type": "code",
   "execution_count": 11,
   "metadata": {},
   "outputs": [
    {
     "name": "stdout",
     "output_type": "stream",
     "text": [
      "Epoch 1/100\n",
      "200/200 [==============================] - 1s 3ms/step - loss: 0.8189 - accuracy: 0.6248 - val_loss: 0.5595 - val_accuracy: 0.7731\n",
      "Epoch 2/100\n",
      "200/200 [==============================] - 0s 2ms/step - loss: 0.5819 - accuracy: 0.7565 - val_loss: 0.4221 - val_accuracy: 0.8581\n",
      "Epoch 3/100\n",
      "200/200 [==============================] - 0s 2ms/step - loss: 0.4876 - accuracy: 0.8053 - val_loss: 0.3607 - val_accuracy: 0.8800\n",
      "Epoch 4/100\n",
      "200/200 [==============================] - 0s 2ms/step - loss: 0.4354 - accuracy: 0.8329 - val_loss: 0.3260 - val_accuracy: 0.8994\n",
      "Epoch 5/100\n",
      "200/200 [==============================] - 0s 2ms/step - loss: 0.4097 - accuracy: 0.8420 - val_loss: 0.3089 - val_accuracy: 0.9087\n",
      "Epoch 6/100\n",
      "200/200 [==============================] - 0s 2ms/step - loss: 0.3938 - accuracy: 0.8519 - val_loss: 0.2999 - val_accuracy: 0.9106\n",
      "Epoch 7/100\n",
      "200/200 [==============================] - 0s 2ms/step - loss: 0.3760 - accuracy: 0.8562 - val_loss: 0.2922 - val_accuracy: 0.9106\n",
      "Epoch 8/100\n",
      "200/200 [==============================] - 0s 2ms/step - loss: 0.3565 - accuracy: 0.8684 - val_loss: 0.2826 - val_accuracy: 0.9119\n",
      "Epoch 9/100\n",
      "200/200 [==============================] - 0s 2ms/step - loss: 0.3511 - accuracy: 0.8701 - val_loss: 0.2763 - val_accuracy: 0.9125\n",
      "Epoch 10/100\n",
      "200/200 [==============================] - 0s 2ms/step - loss: 0.3400 - accuracy: 0.8740 - val_loss: 0.2690 - val_accuracy: 0.9162\n",
      "Epoch 11/100\n",
      "200/200 [==============================] - 0s 2ms/step - loss: 0.3325 - accuracy: 0.8751 - val_loss: 0.2635 - val_accuracy: 0.9156\n",
      "Epoch 12/100\n",
      "200/200 [==============================] - 0s 2ms/step - loss: 0.3218 - accuracy: 0.8820 - val_loss: 0.2647 - val_accuracy: 0.9175\n",
      "Epoch 13/100\n",
      "200/200 [==============================] - 0s 2ms/step - loss: 0.3159 - accuracy: 0.8862 - val_loss: 0.2587 - val_accuracy: 0.9212\n",
      "Epoch 14/100\n",
      "200/200 [==============================] - 0s 2ms/step - loss: 0.3172 - accuracy: 0.8880 - val_loss: 0.2526 - val_accuracy: 0.9187\n",
      "Epoch 15/100\n",
      "200/200 [==============================] - 0s 2ms/step - loss: 0.3104 - accuracy: 0.8901 - val_loss: 0.2545 - val_accuracy: 0.9169\n",
      "Epoch 16/100\n",
      "200/200 [==============================] - 0s 2ms/step - loss: 0.3028 - accuracy: 0.8947 - val_loss: 0.2441 - val_accuracy: 0.9256\n",
      "Epoch 17/100\n",
      "200/200 [==============================] - 0s 2ms/step - loss: 0.3012 - accuracy: 0.8955 - val_loss: 0.2493 - val_accuracy: 0.9181\n",
      "Epoch 18/100\n",
      "200/200 [==============================] - 0s 2ms/step - loss: 0.2950 - accuracy: 0.8970 - val_loss: 0.2397 - val_accuracy: 0.9262\n",
      "Epoch 19/100\n",
      "200/200 [==============================] - 0s 2ms/step - loss: 0.2999 - accuracy: 0.8933 - val_loss: 0.2421 - val_accuracy: 0.9206\n",
      "Epoch 20/100\n",
      "200/200 [==============================] - 0s 2ms/step - loss: 0.2877 - accuracy: 0.9020 - val_loss: 0.2397 - val_accuracy: 0.9237\n",
      "Epoch 21/100\n",
      "200/200 [==============================] - 0s 2ms/step - loss: 0.2908 - accuracy: 0.8994 - val_loss: 0.2360 - val_accuracy: 0.9269\n",
      "Epoch 22/100\n",
      "200/200 [==============================] - 0s 2ms/step - loss: 0.2817 - accuracy: 0.9022 - val_loss: 0.2322 - val_accuracy: 0.9287\n",
      "Epoch 23/100\n",
      "200/200 [==============================] - 1s 3ms/step - loss: 0.2816 - accuracy: 0.9072 - val_loss: 0.2320 - val_accuracy: 0.9250\n",
      "Epoch 24/100\n",
      "200/200 [==============================] - 1s 3ms/step - loss: 0.2764 - accuracy: 0.9067 - val_loss: 0.2274 - val_accuracy: 0.9312\n",
      "Epoch 25/100\n",
      "200/200 [==============================] - 1s 3ms/step - loss: 0.2807 - accuracy: 0.9022 - val_loss: 0.2255 - val_accuracy: 0.9319\n",
      "Epoch 26/100\n",
      "200/200 [==============================] - 1s 3ms/step - loss: 0.2752 - accuracy: 0.9076 - val_loss: 0.2287 - val_accuracy: 0.9281\n",
      "Epoch 27/100\n",
      "200/200 [==============================] - 1s 3ms/step - loss: 0.2757 - accuracy: 0.9078 - val_loss: 0.2277 - val_accuracy: 0.9244\n",
      "Epoch 28/100\n",
      "200/200 [==============================] - 1s 3ms/step - loss: 0.2738 - accuracy: 0.9083 - val_loss: 0.2278 - val_accuracy: 0.9281\n",
      "Epoch 29/100\n",
      "200/200 [==============================] - 1s 3ms/step - loss: 0.2663 - accuracy: 0.9094 - val_loss: 0.2226 - val_accuracy: 0.9319\n",
      "Epoch 30/100\n",
      "200/200 [==============================] - 1s 3ms/step - loss: 0.2641 - accuracy: 0.9119 - val_loss: 0.2216 - val_accuracy: 0.9375\n",
      "Epoch 31/100\n",
      "200/200 [==============================] - 1s 3ms/step - loss: 0.2637 - accuracy: 0.9109 - val_loss: 0.2242 - val_accuracy: 0.9300\n",
      "Epoch 32/100\n",
      "200/200 [==============================] - 1s 3ms/step - loss: 0.2694 - accuracy: 0.9081 - val_loss: 0.2177 - val_accuracy: 0.9356\n",
      "Epoch 33/100\n",
      "200/200 [==============================] - 1s 3ms/step - loss: 0.2621 - accuracy: 0.9130 - val_loss: 0.2203 - val_accuracy: 0.9325\n",
      "Epoch 34/100\n",
      "200/200 [==============================] - 1s 3ms/step - loss: 0.2628 - accuracy: 0.9133 - val_loss: 0.2198 - val_accuracy: 0.9337\n",
      "Epoch 35/100\n",
      "200/200 [==============================] - 1s 3ms/step - loss: 0.2641 - accuracy: 0.9115 - val_loss: 0.2205 - val_accuracy: 0.9281\n",
      "Epoch 36/100\n",
      "200/200 [==============================] - 1s 3ms/step - loss: 0.2507 - accuracy: 0.9180 - val_loss: 0.2140 - val_accuracy: 0.9344\n",
      "Epoch 37/100\n",
      "200/200 [==============================] - 1s 3ms/step - loss: 0.2605 - accuracy: 0.9140 - val_loss: 0.2179 - val_accuracy: 0.9281\n",
      "Epoch 38/100\n",
      "200/200 [==============================] - 1s 3ms/step - loss: 0.2569 - accuracy: 0.9159 - val_loss: 0.2177 - val_accuracy: 0.9344\n",
      "Epoch 39/100\n",
      "200/200 [==============================] - 1s 3ms/step - loss: 0.2499 - accuracy: 0.9192 - val_loss: 0.2119 - val_accuracy: 0.9362\n",
      "Epoch 40/100\n",
      "200/200 [==============================] - 1s 3ms/step - loss: 0.2560 - accuracy: 0.9164 - val_loss: 0.2165 - val_accuracy: 0.9375\n",
      "Epoch 41/100\n",
      "200/200 [==============================] - 1s 3ms/step - loss: 0.2599 - accuracy: 0.9147 - val_loss: 0.2194 - val_accuracy: 0.9331\n",
      "Epoch 42/100\n",
      "200/200 [==============================] - 1s 3ms/step - loss: 0.2504 - accuracy: 0.9184 - val_loss: 0.2147 - val_accuracy: 0.9356\n",
      "Epoch 43/100\n",
      "200/200 [==============================] - 1s 3ms/step - loss: 0.2506 - accuracy: 0.9181 - val_loss: 0.2120 - val_accuracy: 0.9356\n",
      "Epoch 44/100\n",
      "200/200 [==============================] - 1s 3ms/step - loss: 0.2529 - accuracy: 0.9175 - val_loss: 0.2156 - val_accuracy: 0.9375\n",
      "Epoch 45/100\n",
      "200/200 [==============================] - 1s 3ms/step - loss: 0.2487 - accuracy: 0.9189 - val_loss: 0.2122 - val_accuracy: 0.9331\n",
      "Epoch 46/100\n",
      "200/200 [==============================] - 1s 3ms/step - loss: 0.2477 - accuracy: 0.9206 - val_loss: 0.2095 - val_accuracy: 0.9413\n",
      "Epoch 47/100\n",
      "200/200 [==============================] - 1s 3ms/step - loss: 0.2507 - accuracy: 0.9184 - val_loss: 0.2129 - val_accuracy: 0.9381\n",
      "Epoch 48/100\n",
      "200/200 [==============================] - 1s 3ms/step - loss: 0.2517 - accuracy: 0.9173 - val_loss: 0.2179 - val_accuracy: 0.9306\n",
      "Epoch 49/100\n",
      "200/200 [==============================] - 1s 3ms/step - loss: 0.2432 - accuracy: 0.9219 - val_loss: 0.2119 - val_accuracy: 0.9356\n",
      "Epoch 50/100\n",
      "200/200 [==============================] - 1s 3ms/step - loss: 0.2446 - accuracy: 0.9195 - val_loss: 0.2134 - val_accuracy: 0.9344\n",
      "Epoch 51/100\n",
      "200/200 [==============================] - 1s 3ms/step - loss: 0.2457 - accuracy: 0.9192 - val_loss: 0.2096 - val_accuracy: 0.9362\n",
      "Epoch 52/100\n",
      "200/200 [==============================] - 1s 3ms/step - loss: 0.2407 - accuracy: 0.9208 - val_loss: 0.2092 - val_accuracy: 0.9350\n",
      "Epoch 53/100\n",
      "200/200 [==============================] - 1s 3ms/step - loss: 0.2441 - accuracy: 0.9203 - val_loss: 0.2098 - val_accuracy: 0.9350\n",
      "Epoch 54/100\n",
      "200/200 [==============================] - 1s 3ms/step - loss: 0.2434 - accuracy: 0.9233 - val_loss: 0.2142 - val_accuracy: 0.9344\n",
      "Epoch 55/100\n",
      "200/200 [==============================] - 1s 3ms/step - loss: 0.2404 - accuracy: 0.9273 - val_loss: 0.2081 - val_accuracy: 0.9356\n",
      "Epoch 56/100\n",
      "200/200 [==============================] - 1s 3ms/step - loss: 0.2438 - accuracy: 0.9208 - val_loss: 0.2090 - val_accuracy: 0.9419\n",
      "Epoch 57/100\n",
      "200/200 [==============================] - 1s 3ms/step - loss: 0.2421 - accuracy: 0.9237 - val_loss: 0.2125 - val_accuracy: 0.9362\n",
      "Epoch 58/100\n",
      "200/200 [==============================] - 1s 3ms/step - loss: 0.2397 - accuracy: 0.9228 - val_loss: 0.2073 - val_accuracy: 0.9406\n",
      "Epoch 59/100\n",
      "200/200 [==============================] - 1s 3ms/step - loss: 0.2421 - accuracy: 0.9237 - val_loss: 0.2168 - val_accuracy: 0.9306\n",
      "Epoch 60/100\n",
      "200/200 [==============================] - 1s 3ms/step - loss: 0.2376 - accuracy: 0.9237 - val_loss: 0.2095 - val_accuracy: 0.9350\n",
      "Epoch 61/100\n",
      "200/200 [==============================] - 1s 3ms/step - loss: 0.2386 - accuracy: 0.9241 - val_loss: 0.2081 - val_accuracy: 0.9388\n",
      "Epoch 62/100\n",
      "200/200 [==============================] - 1s 3ms/step - loss: 0.2378 - accuracy: 0.9225 - val_loss: 0.2124 - val_accuracy: 0.9331\n",
      "Epoch 63/100\n",
      "200/200 [==============================] - 1s 3ms/step - loss: 0.2386 - accuracy: 0.9239 - val_loss: 0.2045 - val_accuracy: 0.9381\n",
      "Epoch 64/100\n",
      "200/200 [==============================] - 1s 3ms/step - loss: 0.2416 - accuracy: 0.9241 - val_loss: 0.2012 - val_accuracy: 0.9406\n",
      "Epoch 65/100\n",
      "200/200 [==============================] - 1s 3ms/step - loss: 0.2341 - accuracy: 0.9251 - val_loss: 0.2098 - val_accuracy: 0.9362\n",
      "Epoch 66/100\n",
      "200/200 [==============================] - 1s 3ms/step - loss: 0.2386 - accuracy: 0.9230 - val_loss: 0.2004 - val_accuracy: 0.9425\n",
      "Epoch 67/100\n",
      "200/200 [==============================] - 1s 3ms/step - loss: 0.2315 - accuracy: 0.9262 - val_loss: 0.2075 - val_accuracy: 0.9362\n",
      "Epoch 68/100\n",
      "200/200 [==============================] - 1s 3ms/step - loss: 0.2317 - accuracy: 0.9273 - val_loss: 0.2045 - val_accuracy: 0.9400\n",
      "Epoch 69/100\n",
      "200/200 [==============================] - 1s 3ms/step - loss: 0.2376 - accuracy: 0.9253 - val_loss: 0.2073 - val_accuracy: 0.9381\n",
      "Epoch 70/100\n",
      "200/200 [==============================] - 1s 3ms/step - loss: 0.2315 - accuracy: 0.9273 - val_loss: 0.2034 - val_accuracy: 0.9388\n",
      "Epoch 71/100\n",
      "200/200 [==============================] - 1s 3ms/step - loss: 0.2321 - accuracy: 0.9287 - val_loss: 0.2041 - val_accuracy: 0.9381\n",
      "Epoch 72/100\n",
      "200/200 [==============================] - 1s 3ms/step - loss: 0.2290 - accuracy: 0.9286 - val_loss: 0.2006 - val_accuracy: 0.9406\n",
      "Epoch 73/100\n",
      "200/200 [==============================] - 1s 3ms/step - loss: 0.2336 - accuracy: 0.9261 - val_loss: 0.2044 - val_accuracy: 0.9388\n",
      "Epoch 74/100\n",
      "200/200 [==============================] - 1s 3ms/step - loss: 0.2340 - accuracy: 0.9280 - val_loss: 0.2022 - val_accuracy: 0.9394\n",
      "Epoch 75/100\n",
      "200/200 [==============================] - 1s 3ms/step - loss: 0.2313 - accuracy: 0.9266 - val_loss: 0.2070 - val_accuracy: 0.9388\n",
      "Epoch 76/100\n",
      "200/200 [==============================] - 1s 3ms/step - loss: 0.2338 - accuracy: 0.9261 - val_loss: 0.2054 - val_accuracy: 0.9375\n",
      "Epoch 77/100\n",
      "200/200 [==============================] - 1s 3ms/step - loss: 0.2330 - accuracy: 0.9264 - val_loss: 0.2035 - val_accuracy: 0.9400\n",
      "Epoch 78/100\n",
      "200/200 [==============================] - 1s 3ms/step - loss: 0.2313 - accuracy: 0.9275 - val_loss: 0.2026 - val_accuracy: 0.9419\n",
      "Epoch 79/100\n",
      "200/200 [==============================] - 1s 3ms/step - loss: 0.2318 - accuracy: 0.9267 - val_loss: 0.2060 - val_accuracy: 0.9388\n",
      "Epoch 80/100\n",
      "200/200 [==============================] - 1s 3ms/step - loss: 0.2334 - accuracy: 0.9248 - val_loss: 0.2039 - val_accuracy: 0.9406\n",
      "Epoch 81/100\n",
      "200/200 [==============================] - 1s 3ms/step - loss: 0.2325 - accuracy: 0.9261 - val_loss: 0.2038 - val_accuracy: 0.9388\n",
      "Epoch 82/100\n",
      "200/200 [==============================] - 1s 3ms/step - loss: 0.2279 - accuracy: 0.9284 - val_loss: 0.2115 - val_accuracy: 0.9350\n",
      "Epoch 83/100\n",
      "200/200 [==============================] - 1s 3ms/step - loss: 0.2297 - accuracy: 0.9273 - val_loss: 0.2038 - val_accuracy: 0.9375\n",
      "Epoch 84/100\n",
      "200/200 [==============================] - 1s 3ms/step - loss: 0.2311 - accuracy: 0.9280 - val_loss: 0.1987 - val_accuracy: 0.9413\n",
      "Epoch 85/100\n",
      "200/200 [==============================] - 1s 3ms/step - loss: 0.2307 - accuracy: 0.9276 - val_loss: 0.1994 - val_accuracy: 0.9419\n",
      "Epoch 86/100\n",
      "200/200 [==============================] - 1s 3ms/step - loss: 0.2342 - accuracy: 0.9275 - val_loss: 0.2000 - val_accuracy: 0.9413\n",
      "Epoch 87/100\n",
      "200/200 [==============================] - 0s 2ms/step - loss: 0.2253 - accuracy: 0.9311 - val_loss: 0.1946 - val_accuracy: 0.9431\n",
      "Epoch 88/100\n",
      "200/200 [==============================] - 0s 2ms/step - loss: 0.2343 - accuracy: 0.9250 - val_loss: 0.1996 - val_accuracy: 0.9406\n",
      "Epoch 89/100\n",
      "200/200 [==============================] - 0s 2ms/step - loss: 0.2317 - accuracy: 0.9267 - val_loss: 0.2012 - val_accuracy: 0.9419\n",
      "Epoch 90/100\n",
      "200/200 [==============================] - 0s 2ms/step - loss: 0.2316 - accuracy: 0.9283 - val_loss: 0.2025 - val_accuracy: 0.9388\n",
      "Epoch 91/100\n",
      "200/200 [==============================] - 0s 2ms/step - loss: 0.2250 - accuracy: 0.9294 - val_loss: 0.2040 - val_accuracy: 0.9413\n",
      "Epoch 92/100\n",
      "200/200 [==============================] - 0s 2ms/step - loss: 0.2227 - accuracy: 0.9309 - val_loss: 0.2007 - val_accuracy: 0.9413\n",
      "Epoch 93/100\n",
      "200/200 [==============================] - 0s 2ms/step - loss: 0.2274 - accuracy: 0.9298 - val_loss: 0.2020 - val_accuracy: 0.9413\n",
      "Epoch 94/100\n",
      "200/200 [==============================] - 0s 2ms/step - loss: 0.2307 - accuracy: 0.9269 - val_loss: 0.2048 - val_accuracy: 0.9438\n",
      "Epoch 95/100\n",
      "200/200 [==============================] - 0s 2ms/step - loss: 0.2245 - accuracy: 0.9316 - val_loss: 0.2026 - val_accuracy: 0.9413\n",
      "Epoch 96/100\n",
      "200/200 [==============================] - 0s 2ms/step - loss: 0.2258 - accuracy: 0.9298 - val_loss: 0.2008 - val_accuracy: 0.9413\n",
      "Epoch 97/100\n",
      "200/200 [==============================] - 0s 2ms/step - loss: 0.2277 - accuracy: 0.9309 - val_loss: 0.1977 - val_accuracy: 0.9419\n",
      "Epoch 98/100\n",
      "200/200 [==============================] - 0s 2ms/step - loss: 0.2253 - accuracy: 0.9294 - val_loss: 0.1956 - val_accuracy: 0.9438\n",
      "Epoch 99/100\n",
      "200/200 [==============================] - 0s 2ms/step - loss: 0.2251 - accuracy: 0.9303 - val_loss: 0.1928 - val_accuracy: 0.9450\n",
      "Epoch 100/100\n",
      "200/200 [==============================] - 0s 2ms/step - loss: 0.2234 - accuracy: 0.9317 - val_loss: 0.2064 - val_accuracy: 0.9388\n"
     ]
    }
   ],
   "source": [
    "# Train the model\n",
    "history = model.fit(X_train, y_train, epochs=100, batch_size=32, validation_split=0.2)"
   ]
  },
  {
   "cell_type": "code",
   "execution_count": 16,
   "metadata": {},
   "outputs": [
    {
     "data": {
      "image/png": "[encoded data removed]",
      "text/plain": [
       "<Figure size 1500x500 with 1 Axes>"
      ]
     },
     "metadata": {},
     "output_type": "display_data"
    }
   ],
   "source": [
    "# Plot training & validation accuracy values\n",
    "plt.figure(figsize=(15, 5))\n",
    "plt.subplot(1, 2, 1)\n",
    "plt.plot(history.history['accuracy'])\n",
    "plt.plot(history.history['val_accuracy'])\n",
    "plt.title('Model accuracy')\n",
    "plt.ylabel('Accuracy')\n",
    "plt.xlabel('Epoch')\n",
    "plt.legend(['Train', 'Validation'], loc='upper left')\n",
    "plt.tight_layout()\n",
    "plt.show()"
   ]
  },
  {
   "cell_type": "code",
   "execution_count": 17,
   "metadata": {},
   "outputs": [
    {
     "name": "stdout",
     "output_type": "stream",
     "text": [
      "63/63 [==============================] - 0s 1ms/step - loss: 0.2204 - accuracy: 0.9325\n",
      "Test Accuracy: 0.9325000047683716\n"
     ]
    }
   ],
   "source": [
    "# Evaluate the model on the test set\n",
    "test_loss, test_acc = model.evaluate(X_test, y_test)\n",
    "print(f'Test Accuracy: {test_acc}')\n"
   ]
  },
  {
   "cell_type": "code",
   "execution_count": 19,
   "metadata": {},
   "outputs": [
    {
     "name": "stdout",
     "output_type": "stream",
     "text": [
      "1/1 [==============================] - 0s 85ms/step\n",
      "Predicted Label: Healthy\n"
     ]
    },
    {
     "name": "stderr",
     "output_type": "stream",
     "text": [
      "C:\\Users\\jawad2019.namal\\AppData\\Roaming\\Python\\Python311\\site-packages\\sklearn\\base.py:464: UserWarning: X does not have valid feature names, but StandardScaler was fitted with feature names\n",
      "  warnings.warn(\n"
     ]
    }
   ],
   "source": [
    "# Making predictions on new data\n",
    "new_data = [[61.007023, 106.570495, 21.414754, 1]]  # Example data\n",
    "new_data = scaler.transform(new_data)  # Normalize the data\n",
    "predictions = model.predict(new_data)\n",
    "predicted_label = le.inverse_transform([np.argmax(predictions)])  # Convert back to original label\n",
    "print(f'Predicted Label: {predicted_label[0]}')\n"
   ]
  },
  {
   "cell_type": "code",
   "execution_count": null,
   "metadata": {},
   "outputs": [],
   "source": []
  }
 ],
 "metadata": {
  "kernelspec": {
   "display_name": "Python 3",
   "language": "python",
   "name": "python3"
  },
  "language_info": {
   "codemirror_mode": {
    "name": "ipython",
    "version": 3
   },
   "file_extension": ".py",
   "mimetype": "text/x-python",
   "name": "python",
   "nbconvert_exporter": "python",
   "pygments_lexer": "ipython3",
   "version": "3.11.4"
  },
  "orig_nbformat": 4
 },
 "nbformat": 4,
 "nbformat_minor": 2
}
