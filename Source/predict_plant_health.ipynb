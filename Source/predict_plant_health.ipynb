{
 "cells": [
  {
   "cell_type": "markdown",
   "metadata": {},
   "source": [
    "## **Predicting Plant Health Using Machine Learning Models**\n"
   ]
  },
  {
   "cell_type": "markdown",
   "metadata": {},
   "source": [
    "- In this notebook, I aim to develop a predictive model to monitor and analyze plant health based on various environmental parameters. This initiative is a part of the smart planter project which is designed to assist both home gardeners and farmers in optimizing their yield and minimizing waste. The predictive model will utilize machine learning algorithms to analyze data from various sensors and predict the health of the plant."
   ]
  },
  {
   "cell_type": "markdown",
   "metadata": {},
   "source": [
    "### **Dataset Description**\n",
    "\n",
    "- The dataset contains the following attributes:\n",
    "\n",
    "   - **Humidity (%):** The percentage of water vapor present in the air surrounding the plants.\n",
    "   - **Nitrogen Levels (mg/kg):** The concentration of nitrogen in the soil, measured in milligrams per kilogram.\n",
    "   - **Ambient Temperature (°C):** The surrounding temperature measured in degrees Celsius.\n",
    "   - **Presence of Sunlight:** A binary attribute indicating whether the plant is exposed to sunlight.\n",
    "   - **Plant Health:** The target variable indicating the health status of the plant."
   ]
  },
  {
   "cell_type": "code",
   "execution_count": 69,
   "metadata": {},
   "outputs": [],
   "source": [
    "# Importing Necessary Libraries\n",
    "import pandas as pd\n",
    "import numpy as np\n",
    "import random\n",
    "import seaborn as sns\n",
    "import matplotlib.pyplot as plt\n",
    "from sklearn.model_selection import train_test_split\n",
    "from sklearn.preprocessing import StandardScaler, LabelEncoder\n",
    "from sklearn.metrics import accuracy_score, confusion_matrix, recall_score,classification_report, roc_auc_score,ConfusionMatrixDisplay\n",
    "from sklearn.metrics import roc_curve"
   ]
  },
  {
   "cell_type": "markdown",
   "metadata": {},
   "source": [
    "### **Data Simulation Function: generate_data**\n",
    "\n",
    "- This function simulates the generation of a dataset with 10000 data points, which are equally distributed across three categories: 'Healthy', 'Moderate', and 'Unhealthy'. These categories represent different states of plant health. The attributes for each data point include 'Humidity (%)', 'Nitrogen Levels (mg/kg)', 'Ambient Temperature (°C)', 'Presence of Sunlight', and 'Plant Health'. The values of these attributes are generated based on certain conditions defined for each category to simulate real-world scenarios.\n",
    "\n",
    "- **Parameters**\n",
    "   - n: The total number of data points to be generated. It is set to 10000 by default.\n",
    "- **Returns**\n",
    "   - df: A shuffled pandas DataFrame containing the generated data points with their respective attributes."
   ]
  },
  {
   "cell_type": "code",
   "execution_count": 3,
   "metadata": {},
   "outputs": [],
   "source": [
    "# Number of data points\n",
    "n = 10000\n",
    "\n",
    "# Simulate data collection\n",
    "def generate_data(n):\n",
    "    data = {\n",
    "        'Humidity (%)': [],\n",
    "        'Nitrogen Levels (mg/kg)': [],\n",
    "        'Ambient Temperature (°C)': [],\n",
    "        'Presence of Sunlight': [],\n",
    "        'Plant Health': []\n",
    "    }\n",
    "    \n",
    "    # Generate a third of the data for each category\n",
    "    for category in ['Healthy', 'Moderate', 'Unhealthy']:\n",
    "        for _ in range(n // 3):\n",
    "            if category == 'Healthy':\n",
    "                data['Humidity (%)'].append(random.uniform(50, 70))\n",
    "                data['Nitrogen Levels (mg/kg)'].append(random.uniform(100, 150))\n",
    "                data['Ambient Temperature (°C)'].append(random.uniform(15, 25))\n",
    "                data['Presence of Sunlight'].append(1)\n",
    "                data['Plant Health'].append('Healthy')\n",
    "            elif category == 'Moderate':\n",
    "                data['Humidity (%)'].append(random.uniform(40, 80))\n",
    "                data['Nitrogen Levels (mg/kg)'].append(random.uniform(80, 170))\n",
    "                data['Ambient Temperature (°C)'].append(random.uniform(10, 30))\n",
    "                data['Presence of Sunlight'].append(random.choice([0, 1]))\n",
    "                data['Plant Health'].append('Moderate')\n",
    "            else:\n",
    "                data['Humidity (%)'].append(random.uniform(0, 100))\n",
    "                data['Nitrogen Levels (mg/kg)'].append(random.uniform(0, 200))\n",
    "                data['Ambient Temperature (°C)'].append(random.uniform(-10, 40))\n",
    "                data['Presence of Sunlight'].append(random.choice([0, 1]))\n",
    "                data['Plant Health'].append('Unhealthy')\n",
    "    \n",
    "    # Create a DataFrame and shuffle it\n",
    "    df = pd.DataFrame(data)\n",
    "    df = df.sample(frac=1).reset_index(drop=True)\n",
    "    \n",
    "    return df\n",
    "\n",
    "df = generate_data(n)"
   ]
  },
  {
   "cell_type": "code",
   "execution_count": 4,
   "metadata": {},
   "outputs": [
    {
     "data": {
      "text/html": [
       "<div>\n",
       "<style scoped>\n",
       "    .dataframe tbody tr th:only-of-type {\n",
       "        vertical-align: middle;\n",
       "    }\n",
       "\n",
       "    .dataframe tbody tr th {\n",
       "        vertical-align: top;\n",
       "    }\n",
       "\n",
       "    .dataframe thead th {\n",
       "        text-align: right;\n",
       "    }\n",
       "</style>\n",
       "<table border=\"1\" class=\"dataframe\">\n",
       "  <thead>\n",
       "    <tr style=\"text-align: right;\">\n",
       "      <th></th>\n",
       "      <th>Humidity (%)</th>\n",
       "      <th>Nitrogen Levels (mg/kg)</th>\n",
       "      <th>Ambient Temperature (°C)</th>\n",
       "      <th>Presence of Sunlight</th>\n",
       "      <th>Plant Health</th>\n",
       "    </tr>\n",
       "  </thead>\n",
       "  <tbody>\n",
       "    <tr>\n",
       "      <th>0</th>\n",
       "      <td>68.031413</td>\n",
       "      <td>133.828659</td>\n",
       "      <td>19.398839</td>\n",
       "      <td>1</td>\n",
       "      <td>Healthy</td>\n",
       "    </tr>\n",
       "    <tr>\n",
       "      <th>1</th>\n",
       "      <td>56.730508</td>\n",
       "      <td>111.590247</td>\n",
       "      <td>33.227743</td>\n",
       "      <td>1</td>\n",
       "      <td>Unhealthy</td>\n",
       "    </tr>\n",
       "    <tr>\n",
       "      <th>2</th>\n",
       "      <td>61.742981</td>\n",
       "      <td>136.741891</td>\n",
       "      <td>17.204645</td>\n",
       "      <td>1</td>\n",
       "      <td>Healthy</td>\n",
       "    </tr>\n",
       "    <tr>\n",
       "      <th>3</th>\n",
       "      <td>16.556540</td>\n",
       "      <td>163.975525</td>\n",
       "      <td>0.706655</td>\n",
       "      <td>0</td>\n",
       "      <td>Unhealthy</td>\n",
       "    </tr>\n",
       "    <tr>\n",
       "      <th>4</th>\n",
       "      <td>77.764123</td>\n",
       "      <td>197.997788</td>\n",
       "      <td>22.787443</td>\n",
       "      <td>0</td>\n",
       "      <td>Unhealthy</td>\n",
       "    </tr>\n",
       "    <tr>\n",
       "      <th>5</th>\n",
       "      <td>78.863612</td>\n",
       "      <td>137.627394</td>\n",
       "      <td>27.704854</td>\n",
       "      <td>0</td>\n",
       "      <td>Moderate</td>\n",
       "    </tr>\n",
       "    <tr>\n",
       "      <th>6</th>\n",
       "      <td>57.245981</td>\n",
       "      <td>103.282572</td>\n",
       "      <td>21.622807</td>\n",
       "      <td>1</td>\n",
       "      <td>Healthy</td>\n",
       "    </tr>\n",
       "    <tr>\n",
       "      <th>7</th>\n",
       "      <td>75.481046</td>\n",
       "      <td>114.149872</td>\n",
       "      <td>29.841136</td>\n",
       "      <td>0</td>\n",
       "      <td>Moderate</td>\n",
       "    </tr>\n",
       "    <tr>\n",
       "      <th>8</th>\n",
       "      <td>34.131883</td>\n",
       "      <td>64.904187</td>\n",
       "      <td>5.032788</td>\n",
       "      <td>1</td>\n",
       "      <td>Unhealthy</td>\n",
       "    </tr>\n",
       "    <tr>\n",
       "      <th>9</th>\n",
       "      <td>57.982781</td>\n",
       "      <td>137.600939</td>\n",
       "      <td>15.917014</td>\n",
       "      <td>1</td>\n",
       "      <td>Healthy</td>\n",
       "    </tr>\n",
       "  </tbody>\n",
       "</table>\n",
       "</div>"
      ],
      "text/plain": [
       "   Humidity (%)  Nitrogen Levels (mg/kg)  Ambient Temperature (°C)  \\\n",
       "0     68.031413               133.828659                 19.398839   \n",
       "1     56.730508               111.590247                 33.227743   \n",
       "2     61.742981               136.741891                 17.204645   \n",
       "3     16.556540               163.975525                  0.706655   \n",
       "4     77.764123               197.997788                 22.787443   \n",
       "5     78.863612               137.627394                 27.704854   \n",
       "6     57.245981               103.282572                 21.622807   \n",
       "7     75.481046               114.149872                 29.841136   \n",
       "8     34.131883                64.904187                  5.032788   \n",
       "9     57.982781               137.600939                 15.917014   \n",
       "\n",
       "   Presence of Sunlight Plant Health  \n",
       "0                     1      Healthy  \n",
       "1                     1    Unhealthy  \n",
       "2                     1      Healthy  \n",
       "3                     0    Unhealthy  \n",
       "4                     0    Unhealthy  \n",
       "5                     0     Moderate  \n",
       "6                     1      Healthy  \n",
       "7                     0     Moderate  \n",
       "8                     1    Unhealthy  \n",
       "9                     1      Healthy  "
      ]
     },
     "execution_count": 4,
     "metadata": {},
     "output_type": "execute_result"
    }
   ],
   "source": [
    "df.head(10)"
   ]
  },
  {
   "cell_type": "code",
   "execution_count": 13,
   "metadata": {},
   "outputs": [],
   "source": [
    "# Save to CSV\n",
    "#df.to_csv('plant_health_dataset.csv', index=False)"
   ]
  },
  {
   "cell_type": "markdown",
   "metadata": {},
   "source": [
    "### **Loading the Dataset**"
   ]
  },
  {
   "cell_type": "code",
   "execution_count": 17,
   "metadata": {},
   "outputs": [],
   "source": [
    "# Read CSV\n",
    "df = pd.read_csv('plant_health_dataset.csv')"
   ]
  },
  {
   "cell_type": "markdown",
   "metadata": {},
   "source": [
    "### **Data Preprocessing**\n",
    "- Perform necessary data preprocessing steps here\n",
    "- For instance, handling missing values, encoding categorical variables, etc."
   ]
  },
  {
   "cell_type": "code",
   "execution_count": 4,
   "metadata": {},
   "outputs": [],
   "source": [
    "# Handle the missing data if exists\n",
    "df = df.dropna()"
   ]
  },
  {
   "cell_type": "code",
   "execution_count": 19,
   "metadata": {},
   "outputs": [],
   "source": [
    "# Encode the categorical data\n",
    "le = LabelEncoder()\n",
    "df['Plant Health'] = le.fit_transform(df['Plant Health'])"
   ]
  },
  {
   "cell_type": "markdown",
   "metadata": {},
   "source": [
    "### **Exploratory Data Analysis**\n",
    "- Perform exploratory data analysis here\n",
    "- For instance, using seaborn or matplotlib to visualize the data"
   ]
  },
  {
   "cell_type": "code",
   "execution_count": 25,
   "metadata": {},
   "outputs": [
    {
     "data": {
      "text/plain": [
       "<Axes: >"
      ]
     },
     "execution_count": 25,
     "metadata": {},
     "output_type": "execute_result"
    },
    {
     "data": {
      "image/png": "[encoded data removed]",
      "text/plain": [
       "<Figure size 640x480 with 2 Axes>"
      ]
     },
     "metadata": {},
     "output_type": "display_data"
    }
   ],
   "source": [
    "# Visualize the correlation\n",
    "sns.heatmap(df.corr(), cmap=\"YlGnBu\", annot=True)"
   ]
  },
  {
   "cell_type": "code",
   "execution_count": 21,
   "metadata": {},
   "outputs": [
    {
     "data": {
      "image/png": "[encoded data removed]",
      "text/plain": [
       "<Figure size 640x480 with 1 Axes>"
      ]
     },
     "metadata": {},
     "output_type": "display_data"
    }
   ],
   "source": [
    "# Create a temporary series with replaced values\n",
    "temp_series = df['Plant Health'].replace({0: 'Healthy', 1: 'Moderate', 2: 'Unhealthy'})\n",
    "\n",
    "# Plot the distribution of plant health statuses\n",
    "sns.countplot(x=temp_series)\n",
    "plt.title('Distribution of Plant Health Statuses')\n",
    "plt.show()"
   ]
  },
  {
   "cell_type": "markdown",
   "metadata": {},
   "source": [
    "### **Model Development**\n",
    "- In this section, I will develop multiple machine learning models and will compare the results of predict plant health based on the features provided."
   ]
  },
  {
   "cell_type": "markdown",
   "metadata": {},
   "source": [
    "#### **Splitting & Scaling the Data**\n",
    "- Split the dataset into the 80 percent training and 20 percent testing"
   ]
  },
  {
   "cell_type": "code",
   "execution_count": 26,
   "metadata": {},
   "outputs": [],
   "source": [
    "# Split the data into training and testing sets\n",
    "X = df.drop('Plant Health', axis=1)\n",
    "y = df['Plant Health']\n",
    "X_train, X_test, y_train, y_test = train_test_split(X, y, test_size=0.2, random_state=42)"
   ]
  },
  {
   "cell_type": "markdown",
   "metadata": {},
   "source": [
    "- Feature Scaling\n"
   ]
  },
  {
   "cell_type": "code",
   "execution_count": 27,
   "metadata": {},
   "outputs": [],
   "source": [
    "# Normalize the feature values\n",
    "scaler = StandardScaler()\n",
    "X_train = scaler.fit_transform(X_train)\n",
    "X_test = scaler.transform(X_test)"
   ]
  },
  {
   "cell_type": "markdown",
   "metadata": {},
   "source": [
    "#### **Model 1: Building Neural Networks**"
   ]
  },
  {
   "cell_type": "code",
   "execution_count": 92,
   "metadata": {},
   "outputs": [],
   "source": [
    "# Import required libraries\n",
    "from keras.models import Sequential\n",
    "from keras.layers import Dropout, BatchNormalization, Dense\n",
    "from keras.callbacks import EarlyStopping,ReduceLROnPlateau\n",
    "from keras.optimizers import Nadam"
   ]
  },
  {
   "cell_type": "code",
   "execution_count": 94,
   "metadata": {},
   "outputs": [],
   "source": [
    "# Build a more powerful neural network using a library like TensorFlow\n",
    "model = Sequential([\n",
    "    Dense(256, activation='relu', input_shape=(X_train.shape[1],), kernel_regularizer='l2'),\n",
    "    Dropout(0.3),\n",
    "    BatchNormalization(),\n",
    "    \n",
    "    Dense(128, activation='relu', kernel_regularizer='l2'),\n",
    "    Dropout(0.3),\n",
    "    BatchNormalization(),\n",
    "    \n",
    "    Dense(64, activation='relu', kernel_regularizer='l2'),\n",
    "    Dropout(0.3),\n",
    "    BatchNormalization(),\n",
    "    \n",
    "    Dense(3, activation='softmax')\n",
    "])\n",
    "\n",
    "# Compile the model with an advanced optimizer\n",
    "optimizer = Nadam(learning_rate=0.001)\n",
    "model.compile(optimizer=optimizer, loss='sparse_categorical_crossentropy', metrics=['accuracy'])\n",
    "\n",
    "# Implement early stopping and learning rate reduction on plateau\n",
    "early_stopping = EarlyStopping(monitor='val_loss', patience=15, restore_best_weights=True)\n",
    "reduce_lr = ReduceLROnPlateau(monitor='val_loss', factor=0.2, patience=5, min_lr=0.0001)"
   ]
  },
  {
   "cell_type": "code",
   "execution_count": 95,
   "metadata": {},
   "outputs": [
    {
     "name": "stdout",
     "output_type": "stream",
     "text": [
      "Epoch 1/300\n"
     ]
    },
    {
     "name": "stdout",
     "output_type": "stream",
     "text": [
      "100/100 [==============================] - 3s 8ms/step - loss: 2.9549 - accuracy: 0.7220 - val_loss: 2.6721 - val_accuracy: 0.7175 - lr: 0.0010\n",
      "Epoch 2/300\n",
      "100/100 [==============================] - 0s 4ms/step - loss: 1.9542 - accuracy: 0.8301 - val_loss: 1.9694 - val_accuracy: 0.4650 - lr: 0.0010\n",
      "Epoch 3/300\n",
      "100/100 [==============================] - 0s 4ms/step - loss: 1.3611 - accuracy: 0.8372 - val_loss: 1.3957 - val_accuracy: 0.6575 - lr: 0.0010\n",
      "Epoch 4/300\n",
      "100/100 [==============================] - 0s 4ms/step - loss: 0.9708 - accuracy: 0.8511 - val_loss: 1.0152 - val_accuracy: 0.7181 - lr: 0.0010\n",
      "Epoch 5/300\n",
      "100/100 [==============================] - 0s 4ms/step - loss: 0.7501 - accuracy: 0.8609 - val_loss: 0.7005 - val_accuracy: 0.8594 - lr: 0.0010\n",
      "Epoch 6/300\n",
      "100/100 [==============================] - 0s 4ms/step - loss: 0.6221 - accuracy: 0.8628 - val_loss: 0.5756 - val_accuracy: 0.8756 - lr: 0.0010\n",
      "Epoch 7/300\n",
      "100/100 [==============================] - 0s 4ms/step - loss: 0.5231 - accuracy: 0.8733 - val_loss: 0.4977 - val_accuracy: 0.8700 - lr: 0.0010\n",
      "Epoch 8/300\n",
      "100/100 [==============================] - 0s 4ms/step - loss: 0.4804 - accuracy: 0.8729 - val_loss: 0.4205 - val_accuracy: 0.8913 - lr: 0.0010\n",
      "Epoch 9/300\n",
      "100/100 [==============================] - 0s 5ms/step - loss: 0.4386 - accuracy: 0.8776 - val_loss: 0.3850 - val_accuracy: 0.9131 - lr: 0.0010\n",
      "Epoch 10/300\n",
      "100/100 [==============================] - 0s 5ms/step - loss: 0.4308 - accuracy: 0.8764 - val_loss: 0.3632 - val_accuracy: 0.9075 - lr: 0.0010\n",
      "Epoch 11/300\n",
      "100/100 [==============================] - 0s 4ms/step - loss: 0.4017 - accuracy: 0.8850 - val_loss: 0.3565 - val_accuracy: 0.8956 - lr: 0.0010\n",
      "Epoch 12/300\n",
      "100/100 [==============================] - 0s 4ms/step - loss: 0.3909 - accuracy: 0.8914 - val_loss: 0.3529 - val_accuracy: 0.9000 - lr: 0.0010\n",
      "Epoch 13/300\n",
      "100/100 [==============================] - 0s 4ms/step - loss: 0.3768 - accuracy: 0.8937 - val_loss: 0.3115 - val_accuracy: 0.9269 - lr: 0.0010\n",
      "Epoch 14/300\n",
      "100/100 [==============================] - 0s 4ms/step - loss: 0.3741 - accuracy: 0.8955 - val_loss: 0.3041 - val_accuracy: 0.9269 - lr: 0.0010\n",
      "Epoch 15/300\n",
      "100/100 [==============================] - 0s 5ms/step - loss: 0.3659 - accuracy: 0.9011 - val_loss: 0.3028 - val_accuracy: 0.9250 - lr: 0.0010\n",
      "Epoch 16/300\n",
      "100/100 [==============================] - 0s 4ms/step - loss: 0.3801 - accuracy: 0.8933 - val_loss: 0.3296 - val_accuracy: 0.9100 - lr: 0.0010\n",
      "Epoch 17/300\n",
      "100/100 [==============================] - 0s 4ms/step - loss: 0.3657 - accuracy: 0.8986 - val_loss: 0.3101 - val_accuracy: 0.9225 - lr: 0.0010\n",
      "Epoch 18/300\n",
      "100/100 [==============================] - 0s 4ms/step - loss: 0.3637 - accuracy: 0.9000 - val_loss: 0.3160 - val_accuracy: 0.9200 - lr: 0.0010\n",
      "Epoch 19/300\n",
      "100/100 [==============================] - 0s 5ms/step - loss: 0.3502 - accuracy: 0.9061 - val_loss: 0.3000 - val_accuracy: 0.9262 - lr: 0.0010\n",
      "Epoch 20/300\n",
      "100/100 [==============================] - 1s 5ms/step - loss: 0.3469 - accuracy: 0.9045 - val_loss: 0.3200 - val_accuracy: 0.9150 - lr: 0.0010\n",
      "Epoch 21/300\n",
      "100/100 [==============================] - 1s 6ms/step - loss: 0.3442 - accuracy: 0.9051 - val_loss: 0.3241 - val_accuracy: 0.9144 - lr: 0.0010\n",
      "Epoch 22/300\n",
      "100/100 [==============================] - 1s 6ms/step - loss: 0.3519 - accuracy: 0.9020 - val_loss: 0.3485 - val_accuracy: 0.9044 - lr: 0.0010\n",
      "Epoch 23/300\n",
      "100/100 [==============================] - 1s 6ms/step - loss: 0.3564 - accuracy: 0.9017 - val_loss: 0.2895 - val_accuracy: 0.9306 - lr: 0.0010\n",
      "Epoch 24/300\n",
      "100/100 [==============================] - 1s 5ms/step - loss: 0.3493 - accuracy: 0.9089 - val_loss: 0.3260 - val_accuracy: 0.9150 - lr: 0.0010\n",
      "Epoch 25/300\n",
      "100/100 [==============================] - 1s 5ms/step - loss: 0.3397 - accuracy: 0.9108 - val_loss: 0.2962 - val_accuracy: 0.9194 - lr: 0.0010\n",
      "Epoch 26/300\n",
      "100/100 [==============================] - 0s 5ms/step - loss: 0.3410 - accuracy: 0.9076 - val_loss: 0.2794 - val_accuracy: 0.9331 - lr: 0.0010\n",
      "Epoch 27/300\n",
      "100/100 [==============================] - 1s 5ms/step - loss: 0.3327 - accuracy: 0.9137 - val_loss: 0.2787 - val_accuracy: 0.9381 - lr: 0.0010\n",
      "Epoch 28/300\n",
      "100/100 [==============================] - 1s 5ms/step - loss: 0.3404 - accuracy: 0.9103 - val_loss: 0.2793 - val_accuracy: 0.9337 - lr: 0.0010\n",
      "Epoch 29/300\n",
      "100/100 [==============================] - 1s 6ms/step - loss: 0.3336 - accuracy: 0.9140 - val_loss: 0.3151 - val_accuracy: 0.9206 - lr: 0.0010\n",
      "Epoch 30/300\n",
      "100/100 [==============================] - 1s 6ms/step - loss: 0.3263 - accuracy: 0.9170 - val_loss: 0.2818 - val_accuracy: 0.9312 - lr: 0.0010\n",
      "Epoch 31/300\n",
      "100/100 [==============================] - 1s 5ms/step - loss: 0.3326 - accuracy: 0.9125 - val_loss: 0.2927 - val_accuracy: 0.9250 - lr: 0.0010\n",
      "Epoch 32/300\n",
      "100/100 [==============================] - 1s 5ms/step - loss: 0.3172 - accuracy: 0.9158 - val_loss: 0.2680 - val_accuracy: 0.9375 - lr: 0.0010\n",
      "Epoch 33/300\n",
      "100/100 [==============================] - 0s 5ms/step - loss: 0.3180 - accuracy: 0.9139 - val_loss: 0.2672 - val_accuracy: 0.9369 - lr: 0.0010\n",
      "Epoch 34/300\n",
      "100/100 [==============================] - 1s 5ms/step - loss: 0.3296 - accuracy: 0.9106 - val_loss: 0.2749 - val_accuracy: 0.9400 - lr: 0.0010\n",
      "Epoch 35/300\n",
      "100/100 [==============================] - 1s 6ms/step - loss: 0.3210 - accuracy: 0.9184 - val_loss: 0.2899 - val_accuracy: 0.9256 - lr: 0.0010\n",
      "Epoch 36/300\n",
      "100/100 [==============================] - 1s 6ms/step - loss: 0.3233 - accuracy: 0.9148 - val_loss: 0.2637 - val_accuracy: 0.9394 - lr: 0.0010\n",
      "Epoch 37/300\n",
      "100/100 [==============================] - 1s 6ms/step - loss: 0.3248 - accuracy: 0.9139 - val_loss: 0.2761 - val_accuracy: 0.9319 - lr: 0.0010\n",
      "Epoch 38/300\n",
      "100/100 [==============================] - 1s 6ms/step - loss: 0.3251 - accuracy: 0.9117 - val_loss: 0.2769 - val_accuracy: 0.9319 - lr: 0.0010\n",
      "Epoch 39/300\n",
      "100/100 [==============================] - 1s 5ms/step - loss: 0.3216 - accuracy: 0.9158 - val_loss: 0.2856 - val_accuracy: 0.9269 - lr: 0.0010\n",
      "Epoch 40/300\n",
      "100/100 [==============================] - 0s 5ms/step - loss: 0.3215 - accuracy: 0.9156 - val_loss: 0.2746 - val_accuracy: 0.9375 - lr: 0.0010\n",
      "Epoch 41/300\n",
      "100/100 [==============================] - 0s 5ms/step - loss: 0.3134 - accuracy: 0.9176 - val_loss: 0.2681 - val_accuracy: 0.9375 - lr: 0.0010\n",
      "Epoch 42/300\n",
      "100/100 [==============================] - 1s 5ms/step - loss: 0.3035 - accuracy: 0.9220 - val_loss: 0.2605 - val_accuracy: 0.9394 - lr: 2.0000e-04\n",
      "Epoch 43/300\n",
      "100/100 [==============================] - 1s 5ms/step - loss: 0.2883 - accuracy: 0.9286 - val_loss: 0.2562 - val_accuracy: 0.9406 - lr: 2.0000e-04\n",
      "Epoch 44/300\n",
      "100/100 [==============================] - 1s 6ms/step - loss: 0.2832 - accuracy: 0.9273 - val_loss: 0.2499 - val_accuracy: 0.9400 - lr: 2.0000e-04\n",
      "Epoch 45/300\n",
      "100/100 [==============================] - 1s 6ms/step - loss: 0.2766 - accuracy: 0.9287 - val_loss: 0.2449 - val_accuracy: 0.9438 - lr: 2.0000e-04\n",
      "Epoch 46/300\n",
      "100/100 [==============================] - 1s 6ms/step - loss: 0.2812 - accuracy: 0.9283 - val_loss: 0.2443 - val_accuracy: 0.9419 - lr: 2.0000e-04\n",
      "Epoch 47/300\n",
      "100/100 [==============================] - 1s 5ms/step - loss: 0.2743 - accuracy: 0.9311 - val_loss: 0.2424 - val_accuracy: 0.9413 - lr: 2.0000e-04\n",
      "Epoch 48/300\n",
      "100/100 [==============================] - 1s 5ms/step - loss: 0.2674 - accuracy: 0.9342 - val_loss: 0.2382 - val_accuracy: 0.9419 - lr: 2.0000e-04\n",
      "Epoch 49/300\n",
      "100/100 [==============================] - 1s 5ms/step - loss: 0.2694 - accuracy: 0.9350 - val_loss: 0.2380 - val_accuracy: 0.9419 - lr: 2.0000e-04\n",
      "Epoch 50/300\n",
      "100/100 [==============================] - 1s 5ms/step - loss: 0.2665 - accuracy: 0.9333 - val_loss: 0.2378 - val_accuracy: 0.9413 - lr: 2.0000e-04\n",
      "Epoch 51/300\n",
      "100/100 [==============================] - 1s 6ms/step - loss: 0.2624 - accuracy: 0.9342 - val_loss: 0.2389 - val_accuracy: 0.9413 - lr: 2.0000e-04\n",
      "Epoch 52/300\n",
      "100/100 [==============================] - 1s 6ms/step - loss: 0.2623 - accuracy: 0.9333 - val_loss: 0.2308 - val_accuracy: 0.9456 - lr: 2.0000e-04\n",
      "Epoch 53/300\n",
      "100/100 [==============================] - 1s 5ms/step - loss: 0.2585 - accuracy: 0.9359 - val_loss: 0.2320 - val_accuracy: 0.9438 - lr: 2.0000e-04\n",
      "Epoch 54/300\n",
      "100/100 [==============================] - 1s 5ms/step - loss: 0.2638 - accuracy: 0.9341 - val_loss: 0.2326 - val_accuracy: 0.9425 - lr: 2.0000e-04\n",
      "Epoch 55/300\n",
      "100/100 [==============================] - 0s 5ms/step - loss: 0.2649 - accuracy: 0.9325 - val_loss: 0.2253 - val_accuracy: 0.9469 - lr: 2.0000e-04\n",
      "Epoch 56/300\n",
      "100/100 [==============================] - 1s 5ms/step - loss: 0.2594 - accuracy: 0.9325 - val_loss: 0.2300 - val_accuracy: 0.9438 - lr: 2.0000e-04\n",
      "Epoch 57/300\n",
      "100/100 [==============================] - 1s 6ms/step - loss: 0.2568 - accuracy: 0.9359 - val_loss: 0.2336 - val_accuracy: 0.9425 - lr: 2.0000e-04\n",
      "Epoch 58/300\n",
      "100/100 [==============================] - 1s 6ms/step - loss: 0.2612 - accuracy: 0.9317 - val_loss: 0.2362 - val_accuracy: 0.9413 - lr: 2.0000e-04\n",
      "Epoch 59/300\n",
      "100/100 [==============================] - 1s 6ms/step - loss: 0.2557 - accuracy: 0.9350 - val_loss: 0.2283 - val_accuracy: 0.9469 - lr: 2.0000e-04\n",
      "Epoch 60/300\n",
      "100/100 [==============================] - 1s 5ms/step - loss: 0.2637 - accuracy: 0.9319 - val_loss: 0.2289 - val_accuracy: 0.9438 - lr: 2.0000e-04\n",
      "Epoch 61/300\n",
      "100/100 [==============================] - 1s 5ms/step - loss: 0.2584 - accuracy: 0.9334 - val_loss: 0.2273 - val_accuracy: 0.9431 - lr: 1.0000e-04\n",
      "Epoch 62/300\n",
      "100/100 [==============================] - 0s 5ms/step - loss: 0.2548 - accuracy: 0.9369 - val_loss: 0.2289 - val_accuracy: 0.9431 - lr: 1.0000e-04\n",
      "Epoch 63/300\n",
      "100/100 [==============================] - 0s 5ms/step - loss: 0.2524 - accuracy: 0.9345 - val_loss: 0.2235 - val_accuracy: 0.9456 - lr: 1.0000e-04\n",
      "Epoch 64/300\n",
      "100/100 [==============================] - 1s 5ms/step - loss: 0.2531 - accuracy: 0.9350 - val_loss: 0.2287 - val_accuracy: 0.9438 - lr: 1.0000e-04\n",
      "Epoch 65/300\n",
      "100/100 [==============================] - 1s 5ms/step - loss: 0.2523 - accuracy: 0.9375 - val_loss: 0.2251 - val_accuracy: 0.9444 - lr: 1.0000e-04\n",
      "Epoch 66/300\n",
      "100/100 [==============================] - 1s 6ms/step - loss: 0.2467 - accuracy: 0.9373 - val_loss: 0.2230 - val_accuracy: 0.9444 - lr: 1.0000e-04\n",
      "Epoch 67/300\n",
      "100/100 [==============================] - 1s 6ms/step - loss: 0.2462 - accuracy: 0.9387 - val_loss: 0.2230 - val_accuracy: 0.9431 - lr: 1.0000e-04\n",
      "Epoch 68/300\n",
      "100/100 [==============================] - 1s 6ms/step - loss: 0.2511 - accuracy: 0.9359 - val_loss: 0.2239 - val_accuracy: 0.9444 - lr: 1.0000e-04\n",
      "Epoch 69/300\n",
      "100/100 [==============================] - 1s 5ms/step - loss: 0.2473 - accuracy: 0.9394 - val_loss: 0.2254 - val_accuracy: 0.9444 - lr: 1.0000e-04\n",
      "Epoch 70/300\n",
      "100/100 [==============================] - 0s 5ms/step - loss: 0.2468 - accuracy: 0.9361 - val_loss: 0.2256 - val_accuracy: 0.9450 - lr: 1.0000e-04\n",
      "Epoch 71/300\n",
      "100/100 [==============================] - 1s 5ms/step - loss: 0.2451 - accuracy: 0.9381 - val_loss: 0.2222 - val_accuracy: 0.9444 - lr: 1.0000e-04\n",
      "Epoch 72/300\n",
      "100/100 [==============================] - 1s 5ms/step - loss: 0.2461 - accuracy: 0.9364 - val_loss: 0.2202 - val_accuracy: 0.9469 - lr: 1.0000e-04\n",
      "Epoch 73/300\n",
      "100/100 [==============================] - 1s 6ms/step - loss: 0.2456 - accuracy: 0.9370 - val_loss: 0.2220 - val_accuracy: 0.9450 - lr: 1.0000e-04\n",
      "Epoch 74/300\n",
      "100/100 [==============================] - 1s 6ms/step - loss: 0.2429 - accuracy: 0.9380 - val_loss: 0.2223 - val_accuracy: 0.9444 - lr: 1.0000e-04\n",
      "Epoch 75/300\n",
      "100/100 [==============================] - 1s 5ms/step - loss: 0.2407 - accuracy: 0.9398 - val_loss: 0.2201 - val_accuracy: 0.9456 - lr: 1.0000e-04\n",
      "Epoch 76/300\n",
      "100/100 [==============================] - 1s 5ms/step - loss: 0.2492 - accuracy: 0.9355 - val_loss: 0.2249 - val_accuracy: 0.9438 - lr: 1.0000e-04\n",
      "Epoch 77/300\n",
      "100/100 [==============================] - 0s 5ms/step - loss: 0.2513 - accuracy: 0.9376 - val_loss: 0.2214 - val_accuracy: 0.9463 - lr: 1.0000e-04\n",
      "Epoch 78/300\n",
      "100/100 [==============================] - 0s 5ms/step - loss: 0.2439 - accuracy: 0.9380 - val_loss: 0.2211 - val_accuracy: 0.9450 - lr: 1.0000e-04\n",
      "Epoch 79/300\n",
      "100/100 [==============================] - 1s 6ms/step - loss: 0.2461 - accuracy: 0.9361 - val_loss: 0.2210 - val_accuracy: 0.9444 - lr: 1.0000e-04\n",
      "Epoch 80/300\n",
      "100/100 [==============================] - 1s 6ms/step - loss: 0.2438 - accuracy: 0.9378 - val_loss: 0.2194 - val_accuracy: 0.9494 - lr: 1.0000e-04\n",
      "Epoch 81/300\n",
      "100/100 [==============================] - 1s 6ms/step - loss: 0.2430 - accuracy: 0.9376 - val_loss: 0.2168 - val_accuracy: 0.9500 - lr: 1.0000e-04\n",
      "Epoch 82/300\n",
      "100/100 [==============================] - 1s 6ms/step - loss: 0.2433 - accuracy: 0.9391 - val_loss: 0.2164 - val_accuracy: 0.9469 - lr: 1.0000e-04\n",
      "Epoch 83/300\n",
      "100/100 [==============================] - 1s 5ms/step - loss: 0.2443 - accuracy: 0.9369 - val_loss: 0.2194 - val_accuracy: 0.9450 - lr: 1.0000e-04\n",
      "Epoch 84/300\n",
      "100/100 [==============================] - 0s 5ms/step - loss: 0.2399 - accuracy: 0.9389 - val_loss: 0.2192 - val_accuracy: 0.9481 - lr: 1.0000e-04\n",
      "Epoch 85/300\n",
      "100/100 [==============================] - 1s 5ms/step - loss: 0.2459 - accuracy: 0.9355 - val_loss: 0.2215 - val_accuracy: 0.9444 - lr: 1.0000e-04\n",
      "Epoch 86/300\n",
      "100/100 [==============================] - 1s 5ms/step - loss: 0.2450 - accuracy: 0.9369 - val_loss: 0.2176 - val_accuracy: 0.9438 - lr: 1.0000e-04\n",
      "Epoch 87/300\n",
      "100/100 [==============================] - 1s 6ms/step - loss: 0.2424 - accuracy: 0.9367 - val_loss: 0.2183 - val_accuracy: 0.9456 - lr: 1.0000e-04\n",
      "Epoch 88/300\n",
      "100/100 [==============================] - 1s 6ms/step - loss: 0.2397 - accuracy: 0.9378 - val_loss: 0.2194 - val_accuracy: 0.9431 - lr: 1.0000e-04\n",
      "Epoch 89/300\n",
      "100/100 [==============================] - 1s 6ms/step - loss: 0.2474 - accuracy: 0.9373 - val_loss: 0.2231 - val_accuracy: 0.9444 - lr: 1.0000e-04\n",
      "Epoch 90/300\n",
      "100/100 [==============================] - 1s 5ms/step - loss: 0.2483 - accuracy: 0.9369 - val_loss: 0.2166 - val_accuracy: 0.9475 - lr: 1.0000e-04\n",
      "Epoch 91/300\n",
      "100/100 [==============================] - 1s 5ms/step - loss: 0.2372 - accuracy: 0.9400 - val_loss: 0.2211 - val_accuracy: 0.9444 - lr: 1.0000e-04\n",
      "Epoch 92/300\n",
      "100/100 [==============================] - 0s 5ms/step - loss: 0.2460 - accuracy: 0.9391 - val_loss: 0.2222 - val_accuracy: 0.9438 - lr: 1.0000e-04\n",
      "Epoch 93/300\n",
      "100/100 [==============================] - 1s 5ms/step - loss: 0.2422 - accuracy: 0.9378 - val_loss: 0.2158 - val_accuracy: 0.9475 - lr: 1.0000e-04\n",
      "Epoch 94/300\n",
      "100/100 [==============================] - 1s 5ms/step - loss: 0.2396 - accuracy: 0.9394 - val_loss: 0.2181 - val_accuracy: 0.9456 - lr: 1.0000e-04\n",
      "Epoch 95/300\n",
      "100/100 [==============================] - 1s 6ms/step - loss: 0.2492 - accuracy: 0.9356 - val_loss: 0.2193 - val_accuracy: 0.9456 - lr: 1.0000e-04\n",
      "Epoch 96/300\n",
      "100/100 [==============================] - 1s 6ms/step - loss: 0.2389 - accuracy: 0.9405 - val_loss: 0.2150 - val_accuracy: 0.9475 - lr: 1.0000e-04\n",
      "Epoch 97/300\n",
      "100/100 [==============================] - 1s 6ms/step - loss: 0.2392 - accuracy: 0.9370 - val_loss: 0.2208 - val_accuracy: 0.9469 - lr: 1.0000e-04\n",
      "Epoch 98/300\n",
      "100/100 [==============================] - 1s 6ms/step - loss: 0.2401 - accuracy: 0.9389 - val_loss: 0.2191 - val_accuracy: 0.9475 - lr: 1.0000e-04\n",
      "Epoch 99/300\n",
      "100/100 [==============================] - 1s 5ms/step - loss: 0.2440 - accuracy: 0.9384 - val_loss: 0.2180 - val_accuracy: 0.9469 - lr: 1.0000e-04\n",
      "Epoch 100/300\n",
      "100/100 [==============================] - 1s 5ms/step - loss: 0.2444 - accuracy: 0.9366 - val_loss: 0.2168 - val_accuracy: 0.9481 - lr: 1.0000e-04\n",
      "Epoch 101/300\n",
      "100/100 [==============================] - 1s 5ms/step - loss: 0.2497 - accuracy: 0.9361 - val_loss: 0.2158 - val_accuracy: 0.9475 - lr: 1.0000e-04\n",
      "Epoch 102/300\n",
      "100/100 [==============================] - 1s 6ms/step - loss: 0.2405 - accuracy: 0.9380 - val_loss: 0.2168 - val_accuracy: 0.9488 - lr: 1.0000e-04\n",
      "Epoch 103/300\n",
      "100/100 [==============================] - 1s 6ms/step - loss: 0.2418 - accuracy: 0.9397 - val_loss: 0.2201 - val_accuracy: 0.9450 - lr: 1.0000e-04\n",
      "Epoch 104/300\n",
      "100/100 [==============================] - 1s 5ms/step - loss: 0.2412 - accuracy: 0.9391 - val_loss: 0.2209 - val_accuracy: 0.9444 - lr: 1.0000e-04\n",
      "Epoch 105/300\n",
      "100/100 [==============================] - 1s 5ms/step - loss: 0.2446 - accuracy: 0.9367 - val_loss: 0.2164 - val_accuracy: 0.9469 - lr: 1.0000e-04\n",
      "Epoch 106/300\n",
      "100/100 [==============================] - 0s 5ms/step - loss: 0.2391 - accuracy: 0.9366 - val_loss: 0.2192 - val_accuracy: 0.9456 - lr: 1.0000e-04\n",
      "Epoch 107/300\n",
      "100/100 [==============================] - 1s 5ms/step - loss: 0.2369 - accuracy: 0.9386 - val_loss: 0.2146 - val_accuracy: 0.9469 - lr: 1.0000e-04\n",
      "Epoch 108/300\n",
      "100/100 [==============================] - 1s 6ms/step - loss: 0.2435 - accuracy: 0.9391 - val_loss: 0.2164 - val_accuracy: 0.9450 - lr: 1.0000e-04\n",
      "Epoch 109/300\n",
      "100/100 [==============================] - 1s 6ms/step - loss: 0.2386 - accuracy: 0.9383 - val_loss: 0.2149 - val_accuracy: 0.9475 - lr: 1.0000e-04\n",
      "Epoch 110/300\n",
      "100/100 [==============================] - 1s 6ms/step - loss: 0.2467 - accuracy: 0.9366 - val_loss: 0.2172 - val_accuracy: 0.9450 - lr: 1.0000e-04\n",
      "Epoch 111/300\n",
      "100/100 [==============================] - 1s 6ms/step - loss: 0.2438 - accuracy: 0.9391 - val_loss: 0.2156 - val_accuracy: 0.9463 - lr: 1.0000e-04\n",
      "Epoch 112/300\n",
      "100/100 [==============================] - 1s 5ms/step - loss: 0.2354 - accuracy: 0.9383 - val_loss: 0.2178 - val_accuracy: 0.9475 - lr: 1.0000e-04\n",
      "Epoch 113/300\n",
      "100/100 [==============================] - 0s 5ms/step - loss: 0.2428 - accuracy: 0.9376 - val_loss: 0.2165 - val_accuracy: 0.9450 - lr: 1.0000e-04\n",
      "Epoch 114/300\n",
      "100/100 [==============================] - 1s 5ms/step - loss: 0.2459 - accuracy: 0.9344 - val_loss: 0.2202 - val_accuracy: 0.9438 - lr: 1.0000e-04\n",
      "Epoch 115/300\n",
      "100/100 [==============================] - 1s 5ms/step - loss: 0.2338 - accuracy: 0.9405 - val_loss: 0.2149 - val_accuracy: 0.9488 - lr: 1.0000e-04\n",
      "Epoch 116/300\n",
      "100/100 [==============================] - 1s 7ms/step - loss: 0.2415 - accuracy: 0.9395 - val_loss: 0.2150 - val_accuracy: 0.9475 - lr: 1.0000e-04\n",
      "Epoch 117/300\n",
      "100/100 [==============================] - 1s 6ms/step - loss: 0.2423 - accuracy: 0.9376 - val_loss: 0.2147 - val_accuracy: 0.9469 - lr: 1.0000e-04\n",
      "Epoch 118/300\n",
      "100/100 [==============================] - 1s 6ms/step - loss: 0.2350 - accuracy: 0.9409 - val_loss: 0.2174 - val_accuracy: 0.9463 - lr: 1.0000e-04\n",
      "Epoch 119/300\n",
      "100/100 [==============================] - 1s 5ms/step - loss: 0.2459 - accuracy: 0.9358 - val_loss: 0.2118 - val_accuracy: 0.9500 - lr: 1.0000e-04\n",
      "Epoch 120/300\n",
      "100/100 [==============================] - 0s 5ms/step - loss: 0.2389 - accuracy: 0.9391 - val_loss: 0.2127 - val_accuracy: 0.9475 - lr: 1.0000e-04\n",
      "Epoch 121/300\n",
      "100/100 [==============================] - 1s 5ms/step - loss: 0.2427 - accuracy: 0.9367 - val_loss: 0.2167 - val_accuracy: 0.9456 - lr: 1.0000e-04\n",
      "Epoch 122/300\n",
      "100/100 [==============================] - 1s 5ms/step - loss: 0.2411 - accuracy: 0.9387 - val_loss: 0.2218 - val_accuracy: 0.9450 - lr: 1.0000e-04\n",
      "Epoch 123/300\n",
      "100/100 [==============================] - 1s 6ms/step - loss: 0.2411 - accuracy: 0.9384 - val_loss: 0.2182 - val_accuracy: 0.9469 - lr: 1.0000e-04\n",
      "Epoch 124/300\n",
      "100/100 [==============================] - 1s 7ms/step - loss: 0.2420 - accuracy: 0.9367 - val_loss: 0.2158 - val_accuracy: 0.9469 - lr: 1.0000e-04\n",
      "Epoch 125/300\n",
      "100/100 [==============================] - 1s 6ms/step - loss: 0.2348 - accuracy: 0.9392 - val_loss: 0.2145 - val_accuracy: 0.9469 - lr: 1.0000e-04\n",
      "Epoch 126/300\n",
      "100/100 [==============================] - 1s 6ms/step - loss: 0.2395 - accuracy: 0.9386 - val_loss: 0.2159 - val_accuracy: 0.9456 - lr: 1.0000e-04\n",
      "Epoch 127/300\n",
      "100/100 [==============================] - 0s 5ms/step - loss: 0.2408 - accuracy: 0.9400 - val_loss: 0.2114 - val_accuracy: 0.9500 - lr: 1.0000e-04\n",
      "Epoch 128/300\n",
      "100/100 [==============================] - 1s 5ms/step - loss: 0.2413 - accuracy: 0.9373 - val_loss: 0.2148 - val_accuracy: 0.9488 - lr: 1.0000e-04\n",
      "Epoch 129/300\n",
      "100/100 [==============================] - 1s 5ms/step - loss: 0.2358 - accuracy: 0.9389 - val_loss: 0.2157 - val_accuracy: 0.9456 - lr: 1.0000e-04\n",
      "Epoch 130/300\n",
      "100/100 [==============================] - 1s 6ms/step - loss: 0.2447 - accuracy: 0.9383 - val_loss: 0.2185 - val_accuracy: 0.9469 - lr: 1.0000e-04\n",
      "Epoch 131/300\n",
      "100/100 [==============================] - 1s 6ms/step - loss: 0.2369 - accuracy: 0.9398 - val_loss: 0.2135 - val_accuracy: 0.9469 - lr: 1.0000e-04\n",
      "Epoch 132/300\n",
      "100/100 [==============================] - 1s 6ms/step - loss: 0.2399 - accuracy: 0.9378 - val_loss: 0.2137 - val_accuracy: 0.9475 - lr: 1.0000e-04\n",
      "Epoch 133/300\n",
      "100/100 [==============================] - 1s 6ms/step - loss: 0.2384 - accuracy: 0.9375 - val_loss: 0.2156 - val_accuracy: 0.9456 - lr: 1.0000e-04\n",
      "Epoch 134/300\n",
      "100/100 [==============================] - 1s 5ms/step - loss: 0.2333 - accuracy: 0.9394 - val_loss: 0.2175 - val_accuracy: 0.9463 - lr: 1.0000e-04\n",
      "Epoch 135/300\n",
      "100/100 [==============================] - 1s 5ms/step - loss: 0.2420 - accuracy: 0.9367 - val_loss: 0.2139 - val_accuracy: 0.9475 - lr: 1.0000e-04\n",
      "Epoch 136/300\n",
      "100/100 [==============================] - 1s 5ms/step - loss: 0.2365 - accuracy: 0.9401 - val_loss: 0.2175 - val_accuracy: 0.9444 - lr: 1.0000e-04\n",
      "Epoch 137/300\n",
      "100/100 [==============================] - 1s 6ms/step - loss: 0.2408 - accuracy: 0.9381 - val_loss: 0.2158 - val_accuracy: 0.9444 - lr: 1.0000e-04\n",
      "Epoch 138/300\n",
      "100/100 [==============================] - 1s 6ms/step - loss: 0.2346 - accuracy: 0.9403 - val_loss: 0.2112 - val_accuracy: 0.9463 - lr: 1.0000e-04\n",
      "Epoch 139/300\n",
      "100/100 [==============================] - 1s 6ms/step - loss: 0.2404 - accuracy: 0.9376 - val_loss: 0.2099 - val_accuracy: 0.9481 - lr: 1.0000e-04\n",
      "Epoch 140/300\n",
      "100/100 [==============================] - 1s 6ms/step - loss: 0.2384 - accuracy: 0.9380 - val_loss: 0.2115 - val_accuracy: 0.9481 - lr: 1.0000e-04\n",
      "Epoch 141/300\n",
      "100/100 [==============================] - 0s 5ms/step - loss: 0.2343 - accuracy: 0.9405 - val_loss: 0.2174 - val_accuracy: 0.9444 - lr: 1.0000e-04\n",
      "Epoch 142/300\n",
      "100/100 [==============================] - 0s 5ms/step - loss: 0.2376 - accuracy: 0.9392 - val_loss: 0.2105 - val_accuracy: 0.9475 - lr: 1.0000e-04\n",
      "Epoch 143/300\n",
      "100/100 [==============================] - 1s 5ms/step - loss: 0.2449 - accuracy: 0.9373 - val_loss: 0.2168 - val_accuracy: 0.9463 - lr: 1.0000e-04\n",
      "Epoch 144/300\n",
      "100/100 [==============================] - 1s 5ms/step - loss: 0.2391 - accuracy: 0.9387 - val_loss: 0.2162 - val_accuracy: 0.9475 - lr: 1.0000e-04\n",
      "Epoch 145/300\n",
      "100/100 [==============================] - 1s 6ms/step - loss: 0.2354 - accuracy: 0.9392 - val_loss: 0.2131 - val_accuracy: 0.9481 - lr: 1.0000e-04\n",
      "Epoch 146/300\n",
      "100/100 [==============================] - 1s 6ms/step - loss: 0.2330 - accuracy: 0.9383 - val_loss: 0.2117 - val_accuracy: 0.9469 - lr: 1.0000e-04\n",
      "Epoch 147/300\n",
      "100/100 [==============================] - 1s 6ms/step - loss: 0.2411 - accuracy: 0.9403 - val_loss: 0.2148 - val_accuracy: 0.9463 - lr: 1.0000e-04\n",
      "Epoch 148/300\n",
      "100/100 [==============================] - 1s 6ms/step - loss: 0.2413 - accuracy: 0.9350 - val_loss: 0.2165 - val_accuracy: 0.9456 - lr: 1.0000e-04\n",
      "Epoch 149/300\n",
      "100/100 [==============================] - 1s 5ms/step - loss: 0.2358 - accuracy: 0.9397 - val_loss: 0.2156 - val_accuracy: 0.9450 - lr: 1.0000e-04\n",
      "Epoch 150/300\n",
      "100/100 [==============================] - 1s 5ms/step - loss: 0.2421 - accuracy: 0.9378 - val_loss: 0.2153 - val_accuracy: 0.9469 - lr: 1.0000e-04\n",
      "Epoch 151/300\n",
      "100/100 [==============================] - 1s 5ms/step - loss: 0.2436 - accuracy: 0.9372 - val_loss: 0.2127 - val_accuracy: 0.9463 - lr: 1.0000e-04\n",
      "Epoch 152/300\n",
      "100/100 [==============================] - 1s 6ms/step - loss: 0.2423 - accuracy: 0.9380 - val_loss: 0.2175 - val_accuracy: 0.9456 - lr: 1.0000e-04\n",
      "Epoch 153/300\n",
      "100/100 [==============================] - 1s 6ms/step - loss: 0.2362 - accuracy: 0.9395 - val_loss: 0.2139 - val_accuracy: 0.9481 - lr: 1.0000e-04\n",
      "Epoch 154/300\n",
      "100/100 [==============================] - 1s 6ms/step - loss: 0.2386 - accuracy: 0.9386 - val_loss: 0.2139 - val_accuracy: 0.9488 - lr: 1.0000e-04\n"
     ]
    }
   ],
   "source": [
    "# Train the model\n",
    "history = model.fit(X_train, y_train, epochs=300, batch_size=64, validation_split=0.2, callbacks=[early_stopping, reduce_lr])"
   ]
  },
  {
   "cell_type": "code",
   "execution_count": 96,
   "metadata": {},
   "outputs": [
    {
     "data": {
      "image/png": "[encoded data removed]",
      "text/plain": [
       "<Figure size 1500x500 with 1 Axes>"
      ]
     },
     "metadata": {},
     "output_type": "display_data"
    }
   ],
   "source": [
    "# Plot training & validation accuracy values\n",
    "plt.figure(figsize=(15, 5))\n",
    "plt.subplot(1, 2, 1)\n",
    "plt.plot(history.history['accuracy'])\n",
    "plt.plot(history.history['val_accuracy'])\n",
    "plt.title('Model accuracy')\n",
    "plt.ylabel('Accuracy')\n",
    "plt.xlabel('Epoch')\n",
    "plt.legend(['Train', 'Validation'], loc='upper left')\n",
    "plt.tight_layout()\n",
    "plt.show()"
   ]
  },
  {
   "cell_type": "code",
   "execution_count": 97,
   "metadata": {},
   "outputs": [
    {
     "name": "stdout",
     "output_type": "stream",
     "text": [
      "63/63 [==============================] - 0s 2ms/step - loss: 0.2316 - accuracy: 0.9430\n",
      "Test Accuracy: 0.9430000185966492\n"
     ]
    }
   ],
   "source": [
    "# Evaluate the model on the test set\n",
    "test_loss, test_acc = model.evaluate(X_test, y_test)\n",
    "print(f'Test Accuracy: {test_acc}')\n"
   ]
  },
  {
   "cell_type": "code",
   "execution_count": 98,
   "metadata": {},
   "outputs": [
    {
     "name": "stdout",
     "output_type": "stream",
     "text": [
      "1/1 [==============================] - ETA: 0s"
     ]
    },
    {
     "name": "stderr",
     "output_type": "stream",
     "text": [
      "C:\\Users\\jawad2019.namal\\AppData\\Roaming\\Python\\Python311\\site-packages\\sklearn\\base.py:464: UserWarning: X does not have valid feature names, but StandardScaler was fitted with feature names\n",
      "  warnings.warn(\n"
     ]
    },
    {
     "name": "stdout",
     "output_type": "stream",
     "text": [
      "1/1 [==============================] - 0s 138ms/step\n",
      "Predicted Label: Healthy\n"
     ]
    }
   ],
   "source": [
    "# Making predictions on new data\n",
    "new_data = [[61.007023, 106.570495, 21.414754, 1]]  # Example data\n",
    "new_data = scaler.transform(new_data)  # Normalize the data\n",
    "predictions = model.predict(new_data)\n",
    "predicted_label = le.inverse_transform([np.argmax(predictions)])  # Convert back to original label\n",
    "print(f'Predicted Label: {predicted_label[0]}')\n"
   ]
  },
  {
   "cell_type": "markdown",
   "metadata": {},
   "source": [
    "### **Model 2: Training a Tuned Logistic Regression Model with Class Weights**"
   ]
  },
  {
   "cell_type": "code",
   "execution_count": 29,
   "metadata": {},
   "outputs": [],
   "source": [
    "from sklearn.linear_model import LogisticRegression"
   ]
  },
  {
   "cell_type": "code",
   "execution_count": 66,
   "metadata": {},
   "outputs": [
    {
     "data": {
      "text/html": [
       "<style>#sk-container-id-18 {color: black;}#sk-container-id-18 pre{padding: 0;}#sk-container-id-18 div.sk-toggleable {background-color: white;}#sk-container-id-18 label.sk-toggleable__label {cursor: pointer;display: block;width: 100%;margin-bottom: 0;padding: 0.3em;box-sizing: border-box;text-align: center;}#sk-container-id-18 label.sk-toggleable__label-arrow:before {content: \"▸\";float: left;margin-right: 0.25em;color: #696969;}#sk-container-id-18 label.sk-toggleable__label-arrow:hover:before {color: black;}#sk-container-id-18 div.sk-estimator:hover label.sk-toggleable__label-arrow:before {color: black;}#sk-container-id-18 div.sk-toggleable__content {max-height: 0;max-width: 0;overflow: hidden;text-align: left;background-color: #f0f8ff;}#sk-container-id-18 div.sk-toggleable__content pre {margin: 0.2em;color: black;border-radius: 0.25em;background-color: #f0f8ff;}#sk-container-id-18 input.sk-toggleable__control:checked~div.sk-toggleable__content {max-height: 200px;max-width: 100%;overflow: auto;}#sk-container-id-18 input.sk-toggleable__control:checked~label.sk-toggleable__label-arrow:before {content: \"▾\";}#sk-container-id-18 div.sk-estimator input.sk-toggleable__control:checked~label.sk-toggleable__label {background-color: #d4ebff;}#sk-container-id-18 div.sk-label input.sk-toggleable__control:checked~label.sk-toggleable__label {background-color: #d4ebff;}#sk-container-id-18 input.sk-hidden--visually {border: 0;clip: rect(1px 1px 1px 1px);clip: rect(1px, 1px, 1px, 1px);height: 1px;margin: -1px;overflow: hidden;padding: 0;position: absolute;width: 1px;}#sk-container-id-18 div.sk-estimator {font-family: monospace;background-color: #f0f8ff;border: 1px dotted black;border-radius: 0.25em;box-sizing: border-box;margin-bottom: 0.5em;}#sk-container-id-18 div.sk-estimator:hover {background-color: #d4ebff;}#sk-container-id-18 div.sk-parallel-item::after {content: \"\";width: 100%;border-bottom: 1px solid gray;flex-grow: 1;}#sk-container-id-18 div.sk-label:hover label.sk-toggleable__label {background-color: #d4ebff;}#sk-container-id-18 div.sk-serial::before {content: \"\";position: absolute;border-left: 1px solid gray;box-sizing: border-box;top: 0;bottom: 0;left: 50%;z-index: 0;}#sk-container-id-18 div.sk-serial {display: flex;flex-direction: column;align-items: center;background-color: white;padding-right: 0.2em;padding-left: 0.2em;position: relative;}#sk-container-id-18 div.sk-item {position: relative;z-index: 1;}#sk-container-id-18 div.sk-parallel {display: flex;align-items: stretch;justify-content: center;background-color: white;position: relative;}#sk-container-id-18 div.sk-item::before, #sk-container-id-18 div.sk-parallel-item::before {content: \"\";position: absolute;border-left: 1px solid gray;box-sizing: border-box;top: 0;bottom: 0;left: 50%;z-index: -1;}#sk-container-id-18 div.sk-parallel-item {display: flex;flex-direction: column;z-index: 1;position: relative;background-color: white;}#sk-container-id-18 div.sk-parallel-item:first-child::after {align-self: flex-end;width: 50%;}#sk-container-id-18 div.sk-parallel-item:last-child::after {align-self: flex-start;width: 50%;}#sk-container-id-18 div.sk-parallel-item:only-child::after {width: 0;}#sk-container-id-18 div.sk-dashed-wrapped {border: 1px dashed gray;margin: 0 0.4em 0.5em 0.4em;box-sizing: border-box;padding-bottom: 0.4em;background-color: white;}#sk-container-id-18 div.sk-label label {font-family: monospace;font-weight: bold;display: inline-block;line-height: 1.2em;}#sk-container-id-18 div.sk-label-container {text-align: center;}#sk-container-id-18 div.sk-container {/* jupyter's `normalize.less` sets `[hidden] { display: none; }` but bootstrap.min.css set `[hidden] { display: none !important; }` so we also need the `!important` here to be able to override the default hidden behavior on the sphinx rendered scikit-learn.org. See: https://github.com/scikit-learn/scikit-learn/issues/21755 */display: inline-block !important;position: relative;}#sk-container-id-18 div.sk-text-repr-fallback {display: none;}</style><div id=\"sk-container-id-18\" class=\"sk-top-container\"><div class=\"sk-text-repr-fallback\"><pre>LogisticRegression(C=100, class_weight={0: 1, 1: 1, 2: 1}, max_iter=5000,\n",
       "                   solver=&#x27;newton-cg&#x27;)</pre><b>In a Jupyter environment, please rerun this cell to show the HTML representation or trust the notebook. <br />On GitHub, the HTML representation is unable to render, please try loading this page with nbviewer.org.</b></div><div class=\"sk-container\" hidden><div class=\"sk-item\"><div class=\"sk-estimator sk-toggleable\"><input class=\"sk-toggleable__control sk-hidden--visually\" id=\"sk-estimator-id-18\" type=\"checkbox\" checked><label for=\"sk-estimator-id-18\" class=\"sk-toggleable__label sk-toggleable__label-arrow\">LogisticRegression</label><div class=\"sk-toggleable__content\"><pre>LogisticRegression(C=100, class_weight={0: 1, 1: 1, 2: 1}, max_iter=5000,\n",
       "                   solver=&#x27;newton-cg&#x27;)</pre></div></div></div></div></div>"
      ],
      "text/plain": [
       "LogisticRegression(C=100, class_weight={0: 1, 1: 1, 2: 1}, max_iter=5000,\n",
       "                   solver='newton-cg')"
      ]
     },
     "execution_count": 66,
     "metadata": {},
     "output_type": "execute_result"
    }
   ],
   "source": [
    "ltuw = LogisticRegression(max_iter=5000,class_weight={0:1,1:1,2:1},C=100,fit_intercept=True,\n",
    "                               penalty='l2',solver='newton-cg')\n",
    "ltuw.fit(X_train, y_train)"
   ]
  },
  {
   "cell_type": "code",
   "execution_count": 67,
   "metadata": {},
   "outputs": [
    {
     "name": "stdout",
     "output_type": "stream",
     "text": [
      "Accuracy Score is: 0.638\n",
      "              precision    recall  f1-score   support\n",
      "\n",
      "           0       0.57      1.00      0.73       652\n",
      "           1       0.68      0.37      0.48       695\n",
      "           2       0.76      0.56      0.64       653\n",
      "\n",
      "    accuracy                           0.64      2000\n",
      "   macro avg       0.67      0.64      0.62      2000\n",
      "weighted avg       0.67      0.64      0.61      2000\n",
      "\n"
     ]
    }
   ],
   "source": [
    "y_pred = ltuw.predict(X_test)\n",
    "acc = accuracy_score(y_test, y_pred)\n",
    "creport = classification_report(y_test, y_pred)\n",
    "print(f'Accuracy Score is: {acc}')\n",
    "print(creport)"
   ]
  },
  {
   "cell_type": "markdown",
   "metadata": {},
   "source": [
    "### **Model 3: Training a Tuned Random Forest Model with Class Weights**"
   ]
  },
  {
   "cell_type": "code",
   "execution_count": 71,
   "metadata": {},
   "outputs": [],
   "source": [
    "from sklearn.ensemble import RandomForestClassifier"
   ]
  },
  {
   "cell_type": "code",
   "execution_count": 73,
   "metadata": {},
   "outputs": [
    {
     "data": {
      "text/html": [
       "<style>#sk-container-id-20 {color: black;}#sk-container-id-20 pre{padding: 0;}#sk-container-id-20 div.sk-toggleable {background-color: white;}#sk-container-id-20 label.sk-toggleable__label {cursor: pointer;display: block;width: 100%;margin-bottom: 0;padding: 0.3em;box-sizing: border-box;text-align: center;}#sk-container-id-20 label.sk-toggleable__label-arrow:before {content: \"▸\";float: left;margin-right: 0.25em;color: #696969;}#sk-container-id-20 label.sk-toggleable__label-arrow:hover:before {color: black;}#sk-container-id-20 div.sk-estimator:hover label.sk-toggleable__label-arrow:before {color: black;}#sk-container-id-20 div.sk-toggleable__content {max-height: 0;max-width: 0;overflow: hidden;text-align: left;background-color: #f0f8ff;}#sk-container-id-20 div.sk-toggleable__content pre {margin: 0.2em;color: black;border-radius: 0.25em;background-color: #f0f8ff;}#sk-container-id-20 input.sk-toggleable__control:checked~div.sk-toggleable__content {max-height: 200px;max-width: 100%;overflow: auto;}#sk-container-id-20 input.sk-toggleable__control:checked~label.sk-toggleable__label-arrow:before {content: \"▾\";}#sk-container-id-20 div.sk-estimator input.sk-toggleable__control:checked~label.sk-toggleable__label {background-color: #d4ebff;}#sk-container-id-20 div.sk-label input.sk-toggleable__control:checked~label.sk-toggleable__label {background-color: #d4ebff;}#sk-container-id-20 input.sk-hidden--visually {border: 0;clip: rect(1px 1px 1px 1px);clip: rect(1px, 1px, 1px, 1px);height: 1px;margin: -1px;overflow: hidden;padding: 0;position: absolute;width: 1px;}#sk-container-id-20 div.sk-estimator {font-family: monospace;background-color: #f0f8ff;border: 1px dotted black;border-radius: 0.25em;box-sizing: border-box;margin-bottom: 0.5em;}#sk-container-id-20 div.sk-estimator:hover {background-color: #d4ebff;}#sk-container-id-20 div.sk-parallel-item::after {content: \"\";width: 100%;border-bottom: 1px solid gray;flex-grow: 1;}#sk-container-id-20 div.sk-label:hover label.sk-toggleable__label {background-color: #d4ebff;}#sk-container-id-20 div.sk-serial::before {content: \"\";position: absolute;border-left: 1px solid gray;box-sizing: border-box;top: 0;bottom: 0;left: 50%;z-index: 0;}#sk-container-id-20 div.sk-serial {display: flex;flex-direction: column;align-items: center;background-color: white;padding-right: 0.2em;padding-left: 0.2em;position: relative;}#sk-container-id-20 div.sk-item {position: relative;z-index: 1;}#sk-container-id-20 div.sk-parallel {display: flex;align-items: stretch;justify-content: center;background-color: white;position: relative;}#sk-container-id-20 div.sk-item::before, #sk-container-id-20 div.sk-parallel-item::before {content: \"\";position: absolute;border-left: 1px solid gray;box-sizing: border-box;top: 0;bottom: 0;left: 50%;z-index: -1;}#sk-container-id-20 div.sk-parallel-item {display: flex;flex-direction: column;z-index: 1;position: relative;background-color: white;}#sk-container-id-20 div.sk-parallel-item:first-child::after {align-self: flex-end;width: 50%;}#sk-container-id-20 div.sk-parallel-item:last-child::after {align-self: flex-start;width: 50%;}#sk-container-id-20 div.sk-parallel-item:only-child::after {width: 0;}#sk-container-id-20 div.sk-dashed-wrapped {border: 1px dashed gray;margin: 0 0.4em 0.5em 0.4em;box-sizing: border-box;padding-bottom: 0.4em;background-color: white;}#sk-container-id-20 div.sk-label label {font-family: monospace;font-weight: bold;display: inline-block;line-height: 1.2em;}#sk-container-id-20 div.sk-label-container {text-align: center;}#sk-container-id-20 div.sk-container {/* jupyter's `normalize.less` sets `[hidden] { display: none; }` but bootstrap.min.css set `[hidden] { display: none !important; }` so we also need the `!important` here to be able to override the default hidden behavior on the sphinx rendered scikit-learn.org. See: https://github.com/scikit-learn/scikit-learn/issues/21755 */display: inline-block !important;position: relative;}#sk-container-id-20 div.sk-text-repr-fallback {display: none;}</style><div id=\"sk-container-id-20\" class=\"sk-top-container\"><div class=\"sk-text-repr-fallback\"><pre>RandomForestClassifier(class_weight={0: 1, 1: 1, 2: 1}, max_depth=6,\n",
       "                       min_samples_split=12, n_estimators=400, n_jobs=-1,\n",
       "                       random_state=1, warm_start=True)</pre><b>In a Jupyter environment, please rerun this cell to show the HTML representation or trust the notebook. <br />On GitHub, the HTML representation is unable to render, please try loading this page with nbviewer.org.</b></div><div class=\"sk-container\" hidden><div class=\"sk-item\"><div class=\"sk-estimator sk-toggleable\"><input class=\"sk-toggleable__control sk-hidden--visually\" id=\"sk-estimator-id-20\" type=\"checkbox\" checked><label for=\"sk-estimator-id-20\" class=\"sk-toggleable__label sk-toggleable__label-arrow\">RandomForestClassifier</label><div class=\"sk-toggleable__content\"><pre>RandomForestClassifier(class_weight={0: 1, 1: 1, 2: 1}, max_depth=6,\n",
       "                       min_samples_split=12, n_estimators=400, n_jobs=-1,\n",
       "                       random_state=1, warm_start=True)</pre></div></div></div></div></div>"
      ],
      "text/plain": [
       "RandomForestClassifier(class_weight={0: 1, 1: 1, 2: 1}, max_depth=6,\n",
       "                       min_samples_split=12, n_estimators=400, n_jobs=-1,\n",
       "                       random_state=1, warm_start=True)"
      ]
     },
     "execution_count": 73,
     "metadata": {},
     "output_type": "execute_result"
    }
   ],
   "source": [
    "rfc_tuned = RandomForestClassifier(random_state=1, n_jobs=-1, class_weight={0:1, 1:1, 2:1}, criterion='gini', max_depth= 6, min_samples_split= 12, n_estimators= 400, warm_start=True)\n",
    "rfc_tuned.fit(X_train, y_train)"
   ]
  },
  {
   "cell_type": "code",
   "execution_count": 74,
   "metadata": {},
   "outputs": [
    {
     "name": "stdout",
     "output_type": "stream",
     "text": [
      "Accuracy Score is: 0.9295\n",
      "              precision    recall  f1-score   support\n",
      "\n",
      "           0       0.89      1.00      0.94       652\n",
      "           1       0.91      0.89      0.90       695\n",
      "           2       1.00      0.90      0.95       653\n",
      "\n",
      "    accuracy                           0.93      2000\n",
      "   macro avg       0.93      0.93      0.93      2000\n",
      "weighted avg       0.93      0.93      0.93      2000\n",
      "\n"
     ]
    }
   ],
   "source": [
    "y_pred = rfc_tuned.predict(X_test)\n",
    "acc = accuracy_score(y_test, y_pred)\n",
    "creport = classification_report(y_test, y_pred)\n",
    "print(f'Accuracy Score is: {acc}')\n",
    "print(creport)"
   ]
  },
  {
   "cell_type": "markdown",
   "metadata": {},
   "source": [
    "### **Model 4: Training a Tuned XGBoost Classifier Model with Class Weights**"
   ]
  },
  {
   "cell_type": "code",
   "execution_count": 76,
   "metadata": {},
   "outputs": [],
   "source": [
    "from xgboost import XGBClassifier"
   ]
  },
  {
   "cell_type": "code",
   "execution_count": 84,
   "metadata": {},
   "outputs": [
    {
     "data": {
      "text/html": [
       "<style>#sk-container-id-24 {color: black;}#sk-container-id-24 pre{padding: 0;}#sk-container-id-24 div.sk-toggleable {background-color: white;}#sk-container-id-24 label.sk-toggleable__label {cursor: pointer;display: block;width: 100%;margin-bottom: 0;padding: 0.3em;box-sizing: border-box;text-align: center;}#sk-container-id-24 label.sk-toggleable__label-arrow:before {content: \"▸\";float: left;margin-right: 0.25em;color: #696969;}#sk-container-id-24 label.sk-toggleable__label-arrow:hover:before {color: black;}#sk-container-id-24 div.sk-estimator:hover label.sk-toggleable__label-arrow:before {color: black;}#sk-container-id-24 div.sk-toggleable__content {max-height: 0;max-width: 0;overflow: hidden;text-align: left;background-color: #f0f8ff;}#sk-container-id-24 div.sk-toggleable__content pre {margin: 0.2em;color: black;border-radius: 0.25em;background-color: #f0f8ff;}#sk-container-id-24 input.sk-toggleable__control:checked~div.sk-toggleable__content {max-height: 200px;max-width: 100%;overflow: auto;}#sk-container-id-24 input.sk-toggleable__control:checked~label.sk-toggleable__label-arrow:before {content: \"▾\";}#sk-container-id-24 div.sk-estimator input.sk-toggleable__control:checked~label.sk-toggleable__label {background-color: #d4ebff;}#sk-container-id-24 div.sk-label input.sk-toggleable__control:checked~label.sk-toggleable__label {background-color: #d4ebff;}#sk-container-id-24 input.sk-hidden--visually {border: 0;clip: rect(1px 1px 1px 1px);clip: rect(1px, 1px, 1px, 1px);height: 1px;margin: -1px;overflow: hidden;padding: 0;position: absolute;width: 1px;}#sk-container-id-24 div.sk-estimator {font-family: monospace;background-color: #f0f8ff;border: 1px dotted black;border-radius: 0.25em;box-sizing: border-box;margin-bottom: 0.5em;}#sk-container-id-24 div.sk-estimator:hover {background-color: #d4ebff;}#sk-container-id-24 div.sk-parallel-item::after {content: \"\";width: 100%;border-bottom: 1px solid gray;flex-grow: 1;}#sk-container-id-24 div.sk-label:hover label.sk-toggleable__label {background-color: #d4ebff;}#sk-container-id-24 div.sk-serial::before {content: \"\";position: absolute;border-left: 1px solid gray;box-sizing: border-box;top: 0;bottom: 0;left: 50%;z-index: 0;}#sk-container-id-24 div.sk-serial {display: flex;flex-direction: column;align-items: center;background-color: white;padding-right: 0.2em;padding-left: 0.2em;position: relative;}#sk-container-id-24 div.sk-item {position: relative;z-index: 1;}#sk-container-id-24 div.sk-parallel {display: flex;align-items: stretch;justify-content: center;background-color: white;position: relative;}#sk-container-id-24 div.sk-item::before, #sk-container-id-24 div.sk-parallel-item::before {content: \"\";position: absolute;border-left: 1px solid gray;box-sizing: border-box;top: 0;bottom: 0;left: 50%;z-index: -1;}#sk-container-id-24 div.sk-parallel-item {display: flex;flex-direction: column;z-index: 1;position: relative;background-color: white;}#sk-container-id-24 div.sk-parallel-item:first-child::after {align-self: flex-end;width: 50%;}#sk-container-id-24 div.sk-parallel-item:last-child::after {align-self: flex-start;width: 50%;}#sk-container-id-24 div.sk-parallel-item:only-child::after {width: 0;}#sk-container-id-24 div.sk-dashed-wrapped {border: 1px dashed gray;margin: 0 0.4em 0.5em 0.4em;box-sizing: border-box;padding-bottom: 0.4em;background-color: white;}#sk-container-id-24 div.sk-label label {font-family: monospace;font-weight: bold;display: inline-block;line-height: 1.2em;}#sk-container-id-24 div.sk-label-container {text-align: center;}#sk-container-id-24 div.sk-container {/* jupyter's `normalize.less` sets `[hidden] { display: none; }` but bootstrap.min.css set `[hidden] { display: none !important; }` so we also need the `!important` here to be able to override the default hidden behavior on the sphinx rendered scikit-learn.org. See: https://github.com/scikit-learn/scikit-learn/issues/21755 */display: inline-block !important;position: relative;}#sk-container-id-24 div.sk-text-repr-fallback {display: none;}</style><div id=\"sk-container-id-24\" class=\"sk-top-container\"><div class=\"sk-text-repr-fallback\"><pre>XGBClassifier(base_score=None, booster=&#x27;dart&#x27;, callbacks=None,\n",
       "              colsample_bylevel=None, colsample_bynode=None,\n",
       "              colsample_bytree=None, device=None, early_stopping_rounds=None,\n",
       "              enable_categorical=False, eta=0.01, eval_metric=&#x27;logloss&#x27;,\n",
       "              feature_types=None, gamma=None, grow_policy=None,\n",
       "              importance_type=None, interaction_constraints=None,\n",
       "              learning_rate=None, max_bin=None, max_cat_threshold=None,\n",
       "              max_cat_to_onehot=None, max_delta_step=None, max_depth=3,\n",
       "              max_leaves=None, min_child_weight=None, missing=nan,\n",
       "              monotone_constraints=None, multi_strategy=None, n_estimators=150,\n",
       "              n_jobs=None, num_parallel_tree=None, ...)</pre><b>In a Jupyter environment, please rerun this cell to show the HTML representation or trust the notebook. <br />On GitHub, the HTML representation is unable to render, please try loading this page with nbviewer.org.</b></div><div class=\"sk-container\" hidden><div class=\"sk-item\"><div class=\"sk-estimator sk-toggleable\"><input class=\"sk-toggleable__control sk-hidden--visually\" id=\"sk-estimator-id-24\" type=\"checkbox\" checked><label for=\"sk-estimator-id-24\" class=\"sk-toggleable__label sk-toggleable__label-arrow\">XGBClassifier</label><div class=\"sk-toggleable__content\"><pre>XGBClassifier(base_score=None, booster=&#x27;dart&#x27;, callbacks=None,\n",
       "              colsample_bylevel=None, colsample_bynode=None,\n",
       "              colsample_bytree=None, device=None, early_stopping_rounds=None,\n",
       "              enable_categorical=False, eta=0.01, eval_metric=&#x27;logloss&#x27;,\n",
       "              feature_types=None, gamma=None, grow_policy=None,\n",
       "              importance_type=None, interaction_constraints=None,\n",
       "              learning_rate=None, max_bin=None, max_cat_threshold=None,\n",
       "              max_cat_to_onehot=None, max_delta_step=None, max_depth=3,\n",
       "              max_leaves=None, min_child_weight=None, missing=nan,\n",
       "              monotone_constraints=None, multi_strategy=None, n_estimators=150,\n",
       "              n_jobs=None, num_parallel_tree=None, ...)</pre></div></div></div></div></div>"
      ],
      "text/plain": [
       "XGBClassifier(base_score=None, booster='dart', callbacks=None,\n",
       "              colsample_bylevel=None, colsample_bynode=None,\n",
       "              colsample_bytree=None, device=None, early_stopping_rounds=None,\n",
       "              enable_categorical=False, eta=0.01, eval_metric='logloss',\n",
       "              feature_types=None, gamma=None, grow_policy=None,\n",
       "              importance_type=None, interaction_constraints=None,\n",
       "              learning_rate=None, max_bin=None, max_cat_threshold=None,\n",
       "              max_cat_to_onehot=None, max_delta_step=None, max_depth=3,\n",
       "              max_leaves=None, min_child_weight=None, missing=nan,\n",
       "              monotone_constraints=None, multi_strategy=None, n_estimators=150,\n",
       "              n_jobs=None, num_parallel_tree=None, ...)"
      ]
     },
     "execution_count": 84,
     "metadata": {},
     "output_type": "execute_result"
    }
   ],
   "source": [
    "xgb_tuned = XGBClassifier(eval_metric = 'logloss', seed =0, \n",
    "               objective='binary:logistic',  booster='dart',\n",
    "              eta=0.01, max_depth=3, n_estimators=150)\n",
    "xgb_tuned.fit(X_train, y_train)"
   ]
  },
  {
   "cell_type": "code",
   "execution_count": 85,
   "metadata": {},
   "outputs": [
    {
     "name": "stdout",
     "output_type": "stream",
     "text": [
      "Accuracy Score is: 0.859\n",
      "              precision    recall  f1-score   support\n",
      "\n",
      "           0       0.76      1.00      0.86       652\n",
      "           1       0.87      0.74      0.80       695\n",
      "           2       1.00      0.85      0.92       653\n",
      "\n",
      "    accuracy                           0.86      2000\n",
      "   macro avg       0.88      0.86      0.86      2000\n",
      "weighted avg       0.88      0.86      0.86      2000\n",
      "\n"
     ]
    }
   ],
   "source": [
    "y_pred = xgb_tuned.predict(X_test)\n",
    "acc = accuracy_score(y_test, y_pred)\n",
    "creport = classification_report(y_test, y_pred)\n",
    "print(f'Accuracy Score is: {acc}')\n",
    "print(creport)"
   ]
  },
  {
   "cell_type": "code",
   "execution_count": null,
   "metadata": {},
   "outputs": [],
   "source": []
  }
 ],
 "metadata": {
  "kernelspec": {
   "display_name": "Python 3",
   "language": "python",
   "name": "python3"
  },
  "language_info": {
   "codemirror_mode": {
    "name": "ipython",
    "version": 3
   },
   "file_extension": ".py",
   "mimetype": "text/x-python",
   "name": "python",
   "nbconvert_exporter": "python",
   "pygments_lexer": "ipython3",
   "version": "3.11.4"
  },
  "orig_nbformat": 4
 },
 "nbformat": 4,
 "nbformat_minor": 2
}
