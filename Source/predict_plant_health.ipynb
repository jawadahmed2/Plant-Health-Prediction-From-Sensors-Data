{
 "cells": [
  {
   "cell_type": "code",
   "execution_count": 2,
   "metadata": {},
   "outputs": [],
   "source": [
    "# Import Required Libraries\n",
    "import pandas as pd\n",
    "import random"
   ]
  },
  {
   "cell_type": "code",
   "execution_count": 5,
   "metadata": {},
   "outputs": [],
   "source": [
    "# Number of data points\n",
    "n = 10000\n",
    "\n",
    "# Simulate data collection\n",
    "def generate_data(n):\n",
    "    data = {\n",
    "        'Humidity (%)': [random.uniform(0, 100) for _ in range(n)],\n",
    "        'Nitrogen Levels (mg/kg)': [random.uniform(0, 200) for _ in range(n)],\n",
    "        'Ambient Temperature (°C)': [random.uniform(-10, 40) for _ in range(n)],\n",
    "        'Presence of Sunlight': [random.choice([0, 1]) for _ in range(n)],\n",
    "        'Plant Health': []\n",
    "    }\n",
    "    \n",
    "    # A simple rule-based approach to determine plant health based on the simulated data\n",
    "    for i in range(n):\n",
    "        if (50 <= data['Humidity (%)'][i] <= 70) and (100 <= data['Nitrogen Levels (mg/kg)'][i] <= 150) and (15 <= data['Ambient Temperature (°C)'][i] <= 25) and data['Presence of Sunlight'][i] == 1:\n",
    "            data['Plant Health'].append('Healthy')\n",
    "        elif (40 <= data['Humidity (%)'][i] <= 80) and (80 <= data['Nitrogen Levels (mg/kg)'][i] <= 170) and (10 <= data['Ambient Temperature (°C)'][i] <= 30):\n",
    "            data['Plant Health'].append('Moderate')\n",
    "        else:\n",
    "            data['Plant Health'].append('Unhealthy')\n",
    "    \n",
    "    return pd.DataFrame(data)\n",
    "\n",
    "# Generate dataset\n",
    "df = generate_data(n)\n",
    "\n",
    "# Save to CSV\n",
    "df.to_csv('plant_health_dataset.csv', index=False)\n"
   ]
  },
  {
   "cell_type": "code",
   "execution_count": 6,
   "metadata": {},
   "outputs": [
    {
     "data": {
      "text/html": [
       "<div>\n",
       "<style scoped>\n",
       "    .dataframe tbody tr th:only-of-type {\n",
       "        vertical-align: middle;\n",
       "    }\n",
       "\n",
       "    .dataframe tbody tr th {\n",
       "        vertical-align: top;\n",
       "    }\n",
       "\n",
       "    .dataframe thead th {\n",
       "        text-align: right;\n",
       "    }\n",
       "</style>\n",
       "<table border=\"1\" class=\"dataframe\">\n",
       "  <thead>\n",
       "    <tr style=\"text-align: right;\">\n",
       "      <th></th>\n",
       "      <th>Humidity (%)</th>\n",
       "      <th>Nitrogen Levels (mg/kg)</th>\n",
       "      <th>Ambient Temperature (°C)</th>\n",
       "      <th>Presence of Sunlight</th>\n",
       "      <th>Plant Health</th>\n",
       "    </tr>\n",
       "  </thead>\n",
       "  <tbody>\n",
       "    <tr>\n",
       "      <th>0</th>\n",
       "      <td>37.487489</td>\n",
       "      <td>79.049495</td>\n",
       "      <td>5.336299</td>\n",
       "      <td>0</td>\n",
       "      <td>Unhealthy</td>\n",
       "    </tr>\n",
       "    <tr>\n",
       "      <th>1</th>\n",
       "      <td>29.273504</td>\n",
       "      <td>20.328702</td>\n",
       "      <td>39.486602</td>\n",
       "      <td>0</td>\n",
       "      <td>Unhealthy</td>\n",
       "    </tr>\n",
       "    <tr>\n",
       "      <th>2</th>\n",
       "      <td>8.165586</td>\n",
       "      <td>70.341813</td>\n",
       "      <td>-1.484463</td>\n",
       "      <td>1</td>\n",
       "      <td>Unhealthy</td>\n",
       "    </tr>\n",
       "    <tr>\n",
       "      <th>3</th>\n",
       "      <td>35.961232</td>\n",
       "      <td>61.570803</td>\n",
       "      <td>16.185644</td>\n",
       "      <td>1</td>\n",
       "      <td>Unhealthy</td>\n",
       "    </tr>\n",
       "    <tr>\n",
       "      <th>4</th>\n",
       "      <td>1.398062</td>\n",
       "      <td>180.731597</td>\n",
       "      <td>-4.244504</td>\n",
       "      <td>0</td>\n",
       "      <td>Unhealthy</td>\n",
       "    </tr>\n",
       "  </tbody>\n",
       "</table>\n",
       "</div>"
      ],
      "text/plain": [
       "   Humidity (%)  Nitrogen Levels (mg/kg)  Ambient Temperature (°C)  \\\n",
       "0     37.487489                79.049495                  5.336299   \n",
       "1     29.273504                20.328702                 39.486602   \n",
       "2      8.165586                70.341813                 -1.484463   \n",
       "3     35.961232                61.570803                 16.185644   \n",
       "4      1.398062               180.731597                 -4.244504   \n",
       "\n",
       "   Presence of Sunlight Plant Health  \n",
       "0                     0    Unhealthy  \n",
       "1                     0    Unhealthy  \n",
       "2                     1    Unhealthy  \n",
       "3                     1    Unhealthy  \n",
       "4                     0    Unhealthy  "
      ]
     },
     "execution_count": 6,
     "metadata": {},
     "output_type": "execute_result"
    }
   ],
   "source": [
    "df.head()"
   ]
  },
  {
   "cell_type": "code",
   "execution_count": null,
   "metadata": {},
   "outputs": [],
   "source": []
  }
 ],
 "metadata": {
  "kernelspec": {
   "display_name": "Python 3",
   "language": "python",
   "name": "python3"
  },
  "language_info": {
   "codemirror_mode": {
    "name": "ipython",
    "version": 3
   },
   "file_extension": ".py",
   "mimetype": "text/x-python",
   "name": "python",
   "nbconvert_exporter": "python",
   "pygments_lexer": "ipython3",
   "version": "3.11.4"
  },
  "orig_nbformat": 4
 },
 "nbformat": 4,
 "nbformat_minor": 2
}
